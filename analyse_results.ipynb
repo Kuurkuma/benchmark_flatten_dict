{
 "cells": [
  {
   "cell_type": "markdown",
   "id": "994c4cc1",
   "metadata": {},
   "source": [
    "# Analyse results of benchmark\n",
    "\n",
    "And because i love it, we will do it using SQL & duckdb, yeah!"
   ]
  },
  {
   "cell_type": "code",
   "execution_count": 1,
   "id": "b8ded69f",
   "metadata": {},
   "outputs": [],
   "source": [
    "import duckdb\n",
    "import pandas as pd\n",
    "import plotly.express as px\n",
    "import seaborn"
   ]
  },
  {
   "cell_type": "code",
   "execution_count": 2,
   "id": "b0ea137e",
   "metadata": {},
   "outputs": [
    {
     "data": {
      "text/plain": [
       "┌─────────────┬─────────────────────────┬──────────────┬──────────────┐\n",
       "│ num_players │        function         │  time_in_s   │ memory_in_mb │\n",
       "│    int64    │         varchar         │    double    │    double    │\n",
       "├─────────────┼─────────────────────────┼──────────────┼──────────────┤\n",
       "│          23 │ pandas_flatten          │   0.00797825 │     0.117009 │\n",
       "│          23 │ manual_flatten          │   0.00052525 │     0.020264 │\n",
       "│          23 │ generator_flatten       │  0.000573125 │     0.038011 │\n",
       "│          23 │ unpack_operator_flatten │   3.8083e-05 │     0.019464 │\n",
       "│          23 │ flatdict_flatten        │  0.005893792 │     0.066489 │\n",
       "│          23 │ dlt_flatten             │  0.247817834 │     3.737361 │\n",
       "│         100 │ pandas_flatten          │  0.011148958 │     0.404842 │\n",
       "│         100 │ manual_flatten          │  0.002056917 │        0.085 │\n",
       "│         100 │ generator_flatten       │  0.001848416 │     0.095168 │\n",
       "│         100 │ unpack_operator_flatten │  0.000132291 │       0.0842 │\n",
       "│          ·  │         ·               │       ·      │          ·   │\n",
       "│          ·  │         ·               │       ·      │          ·   │\n",
       "│          ·  │         ·               │       ·      │          ·   │\n",
       "│       10000 │ generator_flatten       │  0.186580666 │     8.416224 │\n",
       "│       10000 │ unpack_operator_flatten │  0.012166459 │     8.405256 │\n",
       "│       10000 │ flatdict_flatten        │  2.430822209 │    18.978016 │\n",
       "│       10000 │ dlt_flatten             │  2.322297875 │     7.845485 │\n",
       "│      100000 │ pandas_flatten          │ 12.962179625 │   366.539026 │\n",
       "│      100000 │ manual_flatten          │  2.126534375 │    84.001864 │\n",
       "│      100000 │ generator_flatten       │  1.852648666 │    84.012032 │\n",
       "│      100000 │ unpack_operator_flatten │  0.132211208 │    84.001064 │\n",
       "│      100000 │ flatdict_flatten        │ 24.256251291 │   189.523848 │\n",
       "│      100000 │ dlt_flatten             │ 22.349448792 │    77.691868 │\n",
       "├─────────────┴─────────────────────────┴──────────────┴──────────────┤\n",
       "│ 30 rows (20 shown)                                        4 columns │\n",
       "└─────────────────────────────────────────────────────────────────────┘"
      ]
     },
     "execution_count": 2,
     "metadata": {},
     "output_type": "execute_result"
    }
   ],
   "source": [
    "all_data = duckdb.sql(\"FROM read_json('./data/benchmark_results.json');\")\n",
    "all_data"
   ]
  },
  {
   "cell_type": "code",
   "execution_count": 3,
   "id": "1c9edde1",
   "metadata": {},
   "outputs": [
    {
     "data": {
      "text/plain": [
       "┌─────────────────────────┬───────────────┬──────────────────┬──────────────────┐\n",
       "│        function         │ avg_time_in_s │ avg_memory_in_mb │ max_memory_in_mb │\n",
       "│         varchar         │    double     │      double      │      double      │\n",
       "├─────────────────────────┼───────────────┼──────────────────┼──────────────────┤\n",
       "│ dlt_flatten             │        5.0462 │          18.0581 │          77.6919 │\n",
       "│ unpack_operator_flatten │        0.0292 │          18.6702 │          84.0011 │\n",
       "│ manual_flatten          │        0.4723 │           18.671 │          84.0019 │\n",
       "│ generator_flatten       │        0.4121 │          18.6827 │           84.012 │\n",
       "│ flatdict_flatten        │        5.3928 │          42.1399 │         189.5238 │\n",
       "│ pandas_flatten          │        2.8826 │          81.4916 │          366.539 │\n",
       "└─────────────────────────┴───────────────┴──────────────────┴──────────────────┘"
      ]
     },
     "execution_count": 3,
     "metadata": {},
     "output_type": "execute_result"
    }
   ],
   "source": [
    "duckdb.sql(f\"\"\"\n",
    "SELECT \n",
    "    function,\n",
    "    round(avg(time_in_s),4) as avg_time_in_s,\n",
    "    round(avg(memory_in_mb), 4) as avg_memory_in_mb,\n",
    "    round(max(memory_in_mb), 4) as max_memory_in_mb\n",
    "FROM read_json('data/benchmark_results.json')\n",
    "GROUP BY ALL\n",
    "ORDER BY max_memory_in_mb \n",
    "\"\"\")"
   ]
  },
  {
   "cell_type": "code",
   "execution_count": 4,
   "id": "c8fdaa32",
   "metadata": {},
   "outputs": [
    {
     "data": {
      "text/plain": [
       "┌─────────────────────────┬───────────────┬──────────────────┬─────────────────────┐\n",
       "│        function         │ avg_time_in_s │ avg_memory_in_mb │ median_memory_in_mb │\n",
       "│         varchar         │    double     │      double      │       double        │\n",
       "├─────────────────────────┼───────────────┼──────────────────┼─────────────────────┤\n",
       "│ unpack_operator_flatten │        0.0292 │          18.6702 │              0.8409 │\n",
       "│ manual_flatten          │        0.4723 │           18.671 │              0.8417 │\n",
       "│ generator_flatten       │        0.4121 │          18.6827 │              0.8519 │\n",
       "│ flatdict_flatten        │        5.3928 │          42.1399 │              1.9187 │\n",
       "│ pandas_flatten          │        2.8826 │          81.4916 │               3.704 │\n",
       "│ dlt_flatten             │        5.0462 │          18.0581 │              3.7374 │\n",
       "└─────────────────────────┴───────────────┴──────────────────┴─────────────────────┘"
      ]
     },
     "execution_count": 4,
     "metadata": {},
     "output_type": "execute_result"
    }
   ],
   "source": [
    "duckdb.sql(\"\"\"\n",
    "SELECT \n",
    "    function,\n",
    "    round(avg(time_in_s),4) as avg_time_in_s,\n",
    "    round(avg(memory_in_mb), 4) as avg_memory_in_mb,\n",
    "    round(median(memory_in_mb), 4) as median_memory_in_mb\n",
    "FROM read_json('data/benchmark_results.json')\n",
    "GROUP BY 1\n",
    "ORDER BY median_memory_in_mb \n",
    "\"\"\")"
   ]
  },
  {
   "cell_type": "code",
   "execution_count": 15,
   "id": "461877d4",
   "metadata": {},
   "outputs": [
    {
     "data": {
      "text/plain": [
       "┌─────────────┬─────────────────────────┬─────────────┬──────────────┬───────────────────────┐\n",
       "│ num_players │        function         │  min_time   │   max_time   │     avg_time_in_s     │\n",
       "│    int64    │         varchar         │   double    │    double    │        double         │\n",
       "├─────────────┼─────────────────────────┼─────────────┼──────────────┼───────────────────────┤\n",
       "│      100000 │ flatdict_flatten        │ 0.132211208 │ 24.256251291 │    10.613212326166666 │\n",
       "│      100000 │ dlt_flatten             │ 0.132211208 │ 22.349448792 │     7.884604533199999 │\n",
       "│      100000 │ pandas_flatten          │ 0.132211208 │ 12.962179625 │     4.268393468499999 │\n",
       "│       10000 │ flatdict_flatten        │ 0.012166459 │  2.430822209 │    1.0793975001666667 │\n",
       "│       10000 │ dlt_flatten             │ 0.012166459 │  2.322297875 │    0.8091125584000001 │\n",
       "│      100000 │ manual_flatten          │ 0.132211208 │  2.126534375 │    1.3704647496666666 │\n",
       "│      100000 │ generator_flatten       │ 0.132211208 │  1.852648666 │           0.992429937 │\n",
       "│       10000 │ pandas_flatten          │ 0.012166459 │  1.312865167 │         0.43081622925 │\n",
       "│        1000 │ dlt_flatten             │ 0.001350375 │    0.2569915 │   0.11048753483333333 │\n",
       "│          23 │ dlt_flatten             │  3.8083e-05 │  0.247817834 │           0.043804389 │\n",
       "│           · │      ·                  │       ·     │       ·      │                ·      │\n",
       "│           · │      ·                  │       ·     │       ·      │                ·      │\n",
       "│           · │      ·                  │       ·     │       ·      │                ·      │\n",
       "│         100 │ pandas_flatten          │ 0.000132291 │  0.011148958 │          0.0037966455 │\n",
       "│          23 │ pandas_flatten          │  3.8083e-05 │   0.00797825 │             0.0030017 │\n",
       "│          23 │ flatdict_flatten        │  3.8083e-05 │  0.005893792 │          0.0017575625 │\n",
       "│         100 │ manual_flatten          │ 0.000132291 │  0.002056917 │ 0.0013458746666666667 │\n",
       "│         100 │ generator_flatten       │ 0.000132291 │  0.001848416 │          0.0009903535 │\n",
       "│        1000 │ unpack_operator_flatten │ 0.001350375 │  0.001350375 │           0.001350375 │\n",
       "│          23 │ generator_flatten       │  3.8083e-05 │  0.000573125 │ 0.0003788193333333333 │\n",
       "│          23 │ manual_flatten          │  3.8083e-05 │   0.00052525 │          0.0002816665 │\n",
       "│         100 │ unpack_operator_flatten │ 0.000132291 │  0.000132291 │           0.000132291 │\n",
       "│          23 │ unpack_operator_flatten │  3.8083e-05 │   3.8083e-05 │            3.8083e-05 │\n",
       "├─────────────┴─────────────────────────┴─────────────┴──────────────┴───────────────────────┤\n",
       "│ 30 rows (20 shown)                                                               5 columns │\n",
       "└────────────────────────────────────────────────────────────────────────────────────────────┘"
      ]
     },
     "execution_count": 15,
     "metadata": {},
     "output_type": "execute_result"
    }
   ],
   "source": [
    "duckdb.sql(\"\"\"\n",
    "SELECT \n",
    "    num_players,\n",
    "    function,\n",
    "    min(time_in_s) OVER(PARTITION BY num_players ORDER BY time_in_s ) as min_time,\n",
    "    max(time_in_s) OVER(PARTITION BY num_players ORDER BY time_in_s ) as max_time,\n",
    "    avg(time_in_s) OVER(PARTITION BY num_players ORDER BY time_in_s ) as avg_time_in_s,\n",
    "FROM read_json('data/benchmark_results.json')\n",
    "ORDER BY max_time DESC;\n",
    "\"\"\")"
   ]
  },
  {
   "cell_type": "markdown",
   "id": "f0fd57b2",
   "metadata": {},
   "source": [
    "# Visualizations"
   ]
  },
  {
   "cell_type": "code",
   "execution_count": 14,
   "id": "872b8f09",
   "metadata": {},
   "outputs": [
    {
     "name": "stdout",
     "output_type": "stream",
     "text": [
      "<class 'pandas.core.frame.DataFrame'>\n"
     ]
    },
    {
     "data": {
      "text/plain": [
       "['num_players', 'function', 'time_in_s', 'memory_in_mb']"
      ]
     },
     "execution_count": 14,
     "metadata": {},
     "output_type": "execute_result"
    }
   ],
   "source": [
    "df = all_data.df()\n",
    "print(type(df))\n",
    "all_data.columns"
   ]
  },
  {
   "cell_type": "code",
   "execution_count": null,
   "id": "e732cb9e",
   "metadata": {},
   "outputs": [
    {
     "data": {
      "application/vnd.plotly.v1+json": {
       "config": {
        "plotlyServerURL": "https://plot.ly"
       },
       "data": [
        {
         "hovertemplate": "function=pandas_flatten<br>time_in_s=%{x}<br>memory_in_mb=%{y}<extra></extra>",
         "legendgroup": "pandas_flatten",
         "marker": {
          "color": "#636efa",
          "symbol": "circle"
         },
         "mode": "markers",
         "name": "pandas_flatten",
         "orientation": "h",
         "showlegend": true,
         "type": "scatter",
         "x": {
          "bdata": "VG6iluZWgD+osPTPQ9WGPyNHtMlTab4/SCnF534B9T9NgczOouwpQA==",
          "dtype": "f8"
         },
         "xaxis": "x",
         "y": {
          "bdata": "JnFWRE30vT/ZBYNr7ujZP9VcbjDUoQ1AU14robtYQkAZG7rZn+h2QA==",
          "dtype": "f8"
         },
         "yaxis": "y"
        },
        {
         "hovertemplate": "function=manual_flatten<br>time_in_s=%{x}<br>memory_in_mb=%{y}<extra></extra>",
         "legendgroup": "manual_flatten",
         "marker": {
          "color": "#EF553B",
          "symbol": "circle"
         },
         "mode": "markers",
         "name": "manual_flatten",
         "orientation": "h",
         "showlegend": true,
         "type": "scatter",
         "x": {
          "bdata": "06I+yR02QT8U2NvnqtlgP2QJvKrrBJU/G2g+524Xyz/zjlN0JAMBQA==",
          "dtype": "f8"
         },
         "xaxis": "x",
         "y": {
          "bdata": "7wIlBRbAlD/D9Shcj8K1Pxi1+1WA7+o/bLBwkubPIECLwi6KHgBVQA==",
          "dtype": "f8"
         },
         "yaxis": "y"
        },
        {
         "hovertemplate": "function=generator_flatten<br>time_in_s=%{x}<br>memory_in_mb=%{y}<extra></extra>",
         "legendgroup": "generator_flatten",
         "marker": {
          "color": "#00cc96",
          "symbol": "circle"
         },
         "mode": "markers",
         "name": "generator_flatten",
         "orientation": "h",
         "showlegend": true,
         "type": "scatter",
         "x": {
          "bdata": "uaXVkLjHQj+n5j2R0UheP26JXHAGf5M/WJhEEeDhxz8fK3ftcqT9Pw==",
          "dtype": "f8"
         },
         "xaxis": "x",
         "y": {
          "bdata": "fsnGgy12oz+2L6AX7ly4P1acai3MQus/4J7nTxvVIEBaoN0hxQBVQA==",
          "dtype": "f8"
         },
         "yaxis": "y"
        },
        {
         "hovertemplate": "function=unpack_operator_flatten<br>time_in_s=%{x}<br>memory_in_mb=%{y}<extra></extra>",
         "legendgroup": "unpack_operator_flatten",
         "marker": {
          "color": "#ab63fa",
          "symbol": "circle"
         },
         "mode": "markers",
         "name": "unpack_operator_flatten",
         "orientation": "h",
         "showlegend": true,
         "type": "scatter",
         "x": {
          "bdata": "R5OQ6mn3Az8ND4AJ81YhP7zplh3iH1Y/NeEafLrqiD/ZJ0P/S+zAPw==",
          "dtype": "f8"
         },
         "xaxis": "x",
         "y": {
          "bdata": "1SDM7V7ukz88vVKWIY61PwfuQJ3y6Oo/+wPltn3PIED9TL1uEQBVQA==",
          "dtype": "f8"
         },
         "yaxis": "y"
        },
        {
         "hovertemplate": "function=flatdict_flatten<br>time_in_s=%{x}<br>memory_in_mb=%{y}<extra></extra>",
         "legendgroup": "flatdict_flatten",
         "marker": {
          "color": "#FFA15A",
          "symbol": "circle"
         },
         "mode": "markers",
         "name": "flatdict_flatten",
         "orientation": "h",
         "showlegend": true,
         "type": "scatter",
         "x": {
          "bdata": "Nhc7vhYkeD+oAj/B/TSZP9x6x9U6hM8/I10Q6lJyA0AdZ0KvmUE4QA==",
          "dtype": "f8"
         },
         "xaxis": "x",
         "y": {
          "bdata": "zzKLUGwFsT/9pNqn4zHLP810r5P6sv4/+fauQV/6MkBmguFcw7BnQA==",
          "dtype": "f8"
         },
         "yaxis": "y"
        },
        {
         "hovertemplate": "function=dlt_flatten<br>time_in_s=%{x}<br>memory_in_mb=%{y}<extra></extra>",
         "legendgroup": "dlt_flatten",
         "marker": {
          "color": "#19d3f3",
          "symbol": "circle"
         },
         "mode": "markers",
         "name": "dlt_flatten",
         "orientation": "h",
         "showlegend": true,
         "type": "scatter",
         "x": {
          "bdata": "m6Eyqn64zz/7hKfoLNmrPyNm9nmMctA/94+F6BCUAkBHRN15dVk2QA==",
          "dtype": "f8"
         },
         "xaxis": "x",
         "y": {
          "bdata": "UMQihh3mDUCk4ZS5+UbEP1th+l5DcOs/xAjh0cZhH0CISbiQR2xTQA==",
          "dtype": "f8"
         },
         "yaxis": "y"
        }
       ],
       "layout": {
        "legend": {
         "title": {
          "text": "function"
         },
         "tracegroupgap": 0
        },
        "margin": {
         "t": 60
        },
        "template": {
         "data": {
          "bar": [
           {
            "error_x": {
             "color": "#f2f5fa"
            },
            "error_y": {
             "color": "#f2f5fa"
            },
            "marker": {
             "line": {
              "color": "rgb(17,17,17)",
              "width": 0.5
             },
             "pattern": {
              "fillmode": "overlay",
              "size": 10,
              "solidity": 0.2
             }
            },
            "type": "bar"
           }
          ],
          "barpolar": [
           {
            "marker": {
             "line": {
              "color": "rgb(17,17,17)",
              "width": 0.5
             },
             "pattern": {
              "fillmode": "overlay",
              "size": 10,
              "solidity": 0.2
             }
            },
            "type": "barpolar"
           }
          ],
          "carpet": [
           {
            "aaxis": {
             "endlinecolor": "#A2B1C6",
             "gridcolor": "#506784",
             "linecolor": "#506784",
             "minorgridcolor": "#506784",
             "startlinecolor": "#A2B1C6"
            },
            "baxis": {
             "endlinecolor": "#A2B1C6",
             "gridcolor": "#506784",
             "linecolor": "#506784",
             "minorgridcolor": "#506784",
             "startlinecolor": "#A2B1C6"
            },
            "type": "carpet"
           }
          ],
          "choropleth": [
           {
            "colorbar": {
             "outlinewidth": 0,
             "ticks": ""
            },
            "type": "choropleth"
           }
          ],
          "contour": [
           {
            "colorbar": {
             "outlinewidth": 0,
             "ticks": ""
            },
            "colorscale": [
             [
              0,
              "#0d0887"
             ],
             [
              0.1111111111111111,
              "#46039f"
             ],
             [
              0.2222222222222222,
              "#7201a8"
             ],
             [
              0.3333333333333333,
              "#9c179e"
             ],
             [
              0.4444444444444444,
              "#bd3786"
             ],
             [
              0.5555555555555556,
              "#d8576b"
             ],
             [
              0.6666666666666666,
              "#ed7953"
             ],
             [
              0.7777777777777778,
              "#fb9f3a"
             ],
             [
              0.8888888888888888,
              "#fdca26"
             ],
             [
              1,
              "#f0f921"
             ]
            ],
            "type": "contour"
           }
          ],
          "contourcarpet": [
           {
            "colorbar": {
             "outlinewidth": 0,
             "ticks": ""
            },
            "type": "contourcarpet"
           }
          ],
          "heatmap": [
           {
            "colorbar": {
             "outlinewidth": 0,
             "ticks": ""
            },
            "colorscale": [
             [
              0,
              "#0d0887"
             ],
             [
              0.1111111111111111,
              "#46039f"
             ],
             [
              0.2222222222222222,
              "#7201a8"
             ],
             [
              0.3333333333333333,
              "#9c179e"
             ],
             [
              0.4444444444444444,
              "#bd3786"
             ],
             [
              0.5555555555555556,
              "#d8576b"
             ],
             [
              0.6666666666666666,
              "#ed7953"
             ],
             [
              0.7777777777777778,
              "#fb9f3a"
             ],
             [
              0.8888888888888888,
              "#fdca26"
             ],
             [
              1,
              "#f0f921"
             ]
            ],
            "type": "heatmap"
           }
          ],
          "histogram": [
           {
            "marker": {
             "pattern": {
              "fillmode": "overlay",
              "size": 10,
              "solidity": 0.2
             }
            },
            "type": "histogram"
           }
          ],
          "histogram2d": [
           {
            "colorbar": {
             "outlinewidth": 0,
             "ticks": ""
            },
            "colorscale": [
             [
              0,
              "#0d0887"
             ],
             [
              0.1111111111111111,
              "#46039f"
             ],
             [
              0.2222222222222222,
              "#7201a8"
             ],
             [
              0.3333333333333333,
              "#9c179e"
             ],
             [
              0.4444444444444444,
              "#bd3786"
             ],
             [
              0.5555555555555556,
              "#d8576b"
             ],
             [
              0.6666666666666666,
              "#ed7953"
             ],
             [
              0.7777777777777778,
              "#fb9f3a"
             ],
             [
              0.8888888888888888,
              "#fdca26"
             ],
             [
              1,
              "#f0f921"
             ]
            ],
            "type": "histogram2d"
           }
          ],
          "histogram2dcontour": [
           {
            "colorbar": {
             "outlinewidth": 0,
             "ticks": ""
            },
            "colorscale": [
             [
              0,
              "#0d0887"
             ],
             [
              0.1111111111111111,
              "#46039f"
             ],
             [
              0.2222222222222222,
              "#7201a8"
             ],
             [
              0.3333333333333333,
              "#9c179e"
             ],
             [
              0.4444444444444444,
              "#bd3786"
             ],
             [
              0.5555555555555556,
              "#d8576b"
             ],
             [
              0.6666666666666666,
              "#ed7953"
             ],
             [
              0.7777777777777778,
              "#fb9f3a"
             ],
             [
              0.8888888888888888,
              "#fdca26"
             ],
             [
              1,
              "#f0f921"
             ]
            ],
            "type": "histogram2dcontour"
           }
          ],
          "mesh3d": [
           {
            "colorbar": {
             "outlinewidth": 0,
             "ticks": ""
            },
            "type": "mesh3d"
           }
          ],
          "parcoords": [
           {
            "line": {
             "colorbar": {
              "outlinewidth": 0,
              "ticks": ""
             }
            },
            "type": "parcoords"
           }
          ],
          "pie": [
           {
            "automargin": true,
            "type": "pie"
           }
          ],
          "scatter": [
           {
            "marker": {
             "line": {
              "color": "#283442"
             }
            },
            "type": "scatter"
           }
          ],
          "scatter3d": [
           {
            "line": {
             "colorbar": {
              "outlinewidth": 0,
              "ticks": ""
             }
            },
            "marker": {
             "colorbar": {
              "outlinewidth": 0,
              "ticks": ""
             }
            },
            "type": "scatter3d"
           }
          ],
          "scattercarpet": [
           {
            "marker": {
             "colorbar": {
              "outlinewidth": 0,
              "ticks": ""
             }
            },
            "type": "scattercarpet"
           }
          ],
          "scattergeo": [
           {
            "marker": {
             "colorbar": {
              "outlinewidth": 0,
              "ticks": ""
             }
            },
            "type": "scattergeo"
           }
          ],
          "scattergl": [
           {
            "marker": {
             "line": {
              "color": "#283442"
             }
            },
            "type": "scattergl"
           }
          ],
          "scattermap": [
           {
            "marker": {
             "colorbar": {
              "outlinewidth": 0,
              "ticks": ""
             }
            },
            "type": "scattermap"
           }
          ],
          "scattermapbox": [
           {
            "marker": {
             "colorbar": {
              "outlinewidth": 0,
              "ticks": ""
             }
            },
            "type": "scattermapbox"
           }
          ],
          "scatterpolar": [
           {
            "marker": {
             "colorbar": {
              "outlinewidth": 0,
              "ticks": ""
             }
            },
            "type": "scatterpolar"
           }
          ],
          "scatterpolargl": [
           {
            "marker": {
             "colorbar": {
              "outlinewidth": 0,
              "ticks": ""
             }
            },
            "type": "scatterpolargl"
           }
          ],
          "scatterternary": [
           {
            "marker": {
             "colorbar": {
              "outlinewidth": 0,
              "ticks": ""
             }
            },
            "type": "scatterternary"
           }
          ],
          "surface": [
           {
            "colorbar": {
             "outlinewidth": 0,
             "ticks": ""
            },
            "colorscale": [
             [
              0,
              "#0d0887"
             ],
             [
              0.1111111111111111,
              "#46039f"
             ],
             [
              0.2222222222222222,
              "#7201a8"
             ],
             [
              0.3333333333333333,
              "#9c179e"
             ],
             [
              0.4444444444444444,
              "#bd3786"
             ],
             [
              0.5555555555555556,
              "#d8576b"
             ],
             [
              0.6666666666666666,
              "#ed7953"
             ],
             [
              0.7777777777777778,
              "#fb9f3a"
             ],
             [
              0.8888888888888888,
              "#fdca26"
             ],
             [
              1,
              "#f0f921"
             ]
            ],
            "type": "surface"
           }
          ],
          "table": [
           {
            "cells": {
             "fill": {
              "color": "#506784"
             },
             "line": {
              "color": "rgb(17,17,17)"
             }
            },
            "header": {
             "fill": {
              "color": "#2a3f5f"
             },
             "line": {
              "color": "rgb(17,17,17)"
             }
            },
            "type": "table"
           }
          ]
         },
         "layout": {
          "annotationdefaults": {
           "arrowcolor": "#f2f5fa",
           "arrowhead": 0,
           "arrowwidth": 1
          },
          "autotypenumbers": "strict",
          "coloraxis": {
           "colorbar": {
            "outlinewidth": 0,
            "ticks": ""
           }
          },
          "colorscale": {
           "diverging": [
            [
             0,
             "#8e0152"
            ],
            [
             0.1,
             "#c51b7d"
            ],
            [
             0.2,
             "#de77ae"
            ],
            [
             0.3,
             "#f1b6da"
            ],
            [
             0.4,
             "#fde0ef"
            ],
            [
             0.5,
             "#f7f7f7"
            ],
            [
             0.6,
             "#e6f5d0"
            ],
            [
             0.7,
             "#b8e186"
            ],
            [
             0.8,
             "#7fbc41"
            ],
            [
             0.9,
             "#4d9221"
            ],
            [
             1,
             "#276419"
            ]
           ],
           "sequential": [
            [
             0,
             "#0d0887"
            ],
            [
             0.1111111111111111,
             "#46039f"
            ],
            [
             0.2222222222222222,
             "#7201a8"
            ],
            [
             0.3333333333333333,
             "#9c179e"
            ],
            [
             0.4444444444444444,
             "#bd3786"
            ],
            [
             0.5555555555555556,
             "#d8576b"
            ],
            [
             0.6666666666666666,
             "#ed7953"
            ],
            [
             0.7777777777777778,
             "#fb9f3a"
            ],
            [
             0.8888888888888888,
             "#fdca26"
            ],
            [
             1,
             "#f0f921"
            ]
           ],
           "sequentialminus": [
            [
             0,
             "#0d0887"
            ],
            [
             0.1111111111111111,
             "#46039f"
            ],
            [
             0.2222222222222222,
             "#7201a8"
            ],
            [
             0.3333333333333333,
             "#9c179e"
            ],
            [
             0.4444444444444444,
             "#bd3786"
            ],
            [
             0.5555555555555556,
             "#d8576b"
            ],
            [
             0.6666666666666666,
             "#ed7953"
            ],
            [
             0.7777777777777778,
             "#fb9f3a"
            ],
            [
             0.8888888888888888,
             "#fdca26"
            ],
            [
             1,
             "#f0f921"
            ]
           ]
          },
          "colorway": [
           "#636efa",
           "#EF553B",
           "#00cc96",
           "#ab63fa",
           "#FFA15A",
           "#19d3f3",
           "#FF6692",
           "#B6E880",
           "#FF97FF",
           "#FECB52"
          ],
          "font": {
           "color": "#f2f5fa"
          },
          "geo": {
           "bgcolor": "rgb(17,17,17)",
           "lakecolor": "rgb(17,17,17)",
           "landcolor": "rgb(17,17,17)",
           "showlakes": true,
           "showland": true,
           "subunitcolor": "#506784"
          },
          "hoverlabel": {
           "align": "left"
          },
          "hovermode": "closest",
          "mapbox": {
           "style": "dark"
          },
          "paper_bgcolor": "rgb(17,17,17)",
          "plot_bgcolor": "rgb(17,17,17)",
          "polar": {
           "angularaxis": {
            "gridcolor": "#506784",
            "linecolor": "#506784",
            "ticks": ""
           },
           "bgcolor": "rgb(17,17,17)",
           "radialaxis": {
            "gridcolor": "#506784",
            "linecolor": "#506784",
            "ticks": ""
           }
          },
          "scene": {
           "xaxis": {
            "backgroundcolor": "rgb(17,17,17)",
            "gridcolor": "#506784",
            "gridwidth": 2,
            "linecolor": "#506784",
            "showbackground": true,
            "ticks": "",
            "zerolinecolor": "#C8D4E3"
           },
           "yaxis": {
            "backgroundcolor": "rgb(17,17,17)",
            "gridcolor": "#506784",
            "gridwidth": 2,
            "linecolor": "#506784",
            "showbackground": true,
            "ticks": "",
            "zerolinecolor": "#C8D4E3"
           },
           "zaxis": {
            "backgroundcolor": "rgb(17,17,17)",
            "gridcolor": "#506784",
            "gridwidth": 2,
            "linecolor": "#506784",
            "showbackground": true,
            "ticks": "",
            "zerolinecolor": "#C8D4E3"
           }
          },
          "shapedefaults": {
           "line": {
            "color": "#f2f5fa"
           }
          },
          "sliderdefaults": {
           "bgcolor": "#C8D4E3",
           "bordercolor": "rgb(17,17,17)",
           "borderwidth": 1,
           "tickwidth": 0
          },
          "ternary": {
           "aaxis": {
            "gridcolor": "#506784",
            "linecolor": "#506784",
            "ticks": ""
           },
           "baxis": {
            "gridcolor": "#506784",
            "linecolor": "#506784",
            "ticks": ""
           },
           "bgcolor": "rgb(17,17,17)",
           "caxis": {
            "gridcolor": "#506784",
            "linecolor": "#506784",
            "ticks": ""
           }
          },
          "title": {
           "x": 0.05
          },
          "updatemenudefaults": {
           "bgcolor": "#506784",
           "borderwidth": 0
          },
          "xaxis": {
           "automargin": true,
           "gridcolor": "#283442",
           "linecolor": "#506784",
           "ticks": "",
           "title": {
            "standoff": 15
           },
           "zerolinecolor": "#283442",
           "zerolinewidth": 2
          },
          "yaxis": {
           "automargin": true,
           "gridcolor": "#283442",
           "linecolor": "#506784",
           "ticks": "",
           "title": {
            "standoff": 15
           },
           "zerolinecolor": "#283442",
           "zerolinewidth": 2
          }
         }
        },
        "xaxis": {
         "anchor": "y",
         "domain": [
          0,
          1
         ],
         "title": {
          "text": "time_in_s"
         }
        },
        "yaxis": {
         "anchor": "x",
         "domain": [
          0,
          1
         ],
         "title": {
          "text": "memory_in_mb"
         }
        }
       }
      }
     },
     "metadata": {},
     "output_type": "display_data"
    }
   ],
   "source": [
    "template='plotly_dark'\n",
    "\n",
    "df = \n",
    "h_bar = px.scatter(\n",
    "    df,\n",
    "    x='time_in_s',\n",
    "    y='memory_in_mb',\n",
    "    color='function',\n",
    "    orientation='h',\n",
    "    #barmode='group',\n",
    "    template=template\n",
    ")\n",
    "h_bar.show()\n"
   ]
  },
  {
   "cell_type": "code",
   "execution_count": 10,
   "id": "f67cf4bd",
   "metadata": {},
   "outputs": [
    {
     "data": {
      "application/vnd.plotly.v1+json": {
       "config": {
        "plotlyServerURL": "https://plot.ly"
       },
       "data": [
        {
         "hovertemplate": "function=pandas_flatten<br>time_in_s=%{x}<br>memory_in_mb=%{y}<extra></extra>",
         "legendgroup": "pandas_flatten",
         "line": {
          "color": "#636efa",
          "dash": "solid"
         },
         "marker": {
          "symbol": "circle"
         },
         "mode": "lines",
         "name": "pandas_flatten",
         "orientation": "v",
         "showlegend": true,
         "type": "scatter",
         "x": {
          "bdata": "VG6iluZWgD+osPTPQ9WGPyNHtMlTab4/SCnF534B9T9NgczOouwpQA==",
          "dtype": "f8"
         },
         "xaxis": "x",
         "y": {
          "bdata": "JnFWRE30vT/ZBYNr7ujZP9VcbjDUoQ1AU14robtYQkAZG7rZn+h2QA==",
          "dtype": "f8"
         },
         "yaxis": "y"
        },
        {
         "hovertemplate": "function=manual_flatten<br>time_in_s=%{x}<br>memory_in_mb=%{y}<extra></extra>",
         "legendgroup": "manual_flatten",
         "line": {
          "color": "#EF553B",
          "dash": "solid"
         },
         "marker": {
          "symbol": "circle"
         },
         "mode": "lines",
         "name": "manual_flatten",
         "orientation": "v",
         "showlegend": true,
         "type": "scatter",
         "x": {
          "bdata": "06I+yR02QT8U2NvnqtlgP2QJvKrrBJU/G2g+524Xyz/zjlN0JAMBQA==",
          "dtype": "f8"
         },
         "xaxis": "x",
         "y": {
          "bdata": "7wIlBRbAlD/D9Shcj8K1Pxi1+1WA7+o/bLBwkubPIECLwi6KHgBVQA==",
          "dtype": "f8"
         },
         "yaxis": "y"
        },
        {
         "hovertemplate": "function=generator_flatten<br>time_in_s=%{x}<br>memory_in_mb=%{y}<extra></extra>",
         "legendgroup": "generator_flatten",
         "line": {
          "color": "#00cc96",
          "dash": "solid"
         },
         "marker": {
          "symbol": "circle"
         },
         "mode": "lines",
         "name": "generator_flatten",
         "orientation": "v",
         "showlegend": true,
         "type": "scatter",
         "x": {
          "bdata": "uaXVkLjHQj+n5j2R0UheP26JXHAGf5M/WJhEEeDhxz8fK3ftcqT9Pw==",
          "dtype": "f8"
         },
         "xaxis": "x",
         "y": {
          "bdata": "fsnGgy12oz+2L6AX7ly4P1acai3MQus/4J7nTxvVIEBaoN0hxQBVQA==",
          "dtype": "f8"
         },
         "yaxis": "y"
        },
        {
         "hovertemplate": "function=unpack_operator_flatten<br>time_in_s=%{x}<br>memory_in_mb=%{y}<extra></extra>",
         "legendgroup": "unpack_operator_flatten",
         "line": {
          "color": "#ab63fa",
          "dash": "solid"
         },
         "marker": {
          "symbol": "circle"
         },
         "mode": "lines",
         "name": "unpack_operator_flatten",
         "orientation": "v",
         "showlegend": true,
         "type": "scatter",
         "x": {
          "bdata": "R5OQ6mn3Az8ND4AJ81YhP7zplh3iH1Y/NeEafLrqiD/ZJ0P/S+zAPw==",
          "dtype": "f8"
         },
         "xaxis": "x",
         "y": {
          "bdata": "1SDM7V7ukz88vVKWIY61PwfuQJ3y6Oo/+wPltn3PIED9TL1uEQBVQA==",
          "dtype": "f8"
         },
         "yaxis": "y"
        },
        {
         "hovertemplate": "function=flatdict_flatten<br>time_in_s=%{x}<br>memory_in_mb=%{y}<extra></extra>",
         "legendgroup": "flatdict_flatten",
         "line": {
          "color": "#FFA15A",
          "dash": "solid"
         },
         "marker": {
          "symbol": "circle"
         },
         "mode": "lines",
         "name": "flatdict_flatten",
         "orientation": "v",
         "showlegend": true,
         "type": "scatter",
         "x": {
          "bdata": "Nhc7vhYkeD+oAj/B/TSZP9x6x9U6hM8/I10Q6lJyA0AdZ0KvmUE4QA==",
          "dtype": "f8"
         },
         "xaxis": "x",
         "y": {
          "bdata": "zzKLUGwFsT/9pNqn4zHLP810r5P6sv4/+fauQV/6MkBmguFcw7BnQA==",
          "dtype": "f8"
         },
         "yaxis": "y"
        },
        {
         "hovertemplate": "function=dlt_flatten<br>time_in_s=%{x}<br>memory_in_mb=%{y}<extra></extra>",
         "legendgroup": "dlt_flatten",
         "line": {
          "color": "#19d3f3",
          "dash": "solid"
         },
         "marker": {
          "symbol": "circle"
         },
         "mode": "lines",
         "name": "dlt_flatten",
         "orientation": "v",
         "showlegend": true,
         "type": "scatter",
         "x": {
          "bdata": "m6Eyqn64zz/7hKfoLNmrPyNm9nmMctA/94+F6BCUAkBHRN15dVk2QA==",
          "dtype": "f8"
         },
         "xaxis": "x",
         "y": {
          "bdata": "UMQihh3mDUCk4ZS5+UbEP1th+l5DcOs/xAjh0cZhH0CISbiQR2xTQA==",
          "dtype": "f8"
         },
         "yaxis": "y"
        }
       ],
       "layout": {
        "legend": {
         "title": {
          "text": "function"
         },
         "tracegroupgap": 0
        },
        "margin": {
         "t": 60
        },
        "template": {
         "data": {
          "bar": [
           {
            "error_x": {
             "color": "#2a3f5f"
            },
            "error_y": {
             "color": "#2a3f5f"
            },
            "marker": {
             "line": {
              "color": "#E5ECF6",
              "width": 0.5
             },
             "pattern": {
              "fillmode": "overlay",
              "size": 10,
              "solidity": 0.2
             }
            },
            "type": "bar"
           }
          ],
          "barpolar": [
           {
            "marker": {
             "line": {
              "color": "#E5ECF6",
              "width": 0.5
             },
             "pattern": {
              "fillmode": "overlay",
              "size": 10,
              "solidity": 0.2
             }
            },
            "type": "barpolar"
           }
          ],
          "carpet": [
           {
            "aaxis": {
             "endlinecolor": "#2a3f5f",
             "gridcolor": "white",
             "linecolor": "white",
             "minorgridcolor": "white",
             "startlinecolor": "#2a3f5f"
            },
            "baxis": {
             "endlinecolor": "#2a3f5f",
             "gridcolor": "white",
             "linecolor": "white",
             "minorgridcolor": "white",
             "startlinecolor": "#2a3f5f"
            },
            "type": "carpet"
           }
          ],
          "choropleth": [
           {
            "colorbar": {
             "outlinewidth": 0,
             "ticks": ""
            },
            "type": "choropleth"
           }
          ],
          "contour": [
           {
            "colorbar": {
             "outlinewidth": 0,
             "ticks": ""
            },
            "colorscale": [
             [
              0,
              "#0d0887"
             ],
             [
              0.1111111111111111,
              "#46039f"
             ],
             [
              0.2222222222222222,
              "#7201a8"
             ],
             [
              0.3333333333333333,
              "#9c179e"
             ],
             [
              0.4444444444444444,
              "#bd3786"
             ],
             [
              0.5555555555555556,
              "#d8576b"
             ],
             [
              0.6666666666666666,
              "#ed7953"
             ],
             [
              0.7777777777777778,
              "#fb9f3a"
             ],
             [
              0.8888888888888888,
              "#fdca26"
             ],
             [
              1,
              "#f0f921"
             ]
            ],
            "type": "contour"
           }
          ],
          "contourcarpet": [
           {
            "colorbar": {
             "outlinewidth": 0,
             "ticks": ""
            },
            "type": "contourcarpet"
           }
          ],
          "heatmap": [
           {
            "colorbar": {
             "outlinewidth": 0,
             "ticks": ""
            },
            "colorscale": [
             [
              0,
              "#0d0887"
             ],
             [
              0.1111111111111111,
              "#46039f"
             ],
             [
              0.2222222222222222,
              "#7201a8"
             ],
             [
              0.3333333333333333,
              "#9c179e"
             ],
             [
              0.4444444444444444,
              "#bd3786"
             ],
             [
              0.5555555555555556,
              "#d8576b"
             ],
             [
              0.6666666666666666,
              "#ed7953"
             ],
             [
              0.7777777777777778,
              "#fb9f3a"
             ],
             [
              0.8888888888888888,
              "#fdca26"
             ],
             [
              1,
              "#f0f921"
             ]
            ],
            "type": "heatmap"
           }
          ],
          "histogram": [
           {
            "marker": {
             "pattern": {
              "fillmode": "overlay",
              "size": 10,
              "solidity": 0.2
             }
            },
            "type": "histogram"
           }
          ],
          "histogram2d": [
           {
            "colorbar": {
             "outlinewidth": 0,
             "ticks": ""
            },
            "colorscale": [
             [
              0,
              "#0d0887"
             ],
             [
              0.1111111111111111,
              "#46039f"
             ],
             [
              0.2222222222222222,
              "#7201a8"
             ],
             [
              0.3333333333333333,
              "#9c179e"
             ],
             [
              0.4444444444444444,
              "#bd3786"
             ],
             [
              0.5555555555555556,
              "#d8576b"
             ],
             [
              0.6666666666666666,
              "#ed7953"
             ],
             [
              0.7777777777777778,
              "#fb9f3a"
             ],
             [
              0.8888888888888888,
              "#fdca26"
             ],
             [
              1,
              "#f0f921"
             ]
            ],
            "type": "histogram2d"
           }
          ],
          "histogram2dcontour": [
           {
            "colorbar": {
             "outlinewidth": 0,
             "ticks": ""
            },
            "colorscale": [
             [
              0,
              "#0d0887"
             ],
             [
              0.1111111111111111,
              "#46039f"
             ],
             [
              0.2222222222222222,
              "#7201a8"
             ],
             [
              0.3333333333333333,
              "#9c179e"
             ],
             [
              0.4444444444444444,
              "#bd3786"
             ],
             [
              0.5555555555555556,
              "#d8576b"
             ],
             [
              0.6666666666666666,
              "#ed7953"
             ],
             [
              0.7777777777777778,
              "#fb9f3a"
             ],
             [
              0.8888888888888888,
              "#fdca26"
             ],
             [
              1,
              "#f0f921"
             ]
            ],
            "type": "histogram2dcontour"
           }
          ],
          "mesh3d": [
           {
            "colorbar": {
             "outlinewidth": 0,
             "ticks": ""
            },
            "type": "mesh3d"
           }
          ],
          "parcoords": [
           {
            "line": {
             "colorbar": {
              "outlinewidth": 0,
              "ticks": ""
             }
            },
            "type": "parcoords"
           }
          ],
          "pie": [
           {
            "automargin": true,
            "type": "pie"
           }
          ],
          "scatter": [
           {
            "fillpattern": {
             "fillmode": "overlay",
             "size": 10,
             "solidity": 0.2
            },
            "type": "scatter"
           }
          ],
          "scatter3d": [
           {
            "line": {
             "colorbar": {
              "outlinewidth": 0,
              "ticks": ""
             }
            },
            "marker": {
             "colorbar": {
              "outlinewidth": 0,
              "ticks": ""
             }
            },
            "type": "scatter3d"
           }
          ],
          "scattercarpet": [
           {
            "marker": {
             "colorbar": {
              "outlinewidth": 0,
              "ticks": ""
             }
            },
            "type": "scattercarpet"
           }
          ],
          "scattergeo": [
           {
            "marker": {
             "colorbar": {
              "outlinewidth": 0,
              "ticks": ""
             }
            },
            "type": "scattergeo"
           }
          ],
          "scattergl": [
           {
            "marker": {
             "colorbar": {
              "outlinewidth": 0,
              "ticks": ""
             }
            },
            "type": "scattergl"
           }
          ],
          "scattermap": [
           {
            "marker": {
             "colorbar": {
              "outlinewidth": 0,
              "ticks": ""
             }
            },
            "type": "scattermap"
           }
          ],
          "scattermapbox": [
           {
            "marker": {
             "colorbar": {
              "outlinewidth": 0,
              "ticks": ""
             }
            },
            "type": "scattermapbox"
           }
          ],
          "scatterpolar": [
           {
            "marker": {
             "colorbar": {
              "outlinewidth": 0,
              "ticks": ""
             }
            },
            "type": "scatterpolar"
           }
          ],
          "scatterpolargl": [
           {
            "marker": {
             "colorbar": {
              "outlinewidth": 0,
              "ticks": ""
             }
            },
            "type": "scatterpolargl"
           }
          ],
          "scatterternary": [
           {
            "marker": {
             "colorbar": {
              "outlinewidth": 0,
              "ticks": ""
             }
            },
            "type": "scatterternary"
           }
          ],
          "surface": [
           {
            "colorbar": {
             "outlinewidth": 0,
             "ticks": ""
            },
            "colorscale": [
             [
              0,
              "#0d0887"
             ],
             [
              0.1111111111111111,
              "#46039f"
             ],
             [
              0.2222222222222222,
              "#7201a8"
             ],
             [
              0.3333333333333333,
              "#9c179e"
             ],
             [
              0.4444444444444444,
              "#bd3786"
             ],
             [
              0.5555555555555556,
              "#d8576b"
             ],
             [
              0.6666666666666666,
              "#ed7953"
             ],
             [
              0.7777777777777778,
              "#fb9f3a"
             ],
             [
              0.8888888888888888,
              "#fdca26"
             ],
             [
              1,
              "#f0f921"
             ]
            ],
            "type": "surface"
           }
          ],
          "table": [
           {
            "cells": {
             "fill": {
              "color": "#EBF0F8"
             },
             "line": {
              "color": "white"
             }
            },
            "header": {
             "fill": {
              "color": "#C8D4E3"
             },
             "line": {
              "color": "white"
             }
            },
            "type": "table"
           }
          ]
         },
         "layout": {
          "annotationdefaults": {
           "arrowcolor": "#2a3f5f",
           "arrowhead": 0,
           "arrowwidth": 1
          },
          "autotypenumbers": "strict",
          "coloraxis": {
           "colorbar": {
            "outlinewidth": 0,
            "ticks": ""
           }
          },
          "colorscale": {
           "diverging": [
            [
             0,
             "#8e0152"
            ],
            [
             0.1,
             "#c51b7d"
            ],
            [
             0.2,
             "#de77ae"
            ],
            [
             0.3,
             "#f1b6da"
            ],
            [
             0.4,
             "#fde0ef"
            ],
            [
             0.5,
             "#f7f7f7"
            ],
            [
             0.6,
             "#e6f5d0"
            ],
            [
             0.7,
             "#b8e186"
            ],
            [
             0.8,
             "#7fbc41"
            ],
            [
             0.9,
             "#4d9221"
            ],
            [
             1,
             "#276419"
            ]
           ],
           "sequential": [
            [
             0,
             "#0d0887"
            ],
            [
             0.1111111111111111,
             "#46039f"
            ],
            [
             0.2222222222222222,
             "#7201a8"
            ],
            [
             0.3333333333333333,
             "#9c179e"
            ],
            [
             0.4444444444444444,
             "#bd3786"
            ],
            [
             0.5555555555555556,
             "#d8576b"
            ],
            [
             0.6666666666666666,
             "#ed7953"
            ],
            [
             0.7777777777777778,
             "#fb9f3a"
            ],
            [
             0.8888888888888888,
             "#fdca26"
            ],
            [
             1,
             "#f0f921"
            ]
           ],
           "sequentialminus": [
            [
             0,
             "#0d0887"
            ],
            [
             0.1111111111111111,
             "#46039f"
            ],
            [
             0.2222222222222222,
             "#7201a8"
            ],
            [
             0.3333333333333333,
             "#9c179e"
            ],
            [
             0.4444444444444444,
             "#bd3786"
            ],
            [
             0.5555555555555556,
             "#d8576b"
            ],
            [
             0.6666666666666666,
             "#ed7953"
            ],
            [
             0.7777777777777778,
             "#fb9f3a"
            ],
            [
             0.8888888888888888,
             "#fdca26"
            ],
            [
             1,
             "#f0f921"
            ]
           ]
          },
          "colorway": [
           "#636efa",
           "#EF553B",
           "#00cc96",
           "#ab63fa",
           "#FFA15A",
           "#19d3f3",
           "#FF6692",
           "#B6E880",
           "#FF97FF",
           "#FECB52"
          ],
          "font": {
           "color": "#2a3f5f"
          },
          "geo": {
           "bgcolor": "white",
           "lakecolor": "white",
           "landcolor": "#E5ECF6",
           "showlakes": true,
           "showland": true,
           "subunitcolor": "white"
          },
          "hoverlabel": {
           "align": "left"
          },
          "hovermode": "closest",
          "mapbox": {
           "style": "light"
          },
          "paper_bgcolor": "white",
          "plot_bgcolor": "#E5ECF6",
          "polar": {
           "angularaxis": {
            "gridcolor": "white",
            "linecolor": "white",
            "ticks": ""
           },
           "bgcolor": "#E5ECF6",
           "radialaxis": {
            "gridcolor": "white",
            "linecolor": "white",
            "ticks": ""
           }
          },
          "scene": {
           "xaxis": {
            "backgroundcolor": "#E5ECF6",
            "gridcolor": "white",
            "gridwidth": 2,
            "linecolor": "white",
            "showbackground": true,
            "ticks": "",
            "zerolinecolor": "white"
           },
           "yaxis": {
            "backgroundcolor": "#E5ECF6",
            "gridcolor": "white",
            "gridwidth": 2,
            "linecolor": "white",
            "showbackground": true,
            "ticks": "",
            "zerolinecolor": "white"
           },
           "zaxis": {
            "backgroundcolor": "#E5ECF6",
            "gridcolor": "white",
            "gridwidth": 2,
            "linecolor": "white",
            "showbackground": true,
            "ticks": "",
            "zerolinecolor": "white"
           }
          },
          "shapedefaults": {
           "line": {
            "color": "#2a3f5f"
           }
          },
          "ternary": {
           "aaxis": {
            "gridcolor": "white",
            "linecolor": "white",
            "ticks": ""
           },
           "baxis": {
            "gridcolor": "white",
            "linecolor": "white",
            "ticks": ""
           },
           "bgcolor": "#E5ECF6",
           "caxis": {
            "gridcolor": "white",
            "linecolor": "white",
            "ticks": ""
           }
          },
          "title": {
           "x": 0.05
          },
          "xaxis": {
           "automargin": true,
           "gridcolor": "white",
           "linecolor": "white",
           "ticks": "",
           "title": {
            "standoff": 15
           },
           "zerolinecolor": "white",
           "zerolinewidth": 2
          },
          "yaxis": {
           "automargin": true,
           "gridcolor": "white",
           "linecolor": "white",
           "ticks": "",
           "title": {
            "standoff": 15
           },
           "zerolinecolor": "white",
           "zerolinewidth": 2
          }
         }
        },
        "xaxis": {
         "anchor": "y",
         "domain": [
          0,
          1
         ],
         "title": {
          "text": "time_in_s"
         }
        },
        "yaxis": {
         "anchor": "x",
         "domain": [
          0,
          1
         ],
         "title": {
          "text": "memory_in_mb"
         }
        }
       }
      }
     },
     "metadata": {},
     "output_type": "display_data"
    }
   ],
   "source": [
    "\n",
    "line_chart = px.line(\n",
    "    df,\n",
    "    x='time_in_s',\n",
    "    y='memory_in_mb',\n",
    "    color='function'\n",
    "\n",
    ")\n",
    "line_chart.show()"
   ]
  },
  {
   "cell_type": "markdown",
   "id": "e366088c",
   "metadata": {},
   "source": [
    "---"
   ]
  },
  {
   "cell_type": "markdown",
   "id": "ec7270dd",
   "metadata": {},
   "source": [
    "# Bonus: Analyse the loop style"
   ]
  },
  {
   "cell_type": "code",
   "execution_count": 9,
   "id": "57d21ada",
   "metadata": {},
   "outputs": [
    {
     "data": {
      "text/plain": [
       "┌─────────────────────────────────────┬───────────────┬──────────────────┬──────────────────┬───────────────┐\n",
       "│              function               │ avg_time_in_s │ median_time_in_s │ avg_memory_in_mb │ median_memory │\n",
       "│               varchar               │    double     │      double      │      double      │    double     │\n",
       "├─────────────────────────────────────┼───────────────┼──────────────────┼──────────────────┼───────────────┤\n",
       "│ flatdict_flatten_gen_comprehension  │         0.121 │           0.0057 │          18.6758 │         0.847 │\n",
       "│ flatdict_flatten_list_comprehension │        0.1298 │           0.0056 │          18.6754 │        0.8465 │\n",
       "│ flatdict_flatten                    │        5.1377 │           0.2339 │          42.1424 │        1.9194 │\n",
       "└─────────────────────────────────────┴───────────────┴──────────────────┴──────────────────┴───────────────┘"
      ]
     },
     "execution_count": 9,
     "metadata": {},
     "output_type": "execute_result"
    }
   ],
   "source": [
    "duckdb.sql(\"\"\"\n",
    "SELECT \n",
    "    function,\n",
    "    round(avg(time_in_s),4) as avg_time_in_s,\n",
    "    round(median(time_in_s),4) as median_time_in_s,\n",
    "    round(avg(memory_in_mb), 4) as avg_memory_in_mb,\n",
    "    round(median(memory_in_mb), 4) as median_memory\n",
    "\n",
    "FROM read_json('data/compare_loops_results.json')\n",
    "GROUP BY 1\n",
    "ORDER BY avg_time_in_s \n",
    "\"\"\")"
   ]
  },
  {
   "cell_type": "code",
   "execution_count": null,
   "id": "86573027",
   "metadata": {},
   "outputs": [],
   "source": []
  }
 ],
 "metadata": {
  "kernelspec": {
   "display_name": ".venv",
   "language": "python",
   "name": "python3"
  },
  "language_info": {
   "codemirror_mode": {
    "name": "ipython",
    "version": 3
   },
   "file_extension": ".py",
   "mimetype": "text/x-python",
   "name": "python",
   "nbconvert_exporter": "python",
   "pygments_lexer": "ipython3",
   "version": "3.13.5"
  }
 },
 "nbformat": 4,
 "nbformat_minor": 5
}
