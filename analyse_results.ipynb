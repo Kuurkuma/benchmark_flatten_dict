{
   "cells": [
      {
         "cell_type": "markdown",
         "id": "994c4cc1",
         "metadata": {},
         "source": [
            "# Analyse results of benchmark\n",
            "\n",
            "And because i love it, we will do it using SQL & duckdb, yeah!"
         ]
      },
      {
         "cell_type": "code",
         "execution_count": 1,
         "id": "b8ded69f",
         "metadata": {},
         "outputs": [],
         "source": [
            "import duckdb\n",
            "import pandas as pd\n",
            "import plotly.express as px     # my favourite viz package "
         ]
      },
      {
         "cell_type": "code",
         "execution_count": 2,
         "id": "acb584cf",
         "metadata": {},
         "outputs": [],
         "source": [
            "# we create a reusable table for our analysis \n",
            "duckdb.sql(f\"\"\"\n",
            "CREATE OR REPLACE TABLE results AS\n",
            "SELECT * FROM read_json('./data/benchmark_results.json');\n",
            "\"\"\")"
         ]
      },
      {
         "cell_type": "code",
         "execution_count": 3,
         "id": "508955e0",
         "metadata": {},
         "outputs": [
            {
               "data": {
                  "text/plain": [
                     "┌──────────────┬─────────────┬─────────────┬─────────────────────────┬───────────────┬────────────────────┬───────────────────┬──────────────┬──────────────────────┬─────────────┬───────┬─────────────────┐\n",
                     "│ column_name  │ column_type │     min     │           max           │ approx_unique │        avg         │        std        │     q25      │         q50          │     q75     │ count │ null_percentage │\n",
                     "│   varchar    │   varchar   │   varchar   │         varchar         │     int64     │      varchar       │      varchar      │   varchar    │       varchar        │   varchar   │ int64 │  decimal(9,2)   │\n",
                     "├──────────────┼─────────────┼─────────────┼─────────────────────────┼───────────────┼────────────────────┼───────────────────┼──────────────┼──────────────────────┼─────────────┼───────┼─────────────────┤\n",
                     "│ num_players  │ BIGINT      │ 23          │ 100000                  │             5 │ 18528.166666666668 │ 37052.62710604134 │ 46           │ 550                  │ 10000       │    42 │            0.00 │\n",
                     "│ function     │ VARCHAR     │ dlt_flatten │ unpack_operator_flatten │             7 │ NULL               │ NULL              │ NULL         │ NULL                 │ NULL        │    42 │            0.00 │\n",
                     "│ time_in_s    │ DOUBLE      │ 3.825e-05   │ 24.895495042            │            47 │ 1.5682323006166667 │ 4.718093158335949 │ 0.0020026249 │ 0.022395771000000002 │ 0.249255292 │    42 │            0.00 │\n",
                     "│ memory_in_mb │ DOUBLE      │ 0.019464    │ 366.538912              │            52 │ 26.970412785714284 │ 67.30024975143813 │ 0.085        │ 0.8413360000000001   │ 8.416224    │    42 │            0.00 │\n",
                     "└──────────────┴─────────────┴─────────────┴─────────────────────────┴───────────────┴────────────────────┴───────────────────┴──────────────┴──────────────────────┴─────────────┴───────┴─────────────────┘"
                  ]
               },
               "execution_count": 3,
               "metadata": {},
               "output_type": "execute_result"
            }
         ],
         "source": [
            "# Summarize the results (equivalent of .describe method in python)\n",
            "duckdb.sql('summarize results;')"
         ]
      },
      {
         "cell_type": "code",
         "execution_count": 4,
         "id": "1c9edde1",
         "metadata": {},
         "outputs": [
            {
               "data": {
                  "text/plain": [
                     "┌─────────────────────────┬───────────────┬──────────────────┐\n",
                     "│        function         │ avg_time_in_s │ avg_memory_in_mb │\n",
                     "│         varchar         │    double     │      double      │\n",
                     "├─────────────────────────┼───────────────┼──────────────────┤\n",
                     "│ unpack_operator_flatten │        0.0366 │           15.565 │\n",
                     "│ generator_flatten       │        0.3674 │          15.5778 │\n",
                     "│ manual_flatten          │        0.3849 │          15.5658 │\n",
                     "│ polars_flatten          │        0.5019 │          23.8617 │\n",
                     "│ pandas_flatten          │        2.3853 │          67.9431 │\n",
                     "│ dlt_flatten             │         2.701 │          15.1446 │\n",
                     "│ flatdict_flatten        │        4.6005 │           35.135 │\n",
                     "└─────────────────────────┴───────────────┴──────────────────┘"
                  ]
               },
               "execution_count": 4,
               "metadata": {},
               "output_type": "execute_result"
            }
         ],
         "source": [
            "# Quick look on average time and memory usage\n",
            "duckdb.sql(f\"\"\"\n",
            "SELECT \n",
            "    function,\n",
            "    round(avg(time_in_s),4) as avg_time_in_s,\n",
            "    round(avg(memory_in_mb), 4) as avg_memory_in_mb,\n",
            "FROM results\n",
            "GROUP BY ALL\n",
            "ORDER BY avg_time_in_s\n",
            "\"\"\")"
         ]
      },
      {
         "cell_type": "code",
         "execution_count": 5,
         "id": "c8fdaa32",
         "metadata": {},
         "outputs": [
            {
               "data": {
                  "text/plain": [
                     "┌─────────────────────────┬──────────────────┬──────────────────┬──────────────────┬─────────────────────┐\n",
                     "│        function         │ min_memory_in_mb │ max_memory_in_mb │ avg_memory_in_mb │ median_memory_in_mb │\n",
                     "│         varchar         │      double      │      double      │      double      │       double        │\n",
                     "├─────────────────────────┼──────────────────┼──────────────────┼──────────────────┼─────────────────────┤\n",
                     "│ unpack_operator_flatten │           0.0195 │          84.0011 │           15.565 │              0.4626 │\n",
                     "│ manual_flatten          │           0.0203 │          84.0019 │          15.5658 │              0.4634 │\n",
                     "│ generator_flatten       │           0.0457 │          84.0122 │          15.5778 │              0.4735 │\n",
                     "│ polars_flatten          │           0.0411 │          128.785 │          23.8617 │              0.7061 │\n",
                     "│ flatdict_flatten        │           0.0665 │         189.5238 │           35.135 │              1.0656 │\n",
                     "│ pandas_flatten          │            0.117 │         366.5389 │          67.9431 │              2.0542 │\n",
                     "│ dlt_flatten             │           0.1652 │          77.7357 │          15.1446 │              2.3937 │\n",
                     "└─────────────────────────┴──────────────────┴──────────────────┴──────────────────┴─────────────────────┘"
                  ]
               },
               "execution_count": 5,
               "metadata": {},
               "output_type": "execute_result"
            }
         ],
         "source": [
            "# check the memory usage\n",
            "duckdb.sql(\"\"\"\n",
            "SELECT \n",
            "    function,\n",
            "    round(min(memory_in_mb),4) as min_memory_in_mb,\n",
            "    round(max(memory_in_mb),4) as max_memory_in_mb,\n",
            "    round(avg(memory_in_mb), 4) as avg_memory_in_mb,\n",
            "    round(median(memory_in_mb), 4) as median_memory_in_mb\n",
            "FROM results\n",
            "GROUP BY ALL\n",
            "ORDER BY median_memory_in_mb \n",
            "\"\"\")"
         ]
      },
      {
         "cell_type": "code",
         "execution_count": 6,
         "id": "89aa28b3",
         "metadata": {},
         "outputs": [
            {
               "data": {
                  "text/plain": [
                     "┌─────────────────────────┬───────────────┬───────────────┬───────────────┬──────────────────┐\n",
                     "│        function         │ min_time_in_s │ max_time_in_s │ avg_time_in_s │ median_time_in_s │\n",
                     "│         varchar         │    double     │    double     │    double     │      double      │\n",
                     "├─────────────────────────┼───────────────┼───────────────┼───────────────┼──────────────────┤\n",
                     "│ unpack_operator_flatten │           0.0 │         0.205 │        0.0366 │           0.0007 │\n",
                     "│ generator_flatten       │        0.0006 │        1.9918 │        0.3674 │           0.0101 │\n",
                     "│ manual_flatten          │        0.0006 │         2.077 │        0.3849 │           0.0116 │\n",
                     "│ polars_flatten          │        0.0013 │        2.7307 │        0.5019 │           0.0143 │\n",
                     "│ pandas_flatten          │        0.0066 │       12.9111 │        2.3853 │           0.0634 │\n",
                     "│ flatdict_flatten        │        0.0055 │       24.8955 │        4.6005 │           0.1344 │\n",
                     "│ dlt_flatten             │        0.0288 │       14.2836 │         2.701 │           0.2443 │\n",
                     "└─────────────────────────┴───────────────┴───────────────┴───────────────┴──────────────────┘"
                  ]
               },
               "execution_count": 6,
               "metadata": {},
               "output_type": "execute_result"
            }
         ],
         "source": [
            "# check the time spent\n",
            "duckdb.sql(\"\"\"\n",
            "SELECT \n",
            "    function,\n",
            "    round(min(time_in_s),4) as min_time_in_s,\n",
            "    round(max(time_in_s),4) as max_time_in_s,\n",
            "    round(avg(time_in_s), 4) as avg_time_in_s,\n",
            "    round(median(time_in_s), 4) as median_time_in_s\n",
            "FROM results\n",
            "GROUP BY ALL\n",
            "ORDER BY median_time_in_s\n",
            "\"\"\")"
         ]
      },
      {
         "cell_type": "code",
         "execution_count": 7,
         "id": "461877d4",
         "metadata": {},
         "outputs": [
            {
               "data": {
                  "text/plain": [
                     "┌─────────────┬─────────────────────────┬──────────────┬───────────────┬────────────────────────┐\n",
                     "│ num_players │        function         │   min_time   │   max_time    │     avg_time_in_s      │\n",
                     "│    int64    │         varchar         │    double    │    double     │         double         │\n",
                     "├─────────────┼─────────────────────────┼──────────────┼───────────────┼────────────────────────┤\n",
                     "│      100000 │ flatdict_flatten        │ 0.2050130831 │  24.895495042 │      8.442107244157143 │\n",
                     "│      100000 │ dlt_flatten             │ 0.2050130831 │ 14.2836112089 │      5.699875944516666 │\n",
                     "│      100000 │ pandas_flatten          │ 0.2050130831 │     12.911082 │          3.98312889164 │\n",
                     "│      100000 │ polars_flatten          │ 0.2050130831 │  2.7306952911 │     1.7511406145500001 │\n",
                     "│      100000 │ manual_flatten          │ 0.2050130831 │   2.077046792 │     1.4246223890333336 │\n",
                     "│      100000 │ generator_flatten       │ 0.2050130831 │   1.991807292 │          1.09841018755 │\n",
                     "│       10000 │ flatdict_flatten        │  0.013247833 │  2.4215543329 │     0.8161952438571429 │\n",
                     "│       10000 │ dlt_flatten             │  0.013247833 │   1.371210041 │     0.5486353956833333 │\n",
                     "│       10000 │ pandas_flatten          │  0.013247833 │   1.259991125 │          0.38412046662 │\n",
                     "│      100000 │ unpack_operator_flatten │ 0.2050130831 │  0.2050130831 │           0.2050130831 │\n",
                     "│          ·  │         ·               │        ·     │        ·      │                 ·      │\n",
                     "│          ·  │         ·               │        ·     │        ·      │                 ·      │\n",
                     "│          ·  │         ·               │        ·     │        ·      │                 ·      │\n",
                     "│         100 │ generator_flatten       │   0.00013475 │  0.0020026249 │          0.00106868745 │\n",
                     "│          46 │ polars_flatten          │  9.12079e-05 │    0.00146175 │         0.000865364475 │\n",
                     "│          46 │ generator_flatten       │  9.12079e-05 │   0.000987542 │  0.0006665693000000001 │\n",
                     "│          23 │ polars_flatten          │    3.825e-05 │     0.0012885 │           0.0006454065 │\n",
                     "│          46 │ manual_flatten          │  9.12079e-05 │   0.000920958 │          0.00050608295 │\n",
                     "│          23 │ generator_flatten       │    3.825e-05 │   0.000641917 │ 0.00043104199999999997 │\n",
                     "│          23 │ manual_flatten          │    3.825e-05 │   0.000612959 │           0.0003256045 │\n",
                     "│         100 │ unpack_operator_flatten │   0.00013475 │    0.00013475 │             0.00013475 │\n",
                     "│          46 │ unpack_operator_flatten │  9.12079e-05 │   9.12079e-05 │            9.12079e-05 │\n",
                     "│          23 │ unpack_operator_flatten │    3.825e-05 │     3.825e-05 │              3.825e-05 │\n",
                     "├─────────────┴─────────────────────────┴──────────────┴───────────────┴────────────────────────┤\n",
                     "│ 42 rows (20 shown)                                                                  5 columns │\n",
                     "└───────────────────────────────────────────────────────────────────────────────────────────────┘"
                  ]
               },
               "execution_count": 7,
               "metadata": {},
               "output_type": "execute_result"
            }
         ],
         "source": [
            "duckdb.sql(\"\"\"\n",
            "SELECT \n",
            "    num_players,\n",
            "    function,\n",
            "    min(time_in_s) OVER(PARTITION BY num_players ORDER BY time_in_s ) as min_time,\n",
            "    max(time_in_s) OVER(PARTITION BY num_players ORDER BY time_in_s ) as max_time,\n",
            "    avg(time_in_s) OVER(PARTITION BY num_players ORDER BY time_in_s ) as avg_time_in_s,\n",
            "FROM results\n",
            "ORDER BY avg_time_in_s DESC;\n",
            "\"\"\")"
         ]
      },
      {
         "cell_type": "markdown",
         "id": "f0fd57b2",
         "metadata": {},
         "source": [
            "# Visualizations"
         ]
      },
      {
         "cell_type": "code",
         "execution_count": 8,
         "id": "872b8f09",
         "metadata": {},
         "outputs": [
            {
               "data": {
                  "text/plain": [
                     "['num_players', 'function', 'time_in_s', 'memory_in_mb']"
                  ]
               },
               "execution_count": 8,
               "metadata": {},
               "output_type": "execute_result"
            }
         ],
         "source": [
            "# we create a dataframe from our duckdb object to create vizs\n",
            "all_data = duckdb.sql(\"FROM results;\")\n",
            "df = all_data.df()\n",
            "all_data.columns"
         ]
      },
      {
         "cell_type": "code",
         "execution_count": 9,
         "id": "82cb0d07",
         "metadata": {},
         "outputs": [],
         "source": [
            "# define the template variables to be reused \n",
            "template='plotly_dark'\n",
            "height=800\n",
            "width=1200\n",
            "labels={\n",
            "        'num_players': 'Number of players',\n",
            "        'memory_in_mb': 'Memory usage (MB)',\n",
            "        'function': 'Functions',\n",
            "        'time_in_s': 'Execution time (seconds)'\n",
            "    }"
         ]
      },
      {
         "cell_type": "markdown",
         "id": "137c18c5",
         "metadata": {},
         "source": [
            "## Memory usage & execution time relation"
         ]
      },
      {
         "cell_type": "code",
         "execution_count": 10,
         "id": "e732cb9e",
         "metadata": {},
         "outputs": [
            {
               "data": {
                  "application/vnd.plotly.v1+json": {
                     "config": {
                        "plotlyServerURL": "https://plot.ly"
                     },
                     "data": [
                        {
                           "hovertemplate": "Functions=pandas_flatten<br>Execution time (seconds)=%{x}<br>Memory usage (MB)=%{marker.size}<extra></extra>",
                           "legendgroup": "pandas_flatten",
                           "marker": {
                              "color": "#636efa",
                              "size": {
                                 "bdata": "cT0K16PodkA=",
                                 "dtype": "f8"
                              },
                              "sizemode": "area",
                              "sizeref": 0.146616,
                              "symbol": "circle"
                           },
                           "mode": "markers",
                           "name": "pandas_flatten",
                           "orientation": "v",
                           "showlegend": true,
                           "type": "scatter",
                           "x": {
                              "bdata": "UrgehevRKUA=",
                              "dtype": "f8"
                           },
                           "xaxis": "x",
                           "y": {
                              "bdata": "cT0K16PodkA=",
                              "dtype": "f8"
                           },
                           "yaxis": "y"
                        },
                        {
                           "hovertemplate": "Functions=polars_flatten<br>Execution time (seconds)=%{x}<br>Memory usage (MB)=%{marker.size}<extra></extra>",
                           "legendgroup": "polars_flatten",
                           "marker": {
                              "color": "#EF553B",
                              "size": {
                                 "bdata": "4XoUrkcZYEA=",
                                 "dtype": "f8"
                              },
                              "sizemode": "area",
                              "sizeref": 0.146616,
                              "symbol": "circle"
                           },
                           "mode": "markers",
                           "name": "polars_flatten",
                           "orientation": "v",
                           "showlegend": true,
                           "type": "scatter",
                           "x": {
                              "bdata": "16NwPQrXBUA=",
                              "dtype": "f8"
                           },
                           "xaxis": "x",
                           "y": {
                              "bdata": "4XoUrkcZYEA=",
                              "dtype": "f8"
                           },
                           "yaxis": "y"
                        },
                        {
                           "hovertemplate": "Functions=manual_flatten<br>Execution time (seconds)=%{x}<br>Memory usage (MB)=%{marker.size}<extra></extra>",
                           "legendgroup": "manual_flatten",
                           "marker": {
                              "color": "#00cc96",
                              "size": {
                                 "bdata": "AAAAAAAAVUA=",
                                 "dtype": "f8"
                              },
                              "sizemode": "area",
                              "sizeref": 0.146616,
                              "symbol": "circle"
                           },
                           "mode": "markers",
                           "name": "manual_flatten",
                           "orientation": "v",
                           "showlegend": true,
                           "type": "scatter",
                           "x": {
                              "bdata": "pHA9CtejAEA=",
                              "dtype": "f8"
                           },
                           "xaxis": "x",
                           "y": {
                              "bdata": "AAAAAAAAVUA=",
                              "dtype": "f8"
                           },
                           "yaxis": "y"
                        },
                        {
                           "hovertemplate": "Functions=generator_flatten<br>Execution time (seconds)=%{x}<br>Memory usage (MB)=%{marker.size}<extra></extra>",
                           "legendgroup": "generator_flatten",
                           "marker": {
                              "color": "#ab63fa",
                              "size": {
                                 "bdata": "cT0K16MAVUA=",
                                 "dtype": "f8"
                              },
                              "sizemode": "area",
                              "sizeref": 0.146616,
                              "symbol": "circle"
                           },
                           "mode": "markers",
                           "name": "generator_flatten",
                           "orientation": "v",
                           "showlegend": true,
                           "type": "scatter",
                           "x": {
                              "bdata": "16NwPQrX/z8=",
                              "dtype": "f8"
                           },
                           "xaxis": "x",
                           "y": {
                              "bdata": "cT0K16MAVUA=",
                              "dtype": "f8"
                           },
                           "yaxis": "y"
                        },
                        {
                           "hovertemplate": "Functions=unpack_operator_flatten<br>Execution time (seconds)=%{x}<br>Memory usage (MB)=%{marker.size}<extra></extra>",
                           "legendgroup": "unpack_operator_flatten",
                           "marker": {
                              "color": "#FFA15A",
                              "size": {
                                 "bdata": "AAAAAAAAVUA=",
                                 "dtype": "f8"
                              },
                              "sizemode": "area",
                              "sizeref": 0.146616,
                              "symbol": "circle"
                           },
                           "mode": "markers",
                           "name": "unpack_operator_flatten",
                           "orientation": "v",
                           "showlegend": true,
                           "type": "scatter",
                           "x": {
                              "bdata": "4XoUrkfhyj8=",
                              "dtype": "f8"
                           },
                           "xaxis": "x",
                           "y": {
                              "bdata": "AAAAAAAAVUA=",
                              "dtype": "f8"
                           },
                           "yaxis": "y"
                        },
                        {
                           "hovertemplate": "Functions=flatdict_flatten<br>Execution time (seconds)=%{x}<br>Memory usage (MB)=%{marker.size}<extra></extra>",
                           "legendgroup": "flatdict_flatten",
                           "marker": {
                              "color": "#19d3f3",
                              "size": {
                                 "bdata": "cT0K16OwZ0A=",
                                 "dtype": "f8"
                              },
                              "sizemode": "area",
                              "sizeref": 0.146616,
                              "symbol": "circle"
                           },
                           "mode": "markers",
                           "name": "flatdict_flatten",
                           "orientation": "v",
                           "showlegend": true,
                           "type": "scatter",
                           "x": {
                              "bdata": "ZmZmZmbmOEA=",
                              "dtype": "f8"
                           },
                           "xaxis": "x",
                           "y": {
                              "bdata": "cT0K16OwZ0A=",
                              "dtype": "f8"
                           },
                           "yaxis": "y"
                        },
                        {
                           "hovertemplate": "Functions=dlt_flatten<br>Execution time (seconds)=%{x}<br>Memory usage (MB)=%{marker.size}<extra></extra>",
                           "legendgroup": "dlt_flatten",
                           "marker": {
                              "color": "#FF6692",
                              "size": {
                                 "bdata": "j8L1KFxvU0A=",
                                 "dtype": "f8"
                              },
                              "sizemode": "area",
                              "sizeref": 0.146616,
                              "symbol": "circle"
                           },
                           "mode": "markers",
                           "name": "dlt_flatten",
                           "orientation": "v",
                           "showlegend": true,
                           "type": "scatter",
                           "x": {
                              "bdata": "j8L1KFyPLEA=",
                              "dtype": "f8"
                           },
                           "xaxis": "x",
                           "y": {
                              "bdata": "j8L1KFxvU0A=",
                              "dtype": "f8"
                           },
                           "yaxis": "y"
                        }
                     ],
                     "layout": {
                        "height": 800,
                        "legend": {
                           "itemsizing": "constant",
                           "title": {
                              "text": "Functions"
                           },
                           "tracegroupgap": 0
                        },
                        "template": {
                           "data": {
                              "bar": [
                                 {
                                    "error_x": {
                                       "color": "#f2f5fa"
                                    },
                                    "error_y": {
                                       "color": "#f2f5fa"
                                    },
                                    "marker": {
                                       "line": {
                                          "color": "rgb(17,17,17)",
                                          "width": 0.5
                                       },
                                       "pattern": {
                                          "fillmode": "overlay",
                                          "size": 10,
                                          "solidity": 0.2
                                       }
                                    },
                                    "type": "bar"
                                 }
                              ],
                              "barpolar": [
                                 {
                                    "marker": {
                                       "line": {
                                          "color": "rgb(17,17,17)",
                                          "width": 0.5
                                       },
                                       "pattern": {
                                          "fillmode": "overlay",
                                          "size": 10,
                                          "solidity": 0.2
                                       }
                                    },
                                    "type": "barpolar"
                                 }
                              ],
                              "carpet": [
                                 {
                                    "aaxis": {
                                       "endlinecolor": "#A2B1C6",
                                       "gridcolor": "#506784",
                                       "linecolor": "#506784",
                                       "minorgridcolor": "#506784",
                                       "startlinecolor": "#A2B1C6"
                                    },
                                    "baxis": {
                                       "endlinecolor": "#A2B1C6",
                                       "gridcolor": "#506784",
                                       "linecolor": "#506784",
                                       "minorgridcolor": "#506784",
                                       "startlinecolor": "#A2B1C6"
                                    },
                                    "type": "carpet"
                                 }
                              ],
                              "choropleth": [
                                 {
                                    "colorbar": {
                                       "outlinewidth": 0,
                                       "ticks": ""
                                    },
                                    "type": "choropleth"
                                 }
                              ],
                              "contour": [
                                 {
                                    "colorbar": {
                                       "outlinewidth": 0,
                                       "ticks": ""
                                    },
                                    "colorscale": [
                                       [
                                          0,
                                          "#0d0887"
                                       ],
                                       [
                                          0.1111111111111111,
                                          "#46039f"
                                       ],
                                       [
                                          0.2222222222222222,
                                          "#7201a8"
                                       ],
                                       [
                                          0.3333333333333333,
                                          "#9c179e"
                                       ],
                                       [
                                          0.4444444444444444,
                                          "#bd3786"
                                       ],
                                       [
                                          0.5555555555555556,
                                          "#d8576b"
                                       ],
                                       [
                                          0.6666666666666666,
                                          "#ed7953"
                                       ],
                                       [
                                          0.7777777777777778,
                                          "#fb9f3a"
                                       ],
                                       [
                                          0.8888888888888888,
                                          "#fdca26"
                                       ],
                                       [
                                          1,
                                          "#f0f921"
                                       ]
                                    ],
                                    "type": "contour"
                                 }
                              ],
                              "contourcarpet": [
                                 {
                                    "colorbar": {
                                       "outlinewidth": 0,
                                       "ticks": ""
                                    },
                                    "type": "contourcarpet"
                                 }
                              ],
                              "heatmap": [
                                 {
                                    "colorbar": {
                                       "outlinewidth": 0,
                                       "ticks": ""
                                    },
                                    "colorscale": [
                                       [
                                          0,
                                          "#0d0887"
                                       ],
                                       [
                                          0.1111111111111111,
                                          "#46039f"
                                       ],
                                       [
                                          0.2222222222222222,
                                          "#7201a8"
                                       ],
                                       [
                                          0.3333333333333333,
                                          "#9c179e"
                                       ],
                                       [
                                          0.4444444444444444,
                                          "#bd3786"
                                       ],
                                       [
                                          0.5555555555555556,
                                          "#d8576b"
                                       ],
                                       [
                                          0.6666666666666666,
                                          "#ed7953"
                                       ],
                                       [
                                          0.7777777777777778,
                                          "#fb9f3a"
                                       ],
                                       [
                                          0.8888888888888888,
                                          "#fdca26"
                                       ],
                                       [
                                          1,
                                          "#f0f921"
                                       ]
                                    ],
                                    "type": "heatmap"
                                 }
                              ],
                              "histogram": [
                                 {
                                    "marker": {
                                       "pattern": {
                                          "fillmode": "overlay",
                                          "size": 10,
                                          "solidity": 0.2
                                       }
                                    },
                                    "type": "histogram"
                                 }
                              ],
                              "histogram2d": [
                                 {
                                    "colorbar": {
                                       "outlinewidth": 0,
                                       "ticks": ""
                                    },
                                    "colorscale": [
                                       [
                                          0,
                                          "#0d0887"
                                       ],
                                       [
                                          0.1111111111111111,
                                          "#46039f"
                                       ],
                                       [
                                          0.2222222222222222,
                                          "#7201a8"
                                       ],
                                       [
                                          0.3333333333333333,
                                          "#9c179e"
                                       ],
                                       [
                                          0.4444444444444444,
                                          "#bd3786"
                                       ],
                                       [
                                          0.5555555555555556,
                                          "#d8576b"
                                       ],
                                       [
                                          0.6666666666666666,
                                          "#ed7953"
                                       ],
                                       [
                                          0.7777777777777778,
                                          "#fb9f3a"
                                       ],
                                       [
                                          0.8888888888888888,
                                          "#fdca26"
                                       ],
                                       [
                                          1,
                                          "#f0f921"
                                       ]
                                    ],
                                    "type": "histogram2d"
                                 }
                              ],
                              "histogram2dcontour": [
                                 {
                                    "colorbar": {
                                       "outlinewidth": 0,
                                       "ticks": ""
                                    },
                                    "colorscale": [
                                       [
                                          0,
                                          "#0d0887"
                                       ],
                                       [
                                          0.1111111111111111,
                                          "#46039f"
                                       ],
                                       [
                                          0.2222222222222222,
                                          "#7201a8"
                                       ],
                                       [
                                          0.3333333333333333,
                                          "#9c179e"
                                       ],
                                       [
                                          0.4444444444444444,
                                          "#bd3786"
                                       ],
                                       [
                                          0.5555555555555556,
                                          "#d8576b"
                                       ],
                                       [
                                          0.6666666666666666,
                                          "#ed7953"
                                       ],
                                       [
                                          0.7777777777777778,
                                          "#fb9f3a"
                                       ],
                                       [
                                          0.8888888888888888,
                                          "#fdca26"
                                       ],
                                       [
                                          1,
                                          "#f0f921"
                                       ]
                                    ],
                                    "type": "histogram2dcontour"
                                 }
                              ],
                              "mesh3d": [
                                 {
                                    "colorbar": {
                                       "outlinewidth": 0,
                                       "ticks": ""
                                    },
                                    "type": "mesh3d"
                                 }
                              ],
                              "parcoords": [
                                 {
                                    "line": {
                                       "colorbar": {
                                          "outlinewidth": 0,
                                          "ticks": ""
                                       }
                                    },
                                    "type": "parcoords"
                                 }
                              ],
                              "pie": [
                                 {
                                    "automargin": true,
                                    "type": "pie"
                                 }
                              ],
                              "scatter": [
                                 {
                                    "marker": {
                                       "line": {
                                          "color": "#283442"
                                       }
                                    },
                                    "type": "scatter"
                                 }
                              ],
                              "scatter3d": [
                                 {
                                    "line": {
                                       "colorbar": {
                                          "outlinewidth": 0,
                                          "ticks": ""
                                       }
                                    },
                                    "marker": {
                                       "colorbar": {
                                          "outlinewidth": 0,
                                          "ticks": ""
                                       }
                                    },
                                    "type": "scatter3d"
                                 }
                              ],
                              "scattercarpet": [
                                 {
                                    "marker": {
                                       "colorbar": {
                                          "outlinewidth": 0,
                                          "ticks": ""
                                       }
                                    },
                                    "type": "scattercarpet"
                                 }
                              ],
                              "scattergeo": [
                                 {
                                    "marker": {
                                       "colorbar": {
                                          "outlinewidth": 0,
                                          "ticks": ""
                                       }
                                    },
                                    "type": "scattergeo"
                                 }
                              ],
                              "scattergl": [
                                 {
                                    "marker": {
                                       "line": {
                                          "color": "#283442"
                                       }
                                    },
                                    "type": "scattergl"
                                 }
                              ],
                              "scattermap": [
                                 {
                                    "marker": {
                                       "colorbar": {
                                          "outlinewidth": 0,
                                          "ticks": ""
                                       }
                                    },
                                    "type": "scattermap"
                                 }
                              ],
                              "scattermapbox": [
                                 {
                                    "marker": {
                                       "colorbar": {
                                          "outlinewidth": 0,
                                          "ticks": ""
                                       }
                                    },
                                    "type": "scattermapbox"
                                 }
                              ],
                              "scatterpolar": [
                                 {
                                    "marker": {
                                       "colorbar": {
                                          "outlinewidth": 0,
                                          "ticks": ""
                                       }
                                    },
                                    "type": "scatterpolar"
                                 }
                              ],
                              "scatterpolargl": [
                                 {
                                    "marker": {
                                       "colorbar": {
                                          "outlinewidth": 0,
                                          "ticks": ""
                                       }
                                    },
                                    "type": "scatterpolargl"
                                 }
                              ],
                              "scatterternary": [
                                 {
                                    "marker": {
                                       "colorbar": {
                                          "outlinewidth": 0,
                                          "ticks": ""
                                       }
                                    },
                                    "type": "scatterternary"
                                 }
                              ],
                              "surface": [
                                 {
                                    "colorbar": {
                                       "outlinewidth": 0,
                                       "ticks": ""
                                    },
                                    "colorscale": [
                                       [
                                          0,
                                          "#0d0887"
                                       ],
                                       [
                                          0.1111111111111111,
                                          "#46039f"
                                       ],
                                       [
                                          0.2222222222222222,
                                          "#7201a8"
                                       ],
                                       [
                                          0.3333333333333333,
                                          "#9c179e"
                                       ],
                                       [
                                          0.4444444444444444,
                                          "#bd3786"
                                       ],
                                       [
                                          0.5555555555555556,
                                          "#d8576b"
                                       ],
                                       [
                                          0.6666666666666666,
                                          "#ed7953"
                                       ],
                                       [
                                          0.7777777777777778,
                                          "#fb9f3a"
                                       ],
                                       [
                                          0.8888888888888888,
                                          "#fdca26"
                                       ],
                                       [
                                          1,
                                          "#f0f921"
                                       ]
                                    ],
                                    "type": "surface"
                                 }
                              ],
                              "table": [
                                 {
                                    "cells": {
                                       "fill": {
                                          "color": "#506784"
                                       },
                                       "line": {
                                          "color": "rgb(17,17,17)"
                                       }
                                    },
                                    "header": {
                                       "fill": {
                                          "color": "#2a3f5f"
                                       },
                                       "line": {
                                          "color": "rgb(17,17,17)"
                                       }
                                    },
                                    "type": "table"
                                 }
                              ]
                           },
                           "layout": {
                              "annotationdefaults": {
                                 "arrowcolor": "#f2f5fa",
                                 "arrowhead": 0,
                                 "arrowwidth": 1
                              },
                              "autotypenumbers": "strict",
                              "coloraxis": {
                                 "colorbar": {
                                    "outlinewidth": 0,
                                    "ticks": ""
                                 }
                              },
                              "colorscale": {
                                 "diverging": [
                                    [
                                       0,
                                       "#8e0152"
                                    ],
                                    [
                                       0.1,
                                       "#c51b7d"
                                    ],
                                    [
                                       0.2,
                                       "#de77ae"
                                    ],
                                    [
                                       0.3,
                                       "#f1b6da"
                                    ],
                                    [
                                       0.4,
                                       "#fde0ef"
                                    ],
                                    [
                                       0.5,
                                       "#f7f7f7"
                                    ],
                                    [
                                       0.6,
                                       "#e6f5d0"
                                    ],
                                    [
                                       0.7,
                                       "#b8e186"
                                    ],
                                    [
                                       0.8,
                                       "#7fbc41"
                                    ],
                                    [
                                       0.9,
                                       "#4d9221"
                                    ],
                                    [
                                       1,
                                       "#276419"
                                    ]
                                 ],
                                 "sequential": [
                                    [
                                       0,
                                       "#0d0887"
                                    ],
                                    [
                                       0.1111111111111111,
                                       "#46039f"
                                    ],
                                    [
                                       0.2222222222222222,
                                       "#7201a8"
                                    ],
                                    [
                                       0.3333333333333333,
                                       "#9c179e"
                                    ],
                                    [
                                       0.4444444444444444,
                                       "#bd3786"
                                    ],
                                    [
                                       0.5555555555555556,
                                       "#d8576b"
                                    ],
                                    [
                                       0.6666666666666666,
                                       "#ed7953"
                                    ],
                                    [
                                       0.7777777777777778,
                                       "#fb9f3a"
                                    ],
                                    [
                                       0.8888888888888888,
                                       "#fdca26"
                                    ],
                                    [
                                       1,
                                       "#f0f921"
                                    ]
                                 ],
                                 "sequentialminus": [
                                    [
                                       0,
                                       "#0d0887"
                                    ],
                                    [
                                       0.1111111111111111,
                                       "#46039f"
                                    ],
                                    [
                                       0.2222222222222222,
                                       "#7201a8"
                                    ],
                                    [
                                       0.3333333333333333,
                                       "#9c179e"
                                    ],
                                    [
                                       0.4444444444444444,
                                       "#bd3786"
                                    ],
                                    [
                                       0.5555555555555556,
                                       "#d8576b"
                                    ],
                                    [
                                       0.6666666666666666,
                                       "#ed7953"
                                    ],
                                    [
                                       0.7777777777777778,
                                       "#fb9f3a"
                                    ],
                                    [
                                       0.8888888888888888,
                                       "#fdca26"
                                    ],
                                    [
                                       1,
                                       "#f0f921"
                                    ]
                                 ]
                              },
                              "colorway": [
                                 "#636efa",
                                 "#EF553B",
                                 "#00cc96",
                                 "#ab63fa",
                                 "#FFA15A",
                                 "#19d3f3",
                                 "#FF6692",
                                 "#B6E880",
                                 "#FF97FF",
                                 "#FECB52"
                              ],
                              "font": {
                                 "color": "#f2f5fa"
                              },
                              "geo": {
                                 "bgcolor": "rgb(17,17,17)",
                                 "lakecolor": "rgb(17,17,17)",
                                 "landcolor": "rgb(17,17,17)",
                                 "showlakes": true,
                                 "showland": true,
                                 "subunitcolor": "#506784"
                              },
                              "hoverlabel": {
                                 "align": "left"
                              },
                              "hovermode": "closest",
                              "mapbox": {
                                 "style": "dark"
                              },
                              "paper_bgcolor": "rgb(17,17,17)",
                              "plot_bgcolor": "rgb(17,17,17)",
                              "polar": {
                                 "angularaxis": {
                                    "gridcolor": "#506784",
                                    "linecolor": "#506784",
                                    "ticks": ""
                                 },
                                 "bgcolor": "rgb(17,17,17)",
                                 "radialaxis": {
                                    "gridcolor": "#506784",
                                    "linecolor": "#506784",
                                    "ticks": ""
                                 }
                              },
                              "scene": {
                                 "xaxis": {
                                    "backgroundcolor": "rgb(17,17,17)",
                                    "gridcolor": "#506784",
                                    "gridwidth": 2,
                                    "linecolor": "#506784",
                                    "showbackground": true,
                                    "ticks": "",
                                    "zerolinecolor": "#C8D4E3"
                                 },
                                 "yaxis": {
                                    "backgroundcolor": "rgb(17,17,17)",
                                    "gridcolor": "#506784",
                                    "gridwidth": 2,
                                    "linecolor": "#506784",
                                    "showbackground": true,
                                    "ticks": "",
                                    "zerolinecolor": "#C8D4E3"
                                 },
                                 "zaxis": {
                                    "backgroundcolor": "rgb(17,17,17)",
                                    "gridcolor": "#506784",
                                    "gridwidth": 2,
                                    "linecolor": "#506784",
                                    "showbackground": true,
                                    "ticks": "",
                                    "zerolinecolor": "#C8D4E3"
                                 }
                              },
                              "shapedefaults": {
                                 "line": {
                                    "color": "#f2f5fa"
                                 }
                              },
                              "sliderdefaults": {
                                 "bgcolor": "#C8D4E3",
                                 "bordercolor": "rgb(17,17,17)",
                                 "borderwidth": 1,
                                 "tickwidth": 0
                              },
                              "ternary": {
                                 "aaxis": {
                                    "gridcolor": "#506784",
                                    "linecolor": "#506784",
                                    "ticks": ""
                                 },
                                 "baxis": {
                                    "gridcolor": "#506784",
                                    "linecolor": "#506784",
                                    "ticks": ""
                                 },
                                 "bgcolor": "rgb(17,17,17)",
                                 "caxis": {
                                    "gridcolor": "#506784",
                                    "linecolor": "#506784",
                                    "ticks": ""
                                 }
                              },
                              "title": {
                                 "x": 0.05
                              },
                              "updatemenudefaults": {
                                 "bgcolor": "#506784",
                                 "borderwidth": 0
                              },
                              "xaxis": {
                                 "automargin": true,
                                 "gridcolor": "#283442",
                                 "linecolor": "#506784",
                                 "ticks": "",
                                 "title": {
                                    "standoff": 15
                                 },
                                 "zerolinecolor": "#283442",
                                 "zerolinewidth": 2
                              },
                              "yaxis": {
                                 "automargin": true,
                                 "gridcolor": "#283442",
                                 "linecolor": "#506784",
                                 "ticks": "",
                                 "title": {
                                    "standoff": 15
                                 },
                                 "zerolinecolor": "#283442",
                                 "zerolinewidth": 2
                              }
                           }
                        },
                        "title": {
                           "text": "Relation memory usage & execution time for 100k players (log scale)"
                        },
                        "xaxis": {
                           "anchor": "y",
                           "domain": [
                              0,
                              1
                           ],
                           "title": {
                              "text": "Execution time (seconds)"
                           },
                           "type": "log"
                        },
                        "yaxis": {
                           "anchor": "x",
                           "domain": [
                              0,
                              1
                           ],
                           "title": {
                              "text": "Memory usage (MB)"
                           },
                           "type": "log"
                        }
                     }
                  }
               },
               "metadata": {},
               "output_type": "display_data"
            }
         ],
         "source": [
            "# scatter plot memory usage based on executioen time for the most data point( 100k players)\n",
            "\n",
            "df_max_players = df.loc[df['num_players'] >= 100000].copy()     # create a copy with only results from \n",
            "\n",
            "df_max_players['time_in_s'] = df_max_players['time_in_s'].round(2)\n",
            "df_max_players['memory_in_mb'] = df_max_players['memory_in_mb'].round(2) \n",
            "\n",
            "h_bar = px.scatter(\n",
            "    df_max_players,\n",
            "    title='Relation memory usage & execution time for 100k players (log scale)',\n",
            "    x='time_in_s',\n",
            "    y='memory_in_mb',\n",
            "    color='function',\n",
            "    size='memory_in_mb',\n",
            "    size_max=50,\n",
            "    log_x=True,\n",
            "    log_y=True,\n",
            "    template=template,\n",
            "    labels=labels,\n",
            "    height=height,\n",
            "    #width=width\n",
            ")\n",
            "\n",
            "h_bar.show()\n"
         ]
      },
      {
         "cell_type": "markdown",
         "id": "7944e938",
         "metadata": {},
         "source": [
            "## Memory usage\n"
         ]
      },
      {
         "cell_type": "code",
         "execution_count": 11,
         "id": "6e1c07eb",
         "metadata": {},
         "outputs": [
            {
               "data": {
                  "application/vnd.plotly.v1+json": {
                     "config": {
                        "plotlyServerURL": "https://plot.ly"
                     },
                     "data": [
                        {
                           "hovertemplate": "Functions=pandas_flatten<br>Number of players=%{x}<br>Memory usage (MB)=%{y}<extra></extra>",
                           "legendgroup": "pandas_flatten",
                           "line": {
                              "color": "#636efa",
                              "dash": "solid"
                           },
                           "marker": {
                              "symbol": "circle"
                           },
                           "mode": "lines+markers",
                           "name": "pandas_flatten",
                           "orientation": "v",
                           "showlegend": true,
                           "type": "scatter",
                           "x": {
                              "bdata": "FwAAAC4AAABkAAAA6AMAABAnAACghgEA",
                              "dtype": "i4"
                           },
                           "xaxis": "x",
                           "y": {
                              "bdata": "nQ35ZwbxvT+9NbBVgsXJPx10CYfe4tk/WKoLeJmhDUCoVImyt1hCQMB2MGKf6HZA",
                              "dtype": "f8"
                           },
                           "yaxis": "y"
                        },
                        {
                           "hovertemplate": "Functions=polars_flatten<br>Number of players=%{x}<br>Memory usage (MB)=%{y}<extra></extra>",
                           "legendgroup": "polars_flatten",
                           "line": {
                              "color": "#EF553B",
                              "dash": "solid"
                           },
                           "marker": {
                              "symbol": "circle"
                           },
                           "mode": "lines+markers",
                           "name": "polars_flatten",
                           "orientation": "v",
                           "showlegend": true,
                           "type": "scatter",
                           "x": {
                              "bdata": "FwAAAC4AAABkAAAA6AMAABAnAACghgEA",
                              "dtype": "i4"
                           },
                           "xaxis": "x",
                           "y": {
                              "bdata": "kbWGUnsRpT9gAyLElbOvP7iVXpuNlcA/rKxtiseF9D92Tx4War0pQFXa4hofGWBA",
                              "dtype": "f8"
                           },
                           "yaxis": "y"
                        },
                        {
                           "hovertemplate": "Functions=manual_flatten<br>Number of players=%{x}<br>Memory usage (MB)=%{y}<extra></extra>",
                           "legendgroup": "manual_flatten",
                           "line": {
                              "color": "#00cc96",
                              "dash": "solid"
                           },
                           "marker": {
                              "symbol": "circle"
                           },
                           "mode": "lines+markers",
                           "name": "manual_flatten",
                           "orientation": "v",
                           "showlegend": true,
                           "type": "scatter",
                           "x": {
                              "bdata": "FwAAAC4AAABkAAAA6AMAABAnAACghgEA",
                              "dtype": "i4"
                           },
                           "xaxis": "x",
                           "y": {
                              "bdata": "7wIlBRbAlD8R/kXQmEmkP8P1KFyPwrU/GLX7VYDv6j9ssHCS5s8gQIvCLooeAFVA",
                              "dtype": "f8"
                           },
                           "yaxis": "y"
                        },
                        {
                           "hovertemplate": "Functions=generator_flatten<br>Number of players=%{x}<br>Memory usage (MB)=%{y}<extra></extra>",
                           "legendgroup": "generator_flatten",
                           "line": {
                              "color": "#ab63fa",
                              "dash": "solid"
                           },
                           "marker": {
                              "symbol": "circle"
                           },
                           "mode": "lines+markers",
                           "name": "generator_flatten",
                           "orientation": "v",
                           "showlegend": true,
                           "type": "scatter",
                           "x": {
                              "bdata": "FwAAAC4AAABkAAAA6AMAABAnAACghgEA",
                              "dtype": "i4"
                           },
                           "xaxis": "x",
                           "y": {
                              "bdata": "V3vYCwVspz8EyxEykGenP7YvoBfuXLg/VpxqLcxC6z/gnudPG9UgQPkvEATIAFVA",
                              "dtype": "f8"
                           },
                           "yaxis": "y"
                        },
                        {
                           "hovertemplate": "Functions=unpack_operator_flatten<br>Number of players=%{x}<br>Memory usage (MB)=%{y}<extra></extra>",
                           "legendgroup": "unpack_operator_flatten",
                           "line": {
                              "color": "#FFA15A",
                              "dash": "solid"
                           },
                           "marker": {
                              "symbol": "circle"
                           },
                           "mode": "lines+markers",
                           "name": "unpack_operator_flatten",
                           "orientation": "v",
                           "showlegend": true,
                           "type": "scatter",
                           "x": {
                              "bdata": "FwAAAC4AAABkAAAA6AMAABAnAACghgEA",
                              "dtype": "i4"
                           },
                           "xaxis": "x",
                           "y": {
                              "bdata": "1SDM7V7ukz8EjZlEveCjPzy9UpYhjrU/B+5AnfLo6j/7A+W2fc8gQP1MvW4RAFVA",
                              "dtype": "f8"
                           },
                           "yaxis": "y"
                        },
                        {
                           "hovertemplate": "Functions=flatdict_flatten<br>Number of players=%{x}<br>Memory usage (MB)=%{y}<extra></extra>",
                           "legendgroup": "flatdict_flatten",
                           "line": {
                              "color": "#19d3f3",
                              "dash": "solid"
                           },
                           "marker": {
                              "symbol": "circle"
                           },
                           "mode": "lines+markers",
                           "name": "flatdict_flatten",
                           "orientation": "v",
                           "showlegend": true,
                           "type": "scatter",
                           "x": {
                              "bdata": "FwAAAC4AAABkAAAA6AMAABAnAACghgEA",
                              "dtype": "i4"
                           },
                           "xaxis": "x",
                           "y": {
                              "bdata": "3UPC9/4GsT87/gsEATK8P4QtdvusMss/3uUivhOz/j8KLlbUYPoyQGaC4VzDsGdA",
                              "dtype": "f8"
                           },
                           "yaxis": "y"
                        },
                        {
                           "hovertemplate": "Functions=dlt_flatten<br>Number of players=%{x}<br>Memory usage (MB)=%{y}<extra></extra>",
                           "legendgroup": "dlt_flatten",
                           "line": {
                              "color": "#FF6692",
                              "dash": "solid"
                           },
                           "marker": {
                              "symbol": "circle"
                           },
                           "mode": "lines+markers",
                           "name": "dlt_flatten",
                           "orientation": "v",
                           "showlegend": true,
                           "type": "scatter",
                           "x": {
                              "bdata": "FwAAAC4AAABkAAAA6AMAABAnAACghgEA",
                              "dtype": "i4"
                           },
                           "xaxis": "x",
                           "y": {
                              "bdata": "/1w0ZDwKD0AKL8GpDyTFP2Eaho+IKdI/g04IHXQJ7T88pBgg0ZQfQGCQ9GkVb1NA",
                              "dtype": "f8"
                           },
                           "yaxis": "y"
                        }
                     ],
                     "layout": {
                        "height": 800,
                        "legend": {
                           "title": {
                              "text": "Functions"
                           },
                           "tracegroupgap": 0
                        },
                        "template": {
                           "data": {
                              "bar": [
                                 {
                                    "error_x": {
                                       "color": "#f2f5fa"
                                    },
                                    "error_y": {
                                       "color": "#f2f5fa"
                                    },
                                    "marker": {
                                       "line": {
                                          "color": "rgb(17,17,17)",
                                          "width": 0.5
                                       },
                                       "pattern": {
                                          "fillmode": "overlay",
                                          "size": 10,
                                          "solidity": 0.2
                                       }
                                    },
                                    "type": "bar"
                                 }
                              ],
                              "barpolar": [
                                 {
                                    "marker": {
                                       "line": {
                                          "color": "rgb(17,17,17)",
                                          "width": 0.5
                                       },
                                       "pattern": {
                                          "fillmode": "overlay",
                                          "size": 10,
                                          "solidity": 0.2
                                       }
                                    },
                                    "type": "barpolar"
                                 }
                              ],
                              "carpet": [
                                 {
                                    "aaxis": {
                                       "endlinecolor": "#A2B1C6",
                                       "gridcolor": "#506784",
                                       "linecolor": "#506784",
                                       "minorgridcolor": "#506784",
                                       "startlinecolor": "#A2B1C6"
                                    },
                                    "baxis": {
                                       "endlinecolor": "#A2B1C6",
                                       "gridcolor": "#506784",
                                       "linecolor": "#506784",
                                       "minorgridcolor": "#506784",
                                       "startlinecolor": "#A2B1C6"
                                    },
                                    "type": "carpet"
                                 }
                              ],
                              "choropleth": [
                                 {
                                    "colorbar": {
                                       "outlinewidth": 0,
                                       "ticks": ""
                                    },
                                    "type": "choropleth"
                                 }
                              ],
                              "contour": [
                                 {
                                    "colorbar": {
                                       "outlinewidth": 0,
                                       "ticks": ""
                                    },
                                    "colorscale": [
                                       [
                                          0,
                                          "#0d0887"
                                       ],
                                       [
                                          0.1111111111111111,
                                          "#46039f"
                                       ],
                                       [
                                          0.2222222222222222,
                                          "#7201a8"
                                       ],
                                       [
                                          0.3333333333333333,
                                          "#9c179e"
                                       ],
                                       [
                                          0.4444444444444444,
                                          "#bd3786"
                                       ],
                                       [
                                          0.5555555555555556,
                                          "#d8576b"
                                       ],
                                       [
                                          0.6666666666666666,
                                          "#ed7953"
                                       ],
                                       [
                                          0.7777777777777778,
                                          "#fb9f3a"
                                       ],
                                       [
                                          0.8888888888888888,
                                          "#fdca26"
                                       ],
                                       [
                                          1,
                                          "#f0f921"
                                       ]
                                    ],
                                    "type": "contour"
                                 }
                              ],
                              "contourcarpet": [
                                 {
                                    "colorbar": {
                                       "outlinewidth": 0,
                                       "ticks": ""
                                    },
                                    "type": "contourcarpet"
                                 }
                              ],
                              "heatmap": [
                                 {
                                    "colorbar": {
                                       "outlinewidth": 0,
                                       "ticks": ""
                                    },
                                    "colorscale": [
                                       [
                                          0,
                                          "#0d0887"
                                       ],
                                       [
                                          0.1111111111111111,
                                          "#46039f"
                                       ],
                                       [
                                          0.2222222222222222,
                                          "#7201a8"
                                       ],
                                       [
                                          0.3333333333333333,
                                          "#9c179e"
                                       ],
                                       [
                                          0.4444444444444444,
                                          "#bd3786"
                                       ],
                                       [
                                          0.5555555555555556,
                                          "#d8576b"
                                       ],
                                       [
                                          0.6666666666666666,
                                          "#ed7953"
                                       ],
                                       [
                                          0.7777777777777778,
                                          "#fb9f3a"
                                       ],
                                       [
                                          0.8888888888888888,
                                          "#fdca26"
                                       ],
                                       [
                                          1,
                                          "#f0f921"
                                       ]
                                    ],
                                    "type": "heatmap"
                                 }
                              ],
                              "histogram": [
                                 {
                                    "marker": {
                                       "pattern": {
                                          "fillmode": "overlay",
                                          "size": 10,
                                          "solidity": 0.2
                                       }
                                    },
                                    "type": "histogram"
                                 }
                              ],
                              "histogram2d": [
                                 {
                                    "colorbar": {
                                       "outlinewidth": 0,
                                       "ticks": ""
                                    },
                                    "colorscale": [
                                       [
                                          0,
                                          "#0d0887"
                                       ],
                                       [
                                          0.1111111111111111,
                                          "#46039f"
                                       ],
                                       [
                                          0.2222222222222222,
                                          "#7201a8"
                                       ],
                                       [
                                          0.3333333333333333,
                                          "#9c179e"
                                       ],
                                       [
                                          0.4444444444444444,
                                          "#bd3786"
                                       ],
                                       [
                                          0.5555555555555556,
                                          "#d8576b"
                                       ],
                                       [
                                          0.6666666666666666,
                                          "#ed7953"
                                       ],
                                       [
                                          0.7777777777777778,
                                          "#fb9f3a"
                                       ],
                                       [
                                          0.8888888888888888,
                                          "#fdca26"
                                       ],
                                       [
                                          1,
                                          "#f0f921"
                                       ]
                                    ],
                                    "type": "histogram2d"
                                 }
                              ],
                              "histogram2dcontour": [
                                 {
                                    "colorbar": {
                                       "outlinewidth": 0,
                                       "ticks": ""
                                    },
                                    "colorscale": [
                                       [
                                          0,
                                          "#0d0887"
                                       ],
                                       [
                                          0.1111111111111111,
                                          "#46039f"
                                       ],
                                       [
                                          0.2222222222222222,
                                          "#7201a8"
                                       ],
                                       [
                                          0.3333333333333333,
                                          "#9c179e"
                                       ],
                                       [
                                          0.4444444444444444,
                                          "#bd3786"
                                       ],
                                       [
                                          0.5555555555555556,
                                          "#d8576b"
                                       ],
                                       [
                                          0.6666666666666666,
                                          "#ed7953"
                                       ],
                                       [
                                          0.7777777777777778,
                                          "#fb9f3a"
                                       ],
                                       [
                                          0.8888888888888888,
                                          "#fdca26"
                                       ],
                                       [
                                          1,
                                          "#f0f921"
                                       ]
                                    ],
                                    "type": "histogram2dcontour"
                                 }
                              ],
                              "mesh3d": [
                                 {
                                    "colorbar": {
                                       "outlinewidth": 0,
                                       "ticks": ""
                                    },
                                    "type": "mesh3d"
                                 }
                              ],
                              "parcoords": [
                                 {
                                    "line": {
                                       "colorbar": {
                                          "outlinewidth": 0,
                                          "ticks": ""
                                       }
                                    },
                                    "type": "parcoords"
                                 }
                              ],
                              "pie": [
                                 {
                                    "automargin": true,
                                    "type": "pie"
                                 }
                              ],
                              "scatter": [
                                 {
                                    "marker": {
                                       "line": {
                                          "color": "#283442"
                                       }
                                    },
                                    "type": "scatter"
                                 }
                              ],
                              "scatter3d": [
                                 {
                                    "line": {
                                       "colorbar": {
                                          "outlinewidth": 0,
                                          "ticks": ""
                                       }
                                    },
                                    "marker": {
                                       "colorbar": {
                                          "outlinewidth": 0,
                                          "ticks": ""
                                       }
                                    },
                                    "type": "scatter3d"
                                 }
                              ],
                              "scattercarpet": [
                                 {
                                    "marker": {
                                       "colorbar": {
                                          "outlinewidth": 0,
                                          "ticks": ""
                                       }
                                    },
                                    "type": "scattercarpet"
                                 }
                              ],
                              "scattergeo": [
                                 {
                                    "marker": {
                                       "colorbar": {
                                          "outlinewidth": 0,
                                          "ticks": ""
                                       }
                                    },
                                    "type": "scattergeo"
                                 }
                              ],
                              "scattergl": [
                                 {
                                    "marker": {
                                       "line": {
                                          "color": "#283442"
                                       }
                                    },
                                    "type": "scattergl"
                                 }
                              ],
                              "scattermap": [
                                 {
                                    "marker": {
                                       "colorbar": {
                                          "outlinewidth": 0,
                                          "ticks": ""
                                       }
                                    },
                                    "type": "scattermap"
                                 }
                              ],
                              "scattermapbox": [
                                 {
                                    "marker": {
                                       "colorbar": {
                                          "outlinewidth": 0,
                                          "ticks": ""
                                       }
                                    },
                                    "type": "scattermapbox"
                                 }
                              ],
                              "scatterpolar": [
                                 {
                                    "marker": {
                                       "colorbar": {
                                          "outlinewidth": 0,
                                          "ticks": ""
                                       }
                                    },
                                    "type": "scatterpolar"
                                 }
                              ],
                              "scatterpolargl": [
                                 {
                                    "marker": {
                                       "colorbar": {
                                          "outlinewidth": 0,
                                          "ticks": ""
                                       }
                                    },
                                    "type": "scatterpolargl"
                                 }
                              ],
                              "scatterternary": [
                                 {
                                    "marker": {
                                       "colorbar": {
                                          "outlinewidth": 0,
                                          "ticks": ""
                                       }
                                    },
                                    "type": "scatterternary"
                                 }
                              ],
                              "surface": [
                                 {
                                    "colorbar": {
                                       "outlinewidth": 0,
                                       "ticks": ""
                                    },
                                    "colorscale": [
                                       [
                                          0,
                                          "#0d0887"
                                       ],
                                       [
                                          0.1111111111111111,
                                          "#46039f"
                                       ],
                                       [
                                          0.2222222222222222,
                                          "#7201a8"
                                       ],
                                       [
                                          0.3333333333333333,
                                          "#9c179e"
                                       ],
                                       [
                                          0.4444444444444444,
                                          "#bd3786"
                                       ],
                                       [
                                          0.5555555555555556,
                                          "#d8576b"
                                       ],
                                       [
                                          0.6666666666666666,
                                          "#ed7953"
                                       ],
                                       [
                                          0.7777777777777778,
                                          "#fb9f3a"
                                       ],
                                       [
                                          0.8888888888888888,
                                          "#fdca26"
                                       ],
                                       [
                                          1,
                                          "#f0f921"
                                       ]
                                    ],
                                    "type": "surface"
                                 }
                              ],
                              "table": [
                                 {
                                    "cells": {
                                       "fill": {
                                          "color": "#506784"
                                       },
                                       "line": {
                                          "color": "rgb(17,17,17)"
                                       }
                                    },
                                    "header": {
                                       "fill": {
                                          "color": "#2a3f5f"
                                       },
                                       "line": {
                                          "color": "rgb(17,17,17)"
                                       }
                                    },
                                    "type": "table"
                                 }
                              ]
                           },
                           "layout": {
                              "annotationdefaults": {
                                 "arrowcolor": "#f2f5fa",
                                 "arrowhead": 0,
                                 "arrowwidth": 1
                              },
                              "autotypenumbers": "strict",
                              "coloraxis": {
                                 "colorbar": {
                                    "outlinewidth": 0,
                                    "ticks": ""
                                 }
                              },
                              "colorscale": {
                                 "diverging": [
                                    [
                                       0,
                                       "#8e0152"
                                    ],
                                    [
                                       0.1,
                                       "#c51b7d"
                                    ],
                                    [
                                       0.2,
                                       "#de77ae"
                                    ],
                                    [
                                       0.3,
                                       "#f1b6da"
                                    ],
                                    [
                                       0.4,
                                       "#fde0ef"
                                    ],
                                    [
                                       0.5,
                                       "#f7f7f7"
                                    ],
                                    [
                                       0.6,
                                       "#e6f5d0"
                                    ],
                                    [
                                       0.7,
                                       "#b8e186"
                                    ],
                                    [
                                       0.8,
                                       "#7fbc41"
                                    ],
                                    [
                                       0.9,
                                       "#4d9221"
                                    ],
                                    [
                                       1,
                                       "#276419"
                                    ]
                                 ],
                                 "sequential": [
                                    [
                                       0,
                                       "#0d0887"
                                    ],
                                    [
                                       0.1111111111111111,
                                       "#46039f"
                                    ],
                                    [
                                       0.2222222222222222,
                                       "#7201a8"
                                    ],
                                    [
                                       0.3333333333333333,
                                       "#9c179e"
                                    ],
                                    [
                                       0.4444444444444444,
                                       "#bd3786"
                                    ],
                                    [
                                       0.5555555555555556,
                                       "#d8576b"
                                    ],
                                    [
                                       0.6666666666666666,
                                       "#ed7953"
                                    ],
                                    [
                                       0.7777777777777778,
                                       "#fb9f3a"
                                    ],
                                    [
                                       0.8888888888888888,
                                       "#fdca26"
                                    ],
                                    [
                                       1,
                                       "#f0f921"
                                    ]
                                 ],
                                 "sequentialminus": [
                                    [
                                       0,
                                       "#0d0887"
                                    ],
                                    [
                                       0.1111111111111111,
                                       "#46039f"
                                    ],
                                    [
                                       0.2222222222222222,
                                       "#7201a8"
                                    ],
                                    [
                                       0.3333333333333333,
                                       "#9c179e"
                                    ],
                                    [
                                       0.4444444444444444,
                                       "#bd3786"
                                    ],
                                    [
                                       0.5555555555555556,
                                       "#d8576b"
                                    ],
                                    [
                                       0.6666666666666666,
                                       "#ed7953"
                                    ],
                                    [
                                       0.7777777777777778,
                                       "#fb9f3a"
                                    ],
                                    [
                                       0.8888888888888888,
                                       "#fdca26"
                                    ],
                                    [
                                       1,
                                       "#f0f921"
                                    ]
                                 ]
                              },
                              "colorway": [
                                 "#636efa",
                                 "#EF553B",
                                 "#00cc96",
                                 "#ab63fa",
                                 "#FFA15A",
                                 "#19d3f3",
                                 "#FF6692",
                                 "#B6E880",
                                 "#FF97FF",
                                 "#FECB52"
                              ],
                              "font": {
                                 "color": "#f2f5fa"
                              },
                              "geo": {
                                 "bgcolor": "rgb(17,17,17)",
                                 "lakecolor": "rgb(17,17,17)",
                                 "landcolor": "rgb(17,17,17)",
                                 "showlakes": true,
                                 "showland": true,
                                 "subunitcolor": "#506784"
                              },
                              "hoverlabel": {
                                 "align": "left"
                              },
                              "hovermode": "closest",
                              "mapbox": {
                                 "style": "dark"
                              },
                              "paper_bgcolor": "rgb(17,17,17)",
                              "plot_bgcolor": "rgb(17,17,17)",
                              "polar": {
                                 "angularaxis": {
                                    "gridcolor": "#506784",
                                    "linecolor": "#506784",
                                    "ticks": ""
                                 },
                                 "bgcolor": "rgb(17,17,17)",
                                 "radialaxis": {
                                    "gridcolor": "#506784",
                                    "linecolor": "#506784",
                                    "ticks": ""
                                 }
                              },
                              "scene": {
                                 "xaxis": {
                                    "backgroundcolor": "rgb(17,17,17)",
                                    "gridcolor": "#506784",
                                    "gridwidth": 2,
                                    "linecolor": "#506784",
                                    "showbackground": true,
                                    "ticks": "",
                                    "zerolinecolor": "#C8D4E3"
                                 },
                                 "yaxis": {
                                    "backgroundcolor": "rgb(17,17,17)",
                                    "gridcolor": "#506784",
                                    "gridwidth": 2,
                                    "linecolor": "#506784",
                                    "showbackground": true,
                                    "ticks": "",
                                    "zerolinecolor": "#C8D4E3"
                                 },
                                 "zaxis": {
                                    "backgroundcolor": "rgb(17,17,17)",
                                    "gridcolor": "#506784",
                                    "gridwidth": 2,
                                    "linecolor": "#506784",
                                    "showbackground": true,
                                    "ticks": "",
                                    "zerolinecolor": "#C8D4E3"
                                 }
                              },
                              "shapedefaults": {
                                 "line": {
                                    "color": "#f2f5fa"
                                 }
                              },
                              "sliderdefaults": {
                                 "bgcolor": "#C8D4E3",
                                 "bordercolor": "rgb(17,17,17)",
                                 "borderwidth": 1,
                                 "tickwidth": 0
                              },
                              "ternary": {
                                 "aaxis": {
                                    "gridcolor": "#506784",
                                    "linecolor": "#506784",
                                    "ticks": ""
                                 },
                                 "baxis": {
                                    "gridcolor": "#506784",
                                    "linecolor": "#506784",
                                    "ticks": ""
                                 },
                                 "bgcolor": "rgb(17,17,17)",
                                 "caxis": {
                                    "gridcolor": "#506784",
                                    "linecolor": "#506784",
                                    "ticks": ""
                                 }
                              },
                              "title": {
                                 "x": 0.05
                              },
                              "updatemenudefaults": {
                                 "bgcolor": "#506784",
                                 "borderwidth": 0
                              },
                              "xaxis": {
                                 "automargin": true,
                                 "gridcolor": "#283442",
                                 "linecolor": "#506784",
                                 "ticks": "",
                                 "title": {
                                    "standoff": 15
                                 },
                                 "zerolinecolor": "#283442",
                                 "zerolinewidth": 2
                              },
                              "yaxis": {
                                 "automargin": true,
                                 "gridcolor": "#283442",
                                 "linecolor": "#506784",
                                 "ticks": "",
                                 "title": {
                                    "standoff": 15
                                 },
                                 "zerolinecolor": "#283442",
                                 "zerolinewidth": 2
                              }
                           }
                        },
                        "title": {
                           "text": "Memory Usage by Number of Players (log scale)"
                        },
                        "width": 1200,
                        "xaxis": {
                           "anchor": "y",
                           "domain": [
                              0,
                              1
                           ],
                           "title": {
                              "text": "Number of players"
                           },
                           "type": "log"
                        },
                        "yaxis": {
                           "anchor": "x",
                           "domain": [
                              0,
                              1
                           ],
                           "title": {
                              "text": "Memory usage (MB)"
                           },
                           "type": "log"
                        }
                     }
                  }
               },
               "metadata": {},
               "output_type": "display_data"
            }
         ],
         "source": [
            "import plotly.express as px\n",
            "import pandas as pd\n",
            "\n",
            "# Assuming all_data is your DataFrame with columns: function, num_players, memory_in_mb\n",
            "df = all_data.df()\n",
            "\n",
            "# Create a line chart\n",
            "fig = px.line(\n",
            "    df,\n",
            "    x='num_players',\n",
            "    y='memory_in_mb',\n",
            "    color='function',\n",
            "    markers=True,  \n",
            "    title='Memory Usage by Number of Players (log scale)',\n",
            "    labels=labels,\n",
            "    log_x=True,\n",
            "    log_y=True,\n",
            "    template=template,\n",
            "    height=height,\n",
            "    width=width\n",
            ")\n",
            "\n",
            "fig.show()\n"
         ]
      },
      {
         "cell_type": "code",
         "execution_count": 12,
         "id": "ac7e4f05",
         "metadata": {},
         "outputs": [
            {
               "data": {
                  "application/vnd.plotly.v1+json": {
                     "config": {
                        "plotlyServerURL": "https://plot.ly"
                     },
                     "data": [
                        {
                           "hovertemplate": "Functions=%{y}<br>Memory usage (MB)=%{x}<extra></extra>",
                           "legendgroup": "dlt_flatten",
                           "marker": {
                              "color": "#636efa",
                              "pattern": {
                                 "shape": ""
                              }
                           },
                           "name": "dlt_flatten",
                           "orientation": "h",
                           "showlegend": true,
                           "textposition": "auto",
                           "texttemplate": "%{x:.3s}",
                           "type": "bar",
                           "x": {
                              "bdata": "j8L1KFxvU0A=",
                              "dtype": "f8"
                           },
                           "xaxis": "x",
                           "y": [
                              "dlt_flatten"
                           ],
                           "yaxis": "y"
                        },
                        {
                           "hovertemplate": "Functions=%{y}<br>Memory usage (MB)=%{x}<extra></extra>",
                           "legendgroup": "manual_flatten",
                           "marker": {
                              "color": "#EF553B",
                              "pattern": {
                                 "shape": ""
                              }
                           },
                           "name": "manual_flatten",
                           "orientation": "h",
                           "showlegend": true,
                           "textposition": "auto",
                           "texttemplate": "%{x:.3s}",
                           "type": "bar",
                           "x": {
                              "bdata": "AAAAAAAAVUA=",
                              "dtype": "f8"
                           },
                           "xaxis": "x",
                           "y": [
                              "manual_flatten"
                           ],
                           "yaxis": "y"
                        },
                        {
                           "hovertemplate": "Functions=%{y}<br>Memory usage (MB)=%{x}<extra></extra>",
                           "legendgroup": "unpack_operator_flatten",
                           "marker": {
                              "color": "#00cc96",
                              "pattern": {
                                 "shape": ""
                              }
                           },
                           "name": "unpack_operator_flatten",
                           "orientation": "h",
                           "showlegend": true,
                           "textposition": "auto",
                           "texttemplate": "%{x:.3s}",
                           "type": "bar",
                           "x": {
                              "bdata": "AAAAAAAAVUA=",
                              "dtype": "f8"
                           },
                           "xaxis": "x",
                           "y": [
                              "unpack_operator_flatten"
                           ],
                           "yaxis": "y"
                        },
                        {
                           "hovertemplate": "Functions=%{y}<br>Memory usage (MB)=%{x}<extra></extra>",
                           "legendgroup": "generator_flatten",
                           "marker": {
                              "color": "#ab63fa",
                              "pattern": {
                                 "shape": ""
                              }
                           },
                           "name": "generator_flatten",
                           "orientation": "h",
                           "showlegend": true,
                           "textposition": "auto",
                           "texttemplate": "%{x:.3s}",
                           "type": "bar",
                           "x": {
                              "bdata": "cT0K16MAVUA=",
                              "dtype": "f8"
                           },
                           "xaxis": "x",
                           "y": [
                              "generator_flatten"
                           ],
                           "yaxis": "y"
                        },
                        {
                           "hovertemplate": "Functions=%{y}<br>Memory usage (MB)=%{x}<extra></extra>",
                           "legendgroup": "polars_flatten",
                           "marker": {
                              "color": "#FFA15A",
                              "pattern": {
                                 "shape": ""
                              }
                           },
                           "name": "polars_flatten",
                           "orientation": "h",
                           "showlegend": true,
                           "textposition": "auto",
                           "texttemplate": "%{x:.3s}",
                           "type": "bar",
                           "x": {
                              "bdata": "4XoUrkcZYEA=",
                              "dtype": "f8"
                           },
                           "xaxis": "x",
                           "y": [
                              "polars_flatten"
                           ],
                           "yaxis": "y"
                        },
                        {
                           "hovertemplate": "Functions=%{y}<br>Memory usage (MB)=%{x}<extra></extra>",
                           "legendgroup": "flatdict_flatten",
                           "marker": {
                              "color": "#19d3f3",
                              "pattern": {
                                 "shape": ""
                              }
                           },
                           "name": "flatdict_flatten",
                           "orientation": "h",
                           "showlegend": true,
                           "textposition": "auto",
                           "texttemplate": "%{x:.3s}",
                           "type": "bar",
                           "x": {
                              "bdata": "cT0K16OwZ0A=",
                              "dtype": "f8"
                           },
                           "xaxis": "x",
                           "y": [
                              "flatdict_flatten"
                           ],
                           "yaxis": "y"
                        },
                        {
                           "hovertemplate": "Functions=%{y}<br>Memory usage (MB)=%{x}<extra></extra>",
                           "legendgroup": "pandas_flatten",
                           "marker": {
                              "color": "#FF6692",
                              "pattern": {
                                 "shape": ""
                              }
                           },
                           "name": "pandas_flatten",
                           "orientation": "h",
                           "showlegend": true,
                           "textposition": "auto",
                           "texttemplate": "%{x:.3s}",
                           "type": "bar",
                           "x": {
                              "bdata": "cT0K16PodkA=",
                              "dtype": "f8"
                           },
                           "xaxis": "x",
                           "y": [
                              "pandas_flatten"
                           ],
                           "yaxis": "y"
                        }
                     ],
                     "layout": {
                        "barmode": "relative",
                        "height": 800,
                        "legend": {
                           "title": {
                              "text": "Functions"
                           },
                           "tracegroupgap": 0
                        },
                        "template": {
                           "data": {
                              "bar": [
                                 {
                                    "error_x": {
                                       "color": "#f2f5fa"
                                    },
                                    "error_y": {
                                       "color": "#f2f5fa"
                                    },
                                    "marker": {
                                       "line": {
                                          "color": "rgb(17,17,17)",
                                          "width": 0.5
                                       },
                                       "pattern": {
                                          "fillmode": "overlay",
                                          "size": 10,
                                          "solidity": 0.2
                                       }
                                    },
                                    "type": "bar"
                                 }
                              ],
                              "barpolar": [
                                 {
                                    "marker": {
                                       "line": {
                                          "color": "rgb(17,17,17)",
                                          "width": 0.5
                                       },
                                       "pattern": {
                                          "fillmode": "overlay",
                                          "size": 10,
                                          "solidity": 0.2
                                       }
                                    },
                                    "type": "barpolar"
                                 }
                              ],
                              "carpet": [
                                 {
                                    "aaxis": {
                                       "endlinecolor": "#A2B1C6",
                                       "gridcolor": "#506784",
                                       "linecolor": "#506784",
                                       "minorgridcolor": "#506784",
                                       "startlinecolor": "#A2B1C6"
                                    },
                                    "baxis": {
                                       "endlinecolor": "#A2B1C6",
                                       "gridcolor": "#506784",
                                       "linecolor": "#506784",
                                       "minorgridcolor": "#506784",
                                       "startlinecolor": "#A2B1C6"
                                    },
                                    "type": "carpet"
                                 }
                              ],
                              "choropleth": [
                                 {
                                    "colorbar": {
                                       "outlinewidth": 0,
                                       "ticks": ""
                                    },
                                    "type": "choropleth"
                                 }
                              ],
                              "contour": [
                                 {
                                    "colorbar": {
                                       "outlinewidth": 0,
                                       "ticks": ""
                                    },
                                    "colorscale": [
                                       [
                                          0,
                                          "#0d0887"
                                       ],
                                       [
                                          0.1111111111111111,
                                          "#46039f"
                                       ],
                                       [
                                          0.2222222222222222,
                                          "#7201a8"
                                       ],
                                       [
                                          0.3333333333333333,
                                          "#9c179e"
                                       ],
                                       [
                                          0.4444444444444444,
                                          "#bd3786"
                                       ],
                                       [
                                          0.5555555555555556,
                                          "#d8576b"
                                       ],
                                       [
                                          0.6666666666666666,
                                          "#ed7953"
                                       ],
                                       [
                                          0.7777777777777778,
                                          "#fb9f3a"
                                       ],
                                       [
                                          0.8888888888888888,
                                          "#fdca26"
                                       ],
                                       [
                                          1,
                                          "#f0f921"
                                       ]
                                    ],
                                    "type": "contour"
                                 }
                              ],
                              "contourcarpet": [
                                 {
                                    "colorbar": {
                                       "outlinewidth": 0,
                                       "ticks": ""
                                    },
                                    "type": "contourcarpet"
                                 }
                              ],
                              "heatmap": [
                                 {
                                    "colorbar": {
                                       "outlinewidth": 0,
                                       "ticks": ""
                                    },
                                    "colorscale": [
                                       [
                                          0,
                                          "#0d0887"
                                       ],
                                       [
                                          0.1111111111111111,
                                          "#46039f"
                                       ],
                                       [
                                          0.2222222222222222,
                                          "#7201a8"
                                       ],
                                       [
                                          0.3333333333333333,
                                          "#9c179e"
                                       ],
                                       [
                                          0.4444444444444444,
                                          "#bd3786"
                                       ],
                                       [
                                          0.5555555555555556,
                                          "#d8576b"
                                       ],
                                       [
                                          0.6666666666666666,
                                          "#ed7953"
                                       ],
                                       [
                                          0.7777777777777778,
                                          "#fb9f3a"
                                       ],
                                       [
                                          0.8888888888888888,
                                          "#fdca26"
                                       ],
                                       [
                                          1,
                                          "#f0f921"
                                       ]
                                    ],
                                    "type": "heatmap"
                                 }
                              ],
                              "histogram": [
                                 {
                                    "marker": {
                                       "pattern": {
                                          "fillmode": "overlay",
                                          "size": 10,
                                          "solidity": 0.2
                                       }
                                    },
                                    "type": "histogram"
                                 }
                              ],
                              "histogram2d": [
                                 {
                                    "colorbar": {
                                       "outlinewidth": 0,
                                       "ticks": ""
                                    },
                                    "colorscale": [
                                       [
                                          0,
                                          "#0d0887"
                                       ],
                                       [
                                          0.1111111111111111,
                                          "#46039f"
                                       ],
                                       [
                                          0.2222222222222222,
                                          "#7201a8"
                                       ],
                                       [
                                          0.3333333333333333,
                                          "#9c179e"
                                       ],
                                       [
                                          0.4444444444444444,
                                          "#bd3786"
                                       ],
                                       [
                                          0.5555555555555556,
                                          "#d8576b"
                                       ],
                                       [
                                          0.6666666666666666,
                                          "#ed7953"
                                       ],
                                       [
                                          0.7777777777777778,
                                          "#fb9f3a"
                                       ],
                                       [
                                          0.8888888888888888,
                                          "#fdca26"
                                       ],
                                       [
                                          1,
                                          "#f0f921"
                                       ]
                                    ],
                                    "type": "histogram2d"
                                 }
                              ],
                              "histogram2dcontour": [
                                 {
                                    "colorbar": {
                                       "outlinewidth": 0,
                                       "ticks": ""
                                    },
                                    "colorscale": [
                                       [
                                          0,
                                          "#0d0887"
                                       ],
                                       [
                                          0.1111111111111111,
                                          "#46039f"
                                       ],
                                       [
                                          0.2222222222222222,
                                          "#7201a8"
                                       ],
                                       [
                                          0.3333333333333333,
                                          "#9c179e"
                                       ],
                                       [
                                          0.4444444444444444,
                                          "#bd3786"
                                       ],
                                       [
                                          0.5555555555555556,
                                          "#d8576b"
                                       ],
                                       [
                                          0.6666666666666666,
                                          "#ed7953"
                                       ],
                                       [
                                          0.7777777777777778,
                                          "#fb9f3a"
                                       ],
                                       [
                                          0.8888888888888888,
                                          "#fdca26"
                                       ],
                                       [
                                          1,
                                          "#f0f921"
                                       ]
                                    ],
                                    "type": "histogram2dcontour"
                                 }
                              ],
                              "mesh3d": [
                                 {
                                    "colorbar": {
                                       "outlinewidth": 0,
                                       "ticks": ""
                                    },
                                    "type": "mesh3d"
                                 }
                              ],
                              "parcoords": [
                                 {
                                    "line": {
                                       "colorbar": {
                                          "outlinewidth": 0,
                                          "ticks": ""
                                       }
                                    },
                                    "type": "parcoords"
                                 }
                              ],
                              "pie": [
                                 {
                                    "automargin": true,
                                    "type": "pie"
                                 }
                              ],
                              "scatter": [
                                 {
                                    "marker": {
                                       "line": {
                                          "color": "#283442"
                                       }
                                    },
                                    "type": "scatter"
                                 }
                              ],
                              "scatter3d": [
                                 {
                                    "line": {
                                       "colorbar": {
                                          "outlinewidth": 0,
                                          "ticks": ""
                                       }
                                    },
                                    "marker": {
                                       "colorbar": {
                                          "outlinewidth": 0,
                                          "ticks": ""
                                       }
                                    },
                                    "type": "scatter3d"
                                 }
                              ],
                              "scattercarpet": [
                                 {
                                    "marker": {
                                       "colorbar": {
                                          "outlinewidth": 0,
                                          "ticks": ""
                                       }
                                    },
                                    "type": "scattercarpet"
                                 }
                              ],
                              "scattergeo": [
                                 {
                                    "marker": {
                                       "colorbar": {
                                          "outlinewidth": 0,
                                          "ticks": ""
                                       }
                                    },
                                    "type": "scattergeo"
                                 }
                              ],
                              "scattergl": [
                                 {
                                    "marker": {
                                       "line": {
                                          "color": "#283442"
                                       }
                                    },
                                    "type": "scattergl"
                                 }
                              ],
                              "scattermap": [
                                 {
                                    "marker": {
                                       "colorbar": {
                                          "outlinewidth": 0,
                                          "ticks": ""
                                       }
                                    },
                                    "type": "scattermap"
                                 }
                              ],
                              "scattermapbox": [
                                 {
                                    "marker": {
                                       "colorbar": {
                                          "outlinewidth": 0,
                                          "ticks": ""
                                       }
                                    },
                                    "type": "scattermapbox"
                                 }
                              ],
                              "scatterpolar": [
                                 {
                                    "marker": {
                                       "colorbar": {
                                          "outlinewidth": 0,
                                          "ticks": ""
                                       }
                                    },
                                    "type": "scatterpolar"
                                 }
                              ],
                              "scatterpolargl": [
                                 {
                                    "marker": {
                                       "colorbar": {
                                          "outlinewidth": 0,
                                          "ticks": ""
                                       }
                                    },
                                    "type": "scatterpolargl"
                                 }
                              ],
                              "scatterternary": [
                                 {
                                    "marker": {
                                       "colorbar": {
                                          "outlinewidth": 0,
                                          "ticks": ""
                                       }
                                    },
                                    "type": "scatterternary"
                                 }
                              ],
                              "surface": [
                                 {
                                    "colorbar": {
                                       "outlinewidth": 0,
                                       "ticks": ""
                                    },
                                    "colorscale": [
                                       [
                                          0,
                                          "#0d0887"
                                       ],
                                       [
                                          0.1111111111111111,
                                          "#46039f"
                                       ],
                                       [
                                          0.2222222222222222,
                                          "#7201a8"
                                       ],
                                       [
                                          0.3333333333333333,
                                          "#9c179e"
                                       ],
                                       [
                                          0.4444444444444444,
                                          "#bd3786"
                                       ],
                                       [
                                          0.5555555555555556,
                                          "#d8576b"
                                       ],
                                       [
                                          0.6666666666666666,
                                          "#ed7953"
                                       ],
                                       [
                                          0.7777777777777778,
                                          "#fb9f3a"
                                       ],
                                       [
                                          0.8888888888888888,
                                          "#fdca26"
                                       ],
                                       [
                                          1,
                                          "#f0f921"
                                       ]
                                    ],
                                    "type": "surface"
                                 }
                              ],
                              "table": [
                                 {
                                    "cells": {
                                       "fill": {
                                          "color": "#506784"
                                       },
                                       "line": {
                                          "color": "rgb(17,17,17)"
                                       }
                                    },
                                    "header": {
                                       "fill": {
                                          "color": "#2a3f5f"
                                       },
                                       "line": {
                                          "color": "rgb(17,17,17)"
                                       }
                                    },
                                    "type": "table"
                                 }
                              ]
                           },
                           "layout": {
                              "annotationdefaults": {
                                 "arrowcolor": "#f2f5fa",
                                 "arrowhead": 0,
                                 "arrowwidth": 1
                              },
                              "autotypenumbers": "strict",
                              "coloraxis": {
                                 "colorbar": {
                                    "outlinewidth": 0,
                                    "ticks": ""
                                 }
                              },
                              "colorscale": {
                                 "diverging": [
                                    [
                                       0,
                                       "#8e0152"
                                    ],
                                    [
                                       0.1,
                                       "#c51b7d"
                                    ],
                                    [
                                       0.2,
                                       "#de77ae"
                                    ],
                                    [
                                       0.3,
                                       "#f1b6da"
                                    ],
                                    [
                                       0.4,
                                       "#fde0ef"
                                    ],
                                    [
                                       0.5,
                                       "#f7f7f7"
                                    ],
                                    [
                                       0.6,
                                       "#e6f5d0"
                                    ],
                                    [
                                       0.7,
                                       "#b8e186"
                                    ],
                                    [
                                       0.8,
                                       "#7fbc41"
                                    ],
                                    [
                                       0.9,
                                       "#4d9221"
                                    ],
                                    [
                                       1,
                                       "#276419"
                                    ]
                                 ],
                                 "sequential": [
                                    [
                                       0,
                                       "#0d0887"
                                    ],
                                    [
                                       0.1111111111111111,
                                       "#46039f"
                                    ],
                                    [
                                       0.2222222222222222,
                                       "#7201a8"
                                    ],
                                    [
                                       0.3333333333333333,
                                       "#9c179e"
                                    ],
                                    [
                                       0.4444444444444444,
                                       "#bd3786"
                                    ],
                                    [
                                       0.5555555555555556,
                                       "#d8576b"
                                    ],
                                    [
                                       0.6666666666666666,
                                       "#ed7953"
                                    ],
                                    [
                                       0.7777777777777778,
                                       "#fb9f3a"
                                    ],
                                    [
                                       0.8888888888888888,
                                       "#fdca26"
                                    ],
                                    [
                                       1,
                                       "#f0f921"
                                    ]
                                 ],
                                 "sequentialminus": [
                                    [
                                       0,
                                       "#0d0887"
                                    ],
                                    [
                                       0.1111111111111111,
                                       "#46039f"
                                    ],
                                    [
                                       0.2222222222222222,
                                       "#7201a8"
                                    ],
                                    [
                                       0.3333333333333333,
                                       "#9c179e"
                                    ],
                                    [
                                       0.4444444444444444,
                                       "#bd3786"
                                    ],
                                    [
                                       0.5555555555555556,
                                       "#d8576b"
                                    ],
                                    [
                                       0.6666666666666666,
                                       "#ed7953"
                                    ],
                                    [
                                       0.7777777777777778,
                                       "#fb9f3a"
                                    ],
                                    [
                                       0.8888888888888888,
                                       "#fdca26"
                                    ],
                                    [
                                       1,
                                       "#f0f921"
                                    ]
                                 ]
                              },
                              "colorway": [
                                 "#636efa",
                                 "#EF553B",
                                 "#00cc96",
                                 "#ab63fa",
                                 "#FFA15A",
                                 "#19d3f3",
                                 "#FF6692",
                                 "#B6E880",
                                 "#FF97FF",
                                 "#FECB52"
                              ],
                              "font": {
                                 "color": "#f2f5fa"
                              },
                              "geo": {
                                 "bgcolor": "rgb(17,17,17)",
                                 "lakecolor": "rgb(17,17,17)",
                                 "landcolor": "rgb(17,17,17)",
                                 "showlakes": true,
                                 "showland": true,
                                 "subunitcolor": "#506784"
                              },
                              "hoverlabel": {
                                 "align": "left"
                              },
                              "hovermode": "closest",
                              "mapbox": {
                                 "style": "dark"
                              },
                              "paper_bgcolor": "rgb(17,17,17)",
                              "plot_bgcolor": "rgb(17,17,17)",
                              "polar": {
                                 "angularaxis": {
                                    "gridcolor": "#506784",
                                    "linecolor": "#506784",
                                    "ticks": ""
                                 },
                                 "bgcolor": "rgb(17,17,17)",
                                 "radialaxis": {
                                    "gridcolor": "#506784",
                                    "linecolor": "#506784",
                                    "ticks": ""
                                 }
                              },
                              "scene": {
                                 "xaxis": {
                                    "backgroundcolor": "rgb(17,17,17)",
                                    "gridcolor": "#506784",
                                    "gridwidth": 2,
                                    "linecolor": "#506784",
                                    "showbackground": true,
                                    "ticks": "",
                                    "zerolinecolor": "#C8D4E3"
                                 },
                                 "yaxis": {
                                    "backgroundcolor": "rgb(17,17,17)",
                                    "gridcolor": "#506784",
                                    "gridwidth": 2,
                                    "linecolor": "#506784",
                                    "showbackground": true,
                                    "ticks": "",
                                    "zerolinecolor": "#C8D4E3"
                                 },
                                 "zaxis": {
                                    "backgroundcolor": "rgb(17,17,17)",
                                    "gridcolor": "#506784",
                                    "gridwidth": 2,
                                    "linecolor": "#506784",
                                    "showbackground": true,
                                    "ticks": "",
                                    "zerolinecolor": "#C8D4E3"
                                 }
                              },
                              "shapedefaults": {
                                 "line": {
                                    "color": "#f2f5fa"
                                 }
                              },
                              "sliderdefaults": {
                                 "bgcolor": "#C8D4E3",
                                 "bordercolor": "rgb(17,17,17)",
                                 "borderwidth": 1,
                                 "tickwidth": 0
                              },
                              "ternary": {
                                 "aaxis": {
                                    "gridcolor": "#506784",
                                    "linecolor": "#506784",
                                    "ticks": ""
                                 },
                                 "baxis": {
                                    "gridcolor": "#506784",
                                    "linecolor": "#506784",
                                    "ticks": ""
                                 },
                                 "bgcolor": "rgb(17,17,17)",
                                 "caxis": {
                                    "gridcolor": "#506784",
                                    "linecolor": "#506784",
                                    "ticks": ""
                                 }
                              },
                              "title": {
                                 "x": 0.05
                              },
                              "updatemenudefaults": {
                                 "bgcolor": "#506784",
                                 "borderwidth": 0
                              },
                              "xaxis": {
                                 "automargin": true,
                                 "gridcolor": "#283442",
                                 "linecolor": "#506784",
                                 "ticks": "",
                                 "title": {
                                    "standoff": 15
                                 },
                                 "zerolinecolor": "#283442",
                                 "zerolinewidth": 2
                              },
                              "yaxis": {
                                 "automargin": true,
                                 "gridcolor": "#283442",
                                 "linecolor": "#506784",
                                 "ticks": "",
                                 "title": {
                                    "standoff": 15
                                 },
                                 "zerolinecolor": "#283442",
                                 "zerolinewidth": 2
                              }
                           }
                        },
                        "title": {
                           "text": "Memory usage for 100k players (in MB)"
                        },
                        "width": 1200,
                        "xaxis": {
                           "anchor": "y",
                           "domain": [
                              0,
                              1
                           ],
                           "title": {
                              "text": "Memory usage (MB)"
                           }
                        },
                        "yaxis": {
                           "anchor": "x",
                           "categoryarray": [
                              "pandas_flatten",
                              "flatdict_flatten",
                              "polars_flatten",
                              "generator_flatten",
                              "unpack_operator_flatten",
                              "manual_flatten",
                              "dlt_flatten"
                           ],
                           "categoryorder": "array",
                           "domain": [
                              0,
                              1
                           ],
                           "title": {
                              "text": "Functions"
                           }
                        }
                     }
                  }
               },
               "metadata": {},
               "output_type": "display_data"
            }
         ],
         "source": [
            "bar_time = px.bar(\n",
            "    df_max_players.sort_values('memory_in_mb'),\n",
            "    title='Memory usage for 100k players (in MB)',\n",
            "    labels=labels,\n",
            "    x='memory_in_mb',\n",
            "    y='function',\n",
            "    color='function',\n",
            "    #barmode='group',\n",
            "    text_auto='.3s',\n",
            "    orientation='h',\n",
            "    template=template,\n",
            "    height=height,\n",
            "    width=width\n",
            ")\n",
            "\n",
            "bar_time.show()"
         ]
      },
      {
         "cell_type": "code",
         "execution_count": 13,
         "id": "348d55d5",
         "metadata": {},
         "outputs": [
            {
               "data": {
                  "application/vnd.plotly.v1+json": {
                     "config": {
                        "plotlyServerURL": "https://plot.ly"
                     },
                     "data": [
                        {
                           "hovertemplate": "Functions=%{x}<br>Number of players=100<br>Memory usage (MB)=%{y}<extra></extra>",
                           "legendgroup": "unpack_operator_flatten",
                           "marker": {
                              "color": "#636efa",
                              "pattern": {
                                 "shape": ""
                              }
                           },
                           "name": "unpack_operator_flatten",
                           "orientation": "v",
                           "showlegend": true,
                           "textposition": "auto",
                           "texttemplate": "%{y:.2s}",
                           "type": "bar",
                           "x": [
                              "unpack_operator_flatten"
                           ],
                           "xaxis": "x",
                           "y": {
                              "bdata": "PL1SliGOtT8=",
                              "dtype": "f8"
                           },
                           "yaxis": "y"
                        },
                        {
                           "hovertemplate": "Functions=%{x}<br>Number of players=100000<br>Memory usage (MB)=%{y}<extra></extra>",
                           "legendgroup": "unpack_operator_flatten",
                           "marker": {
                              "color": "#636efa",
                              "pattern": {
                                 "shape": ""
                              }
                           },
                           "name": "unpack_operator_flatten",
                           "orientation": "v",
                           "showlegend": false,
                           "textposition": "auto",
                           "texttemplate": "%{y:.2s}",
                           "type": "bar",
                           "x": [
                              "unpack_operator_flatten"
                           ],
                           "xaxis": "x2",
                           "y": {
                              "bdata": "/Uy9bhEAVUA=",
                              "dtype": "f8"
                           },
                           "yaxis": "y2"
                        },
                        {
                           "hovertemplate": "Functions=%{x}<br>Number of players=100<br>Memory usage (MB)=%{y}<extra></extra>",
                           "legendgroup": "manual_flatten",
                           "marker": {
                              "color": "#EF553B",
                              "pattern": {
                                 "shape": ""
                              }
                           },
                           "name": "manual_flatten",
                           "orientation": "v",
                           "showlegend": true,
                           "textposition": "auto",
                           "texttemplate": "%{y:.2s}",
                           "type": "bar",
                           "x": [
                              "manual_flatten"
                           ],
                           "xaxis": "x",
                           "y": {
                              "bdata": "w/UoXI/CtT8=",
                              "dtype": "f8"
                           },
                           "yaxis": "y"
                        },
                        {
                           "hovertemplate": "Functions=%{x}<br>Number of players=100000<br>Memory usage (MB)=%{y}<extra></extra>",
                           "legendgroup": "manual_flatten",
                           "marker": {
                              "color": "#EF553B",
                              "pattern": {
                                 "shape": ""
                              }
                           },
                           "name": "manual_flatten",
                           "orientation": "v",
                           "showlegend": false,
                           "textposition": "auto",
                           "texttemplate": "%{y:.2s}",
                           "type": "bar",
                           "x": [
                              "manual_flatten"
                           ],
                           "xaxis": "x2",
                           "y": {
                              "bdata": "i8Iuih4AVUA=",
                              "dtype": "f8"
                           },
                           "yaxis": "y2"
                        },
                        {
                           "hovertemplate": "Functions=%{x}<br>Number of players=100<br>Memory usage (MB)=%{y}<extra></extra>",
                           "legendgroup": "generator_flatten",
                           "marker": {
                              "color": "#00cc96",
                              "pattern": {
                                 "shape": ""
                              }
                           },
                           "name": "generator_flatten",
                           "orientation": "v",
                           "showlegend": true,
                           "textposition": "auto",
                           "texttemplate": "%{y:.2s}",
                           "type": "bar",
                           "x": [
                              "generator_flatten"
                           ],
                           "xaxis": "x",
                           "y": {
                              "bdata": "ti+gF+5cuD8=",
                              "dtype": "f8"
                           },
                           "yaxis": "y"
                        },
                        {
                           "hovertemplate": "Functions=%{x}<br>Number of players=100000<br>Memory usage (MB)=%{y}<extra></extra>",
                           "legendgroup": "generator_flatten",
                           "marker": {
                              "color": "#00cc96",
                              "pattern": {
                                 "shape": ""
                              }
                           },
                           "name": "generator_flatten",
                           "orientation": "v",
                           "showlegend": false,
                           "textposition": "auto",
                           "texttemplate": "%{y:.2s}",
                           "type": "bar",
                           "x": [
                              "generator_flatten"
                           ],
                           "xaxis": "x2",
                           "y": {
                              "bdata": "+S8QBMgAVUA=",
                              "dtype": "f8"
                           },
                           "yaxis": "y2"
                        },
                        {
                           "hovertemplate": "Functions=%{x}<br>Number of players=100<br>Memory usage (MB)=%{y}<extra></extra>",
                           "legendgroup": "polars_flatten",
                           "marker": {
                              "color": "#ab63fa",
                              "pattern": {
                                 "shape": ""
                              }
                           },
                           "name": "polars_flatten",
                           "orientation": "v",
                           "showlegend": true,
                           "textposition": "auto",
                           "texttemplate": "%{y:.2s}",
                           "type": "bar",
                           "x": [
                              "polars_flatten"
                           ],
                           "xaxis": "x",
                           "y": {
                              "bdata": "uJVem42VwD8=",
                              "dtype": "f8"
                           },
                           "yaxis": "y"
                        },
                        {
                           "hovertemplate": "Functions=%{x}<br>Number of players=100000<br>Memory usage (MB)=%{y}<extra></extra>",
                           "legendgroup": "polars_flatten",
                           "marker": {
                              "color": "#ab63fa",
                              "pattern": {
                                 "shape": ""
                              }
                           },
                           "name": "polars_flatten",
                           "orientation": "v",
                           "showlegend": false,
                           "textposition": "auto",
                           "texttemplate": "%{y:.2s}",
                           "type": "bar",
                           "x": [
                              "polars_flatten"
                           ],
                           "xaxis": "x2",
                           "y": {
                              "bdata": "VdriGh8ZYEA=",
                              "dtype": "f8"
                           },
                           "yaxis": "y2"
                        },
                        {
                           "hovertemplate": "Functions=%{x}<br>Number of players=100<br>Memory usage (MB)=%{y}<extra></extra>",
                           "legendgroup": "flatdict_flatten",
                           "marker": {
                              "color": "#FFA15A",
                              "pattern": {
                                 "shape": ""
                              }
                           },
                           "name": "flatdict_flatten",
                           "orientation": "v",
                           "showlegend": true,
                           "textposition": "auto",
                           "texttemplate": "%{y:.2s}",
                           "type": "bar",
                           "x": [
                              "flatdict_flatten"
                           ],
                           "xaxis": "x",
                           "y": {
                              "bdata": "hC12+6wyyz8=",
                              "dtype": "f8"
                           },
                           "yaxis": "y"
                        },
                        {
                           "hovertemplate": "Functions=%{x}<br>Number of players=100000<br>Memory usage (MB)=%{y}<extra></extra>",
                           "legendgroup": "flatdict_flatten",
                           "marker": {
                              "color": "#FFA15A",
                              "pattern": {
                                 "shape": ""
                              }
                           },
                           "name": "flatdict_flatten",
                           "orientation": "v",
                           "showlegend": false,
                           "textposition": "auto",
                           "texttemplate": "%{y:.2s}",
                           "type": "bar",
                           "x": [
                              "flatdict_flatten"
                           ],
                           "xaxis": "x2",
                           "y": {
                              "bdata": "ZoLhXMOwZ0A=",
                              "dtype": "f8"
                           },
                           "yaxis": "y2"
                        },
                        {
                           "hovertemplate": "Functions=%{x}<br>Number of players=100<br>Memory usage (MB)=%{y}<extra></extra>",
                           "legendgroup": "dlt_flatten",
                           "marker": {
                              "color": "#19d3f3",
                              "pattern": {
                                 "shape": ""
                              }
                           },
                           "name": "dlt_flatten",
                           "orientation": "v",
                           "showlegend": true,
                           "textposition": "auto",
                           "texttemplate": "%{y:.2s}",
                           "type": "bar",
                           "x": [
                              "dlt_flatten"
                           ],
                           "xaxis": "x",
                           "y": {
                              "bdata": "YRqGj4gp0j8=",
                              "dtype": "f8"
                           },
                           "yaxis": "y"
                        },
                        {
                           "hovertemplate": "Functions=%{x}<br>Number of players=100000<br>Memory usage (MB)=%{y}<extra></extra>",
                           "legendgroup": "dlt_flatten",
                           "marker": {
                              "color": "#19d3f3",
                              "pattern": {
                                 "shape": ""
                              }
                           },
                           "name": "dlt_flatten",
                           "orientation": "v",
                           "showlegend": false,
                           "textposition": "auto",
                           "texttemplate": "%{y:.2s}",
                           "type": "bar",
                           "x": [
                              "dlt_flatten"
                           ],
                           "xaxis": "x2",
                           "y": {
                              "bdata": "YJD0aRVvU0A=",
                              "dtype": "f8"
                           },
                           "yaxis": "y2"
                        },
                        {
                           "hovertemplate": "Functions=%{x}<br>Number of players=100<br>Memory usage (MB)=%{y}<extra></extra>",
                           "legendgroup": "pandas_flatten",
                           "marker": {
                              "color": "#FF6692",
                              "pattern": {
                                 "shape": ""
                              }
                           },
                           "name": "pandas_flatten",
                           "orientation": "v",
                           "showlegend": true,
                           "textposition": "auto",
                           "texttemplate": "%{y:.2s}",
                           "type": "bar",
                           "x": [
                              "pandas_flatten"
                           ],
                           "xaxis": "x",
                           "y": {
                              "bdata": "HXQJh97i2T8=",
                              "dtype": "f8"
                           },
                           "yaxis": "y"
                        },
                        {
                           "hovertemplate": "Functions=%{x}<br>Number of players=100000<br>Memory usage (MB)=%{y}<extra></extra>",
                           "legendgroup": "pandas_flatten",
                           "marker": {
                              "color": "#FF6692",
                              "pattern": {
                                 "shape": ""
                              }
                           },
                           "name": "pandas_flatten",
                           "orientation": "v",
                           "showlegend": false,
                           "textposition": "auto",
                           "texttemplate": "%{y:.2s}",
                           "type": "bar",
                           "x": [
                              "pandas_flatten"
                           ],
                           "xaxis": "x2",
                           "y": {
                              "bdata": "wHYwYp/odkA=",
                              "dtype": "f8"
                           },
                           "yaxis": "y2"
                        }
                     ],
                     "layout": {
                        "annotations": [
                           {
                              "font": {},
                              "showarrow": false,
                              "text": "100 players",
                              "x": 0.245,
                              "xanchor": "center",
                              "xref": "paper",
                              "y": 1,
                              "yanchor": "bottom",
                              "yref": "paper"
                           },
                           {
                              "font": {},
                              "showarrow": false,
                              "text": "100000 players",
                              "x": 0.755,
                              "xanchor": "center",
                              "xref": "paper",
                              "y": 1,
                              "yanchor": "bottom",
                              "yref": "paper"
                           }
                        ],
                        "barmode": "relative",
                        "height": 800,
                        "legend": {
                           "title": {
                              "text": "Functions"
                           },
                           "tracegroupgap": 0
                        },
                        "template": {
                           "data": {
                              "bar": [
                                 {
                                    "error_x": {
                                       "color": "#f2f5fa"
                                    },
                                    "error_y": {
                                       "color": "#f2f5fa"
                                    },
                                    "marker": {
                                       "line": {
                                          "color": "rgb(17,17,17)",
                                          "width": 0.5
                                       },
                                       "pattern": {
                                          "fillmode": "overlay",
                                          "size": 10,
                                          "solidity": 0.2
                                       }
                                    },
                                    "type": "bar"
                                 }
                              ],
                              "barpolar": [
                                 {
                                    "marker": {
                                       "line": {
                                          "color": "rgb(17,17,17)",
                                          "width": 0.5
                                       },
                                       "pattern": {
                                          "fillmode": "overlay",
                                          "size": 10,
                                          "solidity": 0.2
                                       }
                                    },
                                    "type": "barpolar"
                                 }
                              ],
                              "carpet": [
                                 {
                                    "aaxis": {
                                       "endlinecolor": "#A2B1C6",
                                       "gridcolor": "#506784",
                                       "linecolor": "#506784",
                                       "minorgridcolor": "#506784",
                                       "startlinecolor": "#A2B1C6"
                                    },
                                    "baxis": {
                                       "endlinecolor": "#A2B1C6",
                                       "gridcolor": "#506784",
                                       "linecolor": "#506784",
                                       "minorgridcolor": "#506784",
                                       "startlinecolor": "#A2B1C6"
                                    },
                                    "type": "carpet"
                                 }
                              ],
                              "choropleth": [
                                 {
                                    "colorbar": {
                                       "outlinewidth": 0,
                                       "ticks": ""
                                    },
                                    "type": "choropleth"
                                 }
                              ],
                              "contour": [
                                 {
                                    "colorbar": {
                                       "outlinewidth": 0,
                                       "ticks": ""
                                    },
                                    "colorscale": [
                                       [
                                          0,
                                          "#0d0887"
                                       ],
                                       [
                                          0.1111111111111111,
                                          "#46039f"
                                       ],
                                       [
                                          0.2222222222222222,
                                          "#7201a8"
                                       ],
                                       [
                                          0.3333333333333333,
                                          "#9c179e"
                                       ],
                                       [
                                          0.4444444444444444,
                                          "#bd3786"
                                       ],
                                       [
                                          0.5555555555555556,
                                          "#d8576b"
                                       ],
                                       [
                                          0.6666666666666666,
                                          "#ed7953"
                                       ],
                                       [
                                          0.7777777777777778,
                                          "#fb9f3a"
                                       ],
                                       [
                                          0.8888888888888888,
                                          "#fdca26"
                                       ],
                                       [
                                          1,
                                          "#f0f921"
                                       ]
                                    ],
                                    "type": "contour"
                                 }
                              ],
                              "contourcarpet": [
                                 {
                                    "colorbar": {
                                       "outlinewidth": 0,
                                       "ticks": ""
                                    },
                                    "type": "contourcarpet"
                                 }
                              ],
                              "heatmap": [
                                 {
                                    "colorbar": {
                                       "outlinewidth": 0,
                                       "ticks": ""
                                    },
                                    "colorscale": [
                                       [
                                          0,
                                          "#0d0887"
                                       ],
                                       [
                                          0.1111111111111111,
                                          "#46039f"
                                       ],
                                       [
                                          0.2222222222222222,
                                          "#7201a8"
                                       ],
                                       [
                                          0.3333333333333333,
                                          "#9c179e"
                                       ],
                                       [
                                          0.4444444444444444,
                                          "#bd3786"
                                       ],
                                       [
                                          0.5555555555555556,
                                          "#d8576b"
                                       ],
                                       [
                                          0.6666666666666666,
                                          "#ed7953"
                                       ],
                                       [
                                          0.7777777777777778,
                                          "#fb9f3a"
                                       ],
                                       [
                                          0.8888888888888888,
                                          "#fdca26"
                                       ],
                                       [
                                          1,
                                          "#f0f921"
                                       ]
                                    ],
                                    "type": "heatmap"
                                 }
                              ],
                              "histogram": [
                                 {
                                    "marker": {
                                       "pattern": {
                                          "fillmode": "overlay",
                                          "size": 10,
                                          "solidity": 0.2
                                       }
                                    },
                                    "type": "histogram"
                                 }
                              ],
                              "histogram2d": [
                                 {
                                    "colorbar": {
                                       "outlinewidth": 0,
                                       "ticks": ""
                                    },
                                    "colorscale": [
                                       [
                                          0,
                                          "#0d0887"
                                       ],
                                       [
                                          0.1111111111111111,
                                          "#46039f"
                                       ],
                                       [
                                          0.2222222222222222,
                                          "#7201a8"
                                       ],
                                       [
                                          0.3333333333333333,
                                          "#9c179e"
                                       ],
                                       [
                                          0.4444444444444444,
                                          "#bd3786"
                                       ],
                                       [
                                          0.5555555555555556,
                                          "#d8576b"
                                       ],
                                       [
                                          0.6666666666666666,
                                          "#ed7953"
                                       ],
                                       [
                                          0.7777777777777778,
                                          "#fb9f3a"
                                       ],
                                       [
                                          0.8888888888888888,
                                          "#fdca26"
                                       ],
                                       [
                                          1,
                                          "#f0f921"
                                       ]
                                    ],
                                    "type": "histogram2d"
                                 }
                              ],
                              "histogram2dcontour": [
                                 {
                                    "colorbar": {
                                       "outlinewidth": 0,
                                       "ticks": ""
                                    },
                                    "colorscale": [
                                       [
                                          0,
                                          "#0d0887"
                                       ],
                                       [
                                          0.1111111111111111,
                                          "#46039f"
                                       ],
                                       [
                                          0.2222222222222222,
                                          "#7201a8"
                                       ],
                                       [
                                          0.3333333333333333,
                                          "#9c179e"
                                       ],
                                       [
                                          0.4444444444444444,
                                          "#bd3786"
                                       ],
                                       [
                                          0.5555555555555556,
                                          "#d8576b"
                                       ],
                                       [
                                          0.6666666666666666,
                                          "#ed7953"
                                       ],
                                       [
                                          0.7777777777777778,
                                          "#fb9f3a"
                                       ],
                                       [
                                          0.8888888888888888,
                                          "#fdca26"
                                       ],
                                       [
                                          1,
                                          "#f0f921"
                                       ]
                                    ],
                                    "type": "histogram2dcontour"
                                 }
                              ],
                              "mesh3d": [
                                 {
                                    "colorbar": {
                                       "outlinewidth": 0,
                                       "ticks": ""
                                    },
                                    "type": "mesh3d"
                                 }
                              ],
                              "parcoords": [
                                 {
                                    "line": {
                                       "colorbar": {
                                          "outlinewidth": 0,
                                          "ticks": ""
                                       }
                                    },
                                    "type": "parcoords"
                                 }
                              ],
                              "pie": [
                                 {
                                    "automargin": true,
                                    "type": "pie"
                                 }
                              ],
                              "scatter": [
                                 {
                                    "marker": {
                                       "line": {
                                          "color": "#283442"
                                       }
                                    },
                                    "type": "scatter"
                                 }
                              ],
                              "scatter3d": [
                                 {
                                    "line": {
                                       "colorbar": {
                                          "outlinewidth": 0,
                                          "ticks": ""
                                       }
                                    },
                                    "marker": {
                                       "colorbar": {
                                          "outlinewidth": 0,
                                          "ticks": ""
                                       }
                                    },
                                    "type": "scatter3d"
                                 }
                              ],
                              "scattercarpet": [
                                 {
                                    "marker": {
                                       "colorbar": {
                                          "outlinewidth": 0,
                                          "ticks": ""
                                       }
                                    },
                                    "type": "scattercarpet"
                                 }
                              ],
                              "scattergeo": [
                                 {
                                    "marker": {
                                       "colorbar": {
                                          "outlinewidth": 0,
                                          "ticks": ""
                                       }
                                    },
                                    "type": "scattergeo"
                                 }
                              ],
                              "scattergl": [
                                 {
                                    "marker": {
                                       "line": {
                                          "color": "#283442"
                                       }
                                    },
                                    "type": "scattergl"
                                 }
                              ],
                              "scattermap": [
                                 {
                                    "marker": {
                                       "colorbar": {
                                          "outlinewidth": 0,
                                          "ticks": ""
                                       }
                                    },
                                    "type": "scattermap"
                                 }
                              ],
                              "scattermapbox": [
                                 {
                                    "marker": {
                                       "colorbar": {
                                          "outlinewidth": 0,
                                          "ticks": ""
                                       }
                                    },
                                    "type": "scattermapbox"
                                 }
                              ],
                              "scatterpolar": [
                                 {
                                    "marker": {
                                       "colorbar": {
                                          "outlinewidth": 0,
                                          "ticks": ""
                                       }
                                    },
                                    "type": "scatterpolar"
                                 }
                              ],
                              "scatterpolargl": [
                                 {
                                    "marker": {
                                       "colorbar": {
                                          "outlinewidth": 0,
                                          "ticks": ""
                                       }
                                    },
                                    "type": "scatterpolargl"
                                 }
                              ],
                              "scatterternary": [
                                 {
                                    "marker": {
                                       "colorbar": {
                                          "outlinewidth": 0,
                                          "ticks": ""
                                       }
                                    },
                                    "type": "scatterternary"
                                 }
                              ],
                              "surface": [
                                 {
                                    "colorbar": {
                                       "outlinewidth": 0,
                                       "ticks": ""
                                    },
                                    "colorscale": [
                                       [
                                          0,
                                          "#0d0887"
                                       ],
                                       [
                                          0.1111111111111111,
                                          "#46039f"
                                       ],
                                       [
                                          0.2222222222222222,
                                          "#7201a8"
                                       ],
                                       [
                                          0.3333333333333333,
                                          "#9c179e"
                                       ],
                                       [
                                          0.4444444444444444,
                                          "#bd3786"
                                       ],
                                       [
                                          0.5555555555555556,
                                          "#d8576b"
                                       ],
                                       [
                                          0.6666666666666666,
                                          "#ed7953"
                                       ],
                                       [
                                          0.7777777777777778,
                                          "#fb9f3a"
                                       ],
                                       [
                                          0.8888888888888888,
                                          "#fdca26"
                                       ],
                                       [
                                          1,
                                          "#f0f921"
                                       ]
                                    ],
                                    "type": "surface"
                                 }
                              ],
                              "table": [
                                 {
                                    "cells": {
                                       "fill": {
                                          "color": "#506784"
                                       },
                                       "line": {
                                          "color": "rgb(17,17,17)"
                                       }
                                    },
                                    "header": {
                                       "fill": {
                                          "color": "#2a3f5f"
                                       },
                                       "line": {
                                          "color": "rgb(17,17,17)"
                                       }
                                    },
                                    "type": "table"
                                 }
                              ]
                           },
                           "layout": {
                              "annotationdefaults": {
                                 "arrowcolor": "#f2f5fa",
                                 "arrowhead": 0,
                                 "arrowwidth": 1
                              },
                              "autotypenumbers": "strict",
                              "coloraxis": {
                                 "colorbar": {
                                    "outlinewidth": 0,
                                    "ticks": ""
                                 }
                              },
                              "colorscale": {
                                 "diverging": [
                                    [
                                       0,
                                       "#8e0152"
                                    ],
                                    [
                                       0.1,
                                       "#c51b7d"
                                    ],
                                    [
                                       0.2,
                                       "#de77ae"
                                    ],
                                    [
                                       0.3,
                                       "#f1b6da"
                                    ],
                                    [
                                       0.4,
                                       "#fde0ef"
                                    ],
                                    [
                                       0.5,
                                       "#f7f7f7"
                                    ],
                                    [
                                       0.6,
                                       "#e6f5d0"
                                    ],
                                    [
                                       0.7,
                                       "#b8e186"
                                    ],
                                    [
                                       0.8,
                                       "#7fbc41"
                                    ],
                                    [
                                       0.9,
                                       "#4d9221"
                                    ],
                                    [
                                       1,
                                       "#276419"
                                    ]
                                 ],
                                 "sequential": [
                                    [
                                       0,
                                       "#0d0887"
                                    ],
                                    [
                                       0.1111111111111111,
                                       "#46039f"
                                    ],
                                    [
                                       0.2222222222222222,
                                       "#7201a8"
                                    ],
                                    [
                                       0.3333333333333333,
                                       "#9c179e"
                                    ],
                                    [
                                       0.4444444444444444,
                                       "#bd3786"
                                    ],
                                    [
                                       0.5555555555555556,
                                       "#d8576b"
                                    ],
                                    [
                                       0.6666666666666666,
                                       "#ed7953"
                                    ],
                                    [
                                       0.7777777777777778,
                                       "#fb9f3a"
                                    ],
                                    [
                                       0.8888888888888888,
                                       "#fdca26"
                                    ],
                                    [
                                       1,
                                       "#f0f921"
                                    ]
                                 ],
                                 "sequentialminus": [
                                    [
                                       0,
                                       "#0d0887"
                                    ],
                                    [
                                       0.1111111111111111,
                                       "#46039f"
                                    ],
                                    [
                                       0.2222222222222222,
                                       "#7201a8"
                                    ],
                                    [
                                       0.3333333333333333,
                                       "#9c179e"
                                    ],
                                    [
                                       0.4444444444444444,
                                       "#bd3786"
                                    ],
                                    [
                                       0.5555555555555556,
                                       "#d8576b"
                                    ],
                                    [
                                       0.6666666666666666,
                                       "#ed7953"
                                    ],
                                    [
                                       0.7777777777777778,
                                       "#fb9f3a"
                                    ],
                                    [
                                       0.8888888888888888,
                                       "#fdca26"
                                    ],
                                    [
                                       1,
                                       "#f0f921"
                                    ]
                                 ]
                              },
                              "colorway": [
                                 "#636efa",
                                 "#EF553B",
                                 "#00cc96",
                                 "#ab63fa",
                                 "#FFA15A",
                                 "#19d3f3",
                                 "#FF6692",
                                 "#B6E880",
                                 "#FF97FF",
                                 "#FECB52"
                              ],
                              "font": {
                                 "color": "#f2f5fa"
                              },
                              "geo": {
                                 "bgcolor": "rgb(17,17,17)",
                                 "lakecolor": "rgb(17,17,17)",
                                 "landcolor": "rgb(17,17,17)",
                                 "showlakes": true,
                                 "showland": true,
                                 "subunitcolor": "#506784"
                              },
                              "hoverlabel": {
                                 "align": "left"
                              },
                              "hovermode": "closest",
                              "mapbox": {
                                 "style": "dark"
                              },
                              "paper_bgcolor": "rgb(17,17,17)",
                              "plot_bgcolor": "rgb(17,17,17)",
                              "polar": {
                                 "angularaxis": {
                                    "gridcolor": "#506784",
                                    "linecolor": "#506784",
                                    "ticks": ""
                                 },
                                 "bgcolor": "rgb(17,17,17)",
                                 "radialaxis": {
                                    "gridcolor": "#506784",
                                    "linecolor": "#506784",
                                    "ticks": ""
                                 }
                              },
                              "scene": {
                                 "xaxis": {
                                    "backgroundcolor": "rgb(17,17,17)",
                                    "gridcolor": "#506784",
                                    "gridwidth": 2,
                                    "linecolor": "#506784",
                                    "showbackground": true,
                                    "ticks": "",
                                    "zerolinecolor": "#C8D4E3"
                                 },
                                 "yaxis": {
                                    "backgroundcolor": "rgb(17,17,17)",
                                    "gridcolor": "#506784",
                                    "gridwidth": 2,
                                    "linecolor": "#506784",
                                    "showbackground": true,
                                    "ticks": "",
                                    "zerolinecolor": "#C8D4E3"
                                 },
                                 "zaxis": {
                                    "backgroundcolor": "rgb(17,17,17)",
                                    "gridcolor": "#506784",
                                    "gridwidth": 2,
                                    "linecolor": "#506784",
                                    "showbackground": true,
                                    "ticks": "",
                                    "zerolinecolor": "#C8D4E3"
                                 }
                              },
                              "shapedefaults": {
                                 "line": {
                                    "color": "#f2f5fa"
                                 }
                              },
                              "sliderdefaults": {
                                 "bgcolor": "#C8D4E3",
                                 "bordercolor": "rgb(17,17,17)",
                                 "borderwidth": 1,
                                 "tickwidth": 0
                              },
                              "ternary": {
                                 "aaxis": {
                                    "gridcolor": "#506784",
                                    "linecolor": "#506784",
                                    "ticks": ""
                                 },
                                 "baxis": {
                                    "gridcolor": "#506784",
                                    "linecolor": "#506784",
                                    "ticks": ""
                                 },
                                 "bgcolor": "rgb(17,17,17)",
                                 "caxis": {
                                    "gridcolor": "#506784",
                                    "linecolor": "#506784",
                                    "ticks": ""
                                 }
                              },
                              "title": {
                                 "x": 0.05
                              },
                              "updatemenudefaults": {
                                 "bgcolor": "#506784",
                                 "borderwidth": 0
                              },
                              "xaxis": {
                                 "automargin": true,
                                 "gridcolor": "#283442",
                                 "linecolor": "#506784",
                                 "ticks": "",
                                 "title": {
                                    "standoff": 15
                                 },
                                 "zerolinecolor": "#283442",
                                 "zerolinewidth": 2
                              },
                              "yaxis": {
                                 "automargin": true,
                                 "gridcolor": "#283442",
                                 "linecolor": "#506784",
                                 "ticks": "",
                                 "title": {
                                    "standoff": 15
                                 },
                                 "zerolinecolor": "#283442",
                                 "zerolinewidth": 2
                              }
                           }
                        },
                        "title": {
                           "text": "Memory Usage by Function for Different Player Counts"
                        },
                        "width": 1200,
                        "xaxis": {
                           "anchor": "y",
                           "categoryarray": [
                              "unpack_operator_flatten",
                              "manual_flatten",
                              "generator_flatten",
                              "polars_flatten",
                              "flatdict_flatten",
                              "dlt_flatten",
                              "pandas_flatten"
                           ],
                           "categoryorder": "array",
                           "domain": [
                              0,
                              0.49
                           ],
                           "title": {
                              "text": "Functions"
                           }
                        },
                        "xaxis2": {
                           "anchor": "y2",
                           "categoryarray": [
                              "unpack_operator_flatten",
                              "manual_flatten",
                              "generator_flatten",
                              "polars_flatten",
                              "flatdict_flatten",
                              "dlt_flatten",
                              "pandas_flatten"
                           ],
                           "categoryorder": "array",
                           "domain": [
                              0.51,
                              1
                           ],
                           "matches": "x",
                           "title": {
                              "text": "Functions"
                           }
                        },
                        "yaxis": {
                           "anchor": "x",
                           "domain": [
                              0,
                              1
                           ],
                           "title": {
                              "text": "Memory usage (MB)"
                           }
                        },
                        "yaxis2": {
                           "anchor": "x2",
                           "domain": [
                              0,
                              1
                           ],
                           "showticklabels": false
                        }
                     }
                  }
               },
               "metadata": {},
               "output_type": "display_data"
            }
         ],
         "source": [
            "# create a df with only 100 & 100k players columns\n",
            "df_hundred = df.loc[df['num_players'].isin([100, 100_000])]\n",
            "\n",
            "# Create a grouped bar chart\n",
            "fig = px.bar(\n",
            "    df_hundred.sort_values('memory_in_mb'),\n",
            "    x='function',\n",
            "    y='memory_in_mb',\n",
            "    color='function',\n",
            "    text_auto='.2s',\n",
            "    facet_col='num_players',  # Create separate subplot for each player count\n",
            "    facet_col_wrap=2,  # Number of subplots per row\n",
            "    title='Memory Usage by Function for Different Player Counts',\n",
            "    labels=labels,\n",
            "    template=template,\n",
            "    height=height,\n",
            "    width=width,\n",
            "   \n",
            ")\n",
            "# Update facet titles to show player count more clearly\n",
            "fig.for_each_annotation(lambda a: a.update(text=f\"{a.text.split('=')[1]} players\"))\n",
            "\n",
            "# Adjust y-axis ranges independently\n",
            "for i, num_players in enumerate([100, 100_000]):\n",
            "    fig.update_yaxes(matches=None)  # Disable y-axis matching\n",
            "\n",
            "fig.show()\n"
         ]
      },
      {
         "cell_type": "code",
         "execution_count": 14,
         "id": "a277f7c0",
         "metadata": {},
         "outputs": [
            {
               "data": {
                  "application/vnd.plotly.v1+json": {
                     "config": {
                        "plotlyServerURL": "https://plot.ly"
                     },
                     "data": [
                        {
                           "line": {
                              "color": "pink",
                              "width": 2
                           },
                           "marker": {
                              "size": 15
                           },
                           "mode": "lines+markers",
                           "name": "100 Players",
                           "type": "scatter",
                           "x": [
                              "dlt_flatten",
                              "flatdict_flatten",
                              "generator_flatten",
                              "manual_flatten",
                              "pandas_flatten",
                              "polars_flatten",
                              "unpack_operator_flatten"
                           ],
                           "xaxis": "x",
                           "y": {
                              "bdata": "YRqGj4gp0j+ELXb7rDLLP7YvoBfuXLg/w/UoXI/CtT8ddAmH3uLZP7iVXpuNlcA/PL1SliGOtT8=",
                              "dtype": "f8"
                           },
                           "yaxis": "y"
                        },
                        {
                           "line": {
                              "color": "red",
                              "width": 2
                           },
                           "marker": {
                              "size": 15
                           },
                           "mode": "lines+markers",
                           "name": "100,000 Players",
                           "type": "scatter",
                           "x": [
                              "dlt_flatten",
                              "flatdict_flatten",
                              "generator_flatten",
                              "manual_flatten",
                              "pandas_flatten",
                              "polars_flatten",
                              "unpack_operator_flatten"
                           ],
                           "xaxis": "x",
                           "y": {
                              "bdata": "j8L1KFxvU0BxPQrXo7BnQHE9CtejAFVAAAAAAAAAVUBxPQrXo+h2QOF6FK5HGWBAAAAAAAAAVUA=",
                              "dtype": "f8"
                           },
                           "yaxis": "y2"
                        }
                     ],
                     "layout": {
                        "height": 800,
                        "template": {
                           "data": {
                              "bar": [
                                 {
                                    "error_x": {
                                       "color": "#f2f5fa"
                                    },
                                    "error_y": {
                                       "color": "#f2f5fa"
                                    },
                                    "marker": {
                                       "line": {
                                          "color": "rgb(17,17,17)",
                                          "width": 0.5
                                       },
                                       "pattern": {
                                          "fillmode": "overlay",
                                          "size": 10,
                                          "solidity": 0.2
                                       }
                                    },
                                    "type": "bar"
                                 }
                              ],
                              "barpolar": [
                                 {
                                    "marker": {
                                       "line": {
                                          "color": "rgb(17,17,17)",
                                          "width": 0.5
                                       },
                                       "pattern": {
                                          "fillmode": "overlay",
                                          "size": 10,
                                          "solidity": 0.2
                                       }
                                    },
                                    "type": "barpolar"
                                 }
                              ],
                              "carpet": [
                                 {
                                    "aaxis": {
                                       "endlinecolor": "#A2B1C6",
                                       "gridcolor": "#506784",
                                       "linecolor": "#506784",
                                       "minorgridcolor": "#506784",
                                       "startlinecolor": "#A2B1C6"
                                    },
                                    "baxis": {
                                       "endlinecolor": "#A2B1C6",
                                       "gridcolor": "#506784",
                                       "linecolor": "#506784",
                                       "minorgridcolor": "#506784",
                                       "startlinecolor": "#A2B1C6"
                                    },
                                    "type": "carpet"
                                 }
                              ],
                              "choropleth": [
                                 {
                                    "colorbar": {
                                       "outlinewidth": 0,
                                       "ticks": ""
                                    },
                                    "type": "choropleth"
                                 }
                              ],
                              "contour": [
                                 {
                                    "colorbar": {
                                       "outlinewidth": 0,
                                       "ticks": ""
                                    },
                                    "colorscale": [
                                       [
                                          0,
                                          "#0d0887"
                                       ],
                                       [
                                          0.1111111111111111,
                                          "#46039f"
                                       ],
                                       [
                                          0.2222222222222222,
                                          "#7201a8"
                                       ],
                                       [
                                          0.3333333333333333,
                                          "#9c179e"
                                       ],
                                       [
                                          0.4444444444444444,
                                          "#bd3786"
                                       ],
                                       [
                                          0.5555555555555556,
                                          "#d8576b"
                                       ],
                                       [
                                          0.6666666666666666,
                                          "#ed7953"
                                       ],
                                       [
                                          0.7777777777777778,
                                          "#fb9f3a"
                                       ],
                                       [
                                          0.8888888888888888,
                                          "#fdca26"
                                       ],
                                       [
                                          1,
                                          "#f0f921"
                                       ]
                                    ],
                                    "type": "contour"
                                 }
                              ],
                              "contourcarpet": [
                                 {
                                    "colorbar": {
                                       "outlinewidth": 0,
                                       "ticks": ""
                                    },
                                    "type": "contourcarpet"
                                 }
                              ],
                              "heatmap": [
                                 {
                                    "colorbar": {
                                       "outlinewidth": 0,
                                       "ticks": ""
                                    },
                                    "colorscale": [
                                       [
                                          0,
                                          "#0d0887"
                                       ],
                                       [
                                          0.1111111111111111,
                                          "#46039f"
                                       ],
                                       [
                                          0.2222222222222222,
                                          "#7201a8"
                                       ],
                                       [
                                          0.3333333333333333,
                                          "#9c179e"
                                       ],
                                       [
                                          0.4444444444444444,
                                          "#bd3786"
                                       ],
                                       [
                                          0.5555555555555556,
                                          "#d8576b"
                                       ],
                                       [
                                          0.6666666666666666,
                                          "#ed7953"
                                       ],
                                       [
                                          0.7777777777777778,
                                          "#fb9f3a"
                                       ],
                                       [
                                          0.8888888888888888,
                                          "#fdca26"
                                       ],
                                       [
                                          1,
                                          "#f0f921"
                                       ]
                                    ],
                                    "type": "heatmap"
                                 }
                              ],
                              "histogram": [
                                 {
                                    "marker": {
                                       "pattern": {
                                          "fillmode": "overlay",
                                          "size": 10,
                                          "solidity": 0.2
                                       }
                                    },
                                    "type": "histogram"
                                 }
                              ],
                              "histogram2d": [
                                 {
                                    "colorbar": {
                                       "outlinewidth": 0,
                                       "ticks": ""
                                    },
                                    "colorscale": [
                                       [
                                          0,
                                          "#0d0887"
                                       ],
                                       [
                                          0.1111111111111111,
                                          "#46039f"
                                       ],
                                       [
                                          0.2222222222222222,
                                          "#7201a8"
                                       ],
                                       [
                                          0.3333333333333333,
                                          "#9c179e"
                                       ],
                                       [
                                          0.4444444444444444,
                                          "#bd3786"
                                       ],
                                       [
                                          0.5555555555555556,
                                          "#d8576b"
                                       ],
                                       [
                                          0.6666666666666666,
                                          "#ed7953"
                                       ],
                                       [
                                          0.7777777777777778,
                                          "#fb9f3a"
                                       ],
                                       [
                                          0.8888888888888888,
                                          "#fdca26"
                                       ],
                                       [
                                          1,
                                          "#f0f921"
                                       ]
                                    ],
                                    "type": "histogram2d"
                                 }
                              ],
                              "histogram2dcontour": [
                                 {
                                    "colorbar": {
                                       "outlinewidth": 0,
                                       "ticks": ""
                                    },
                                    "colorscale": [
                                       [
                                          0,
                                          "#0d0887"
                                       ],
                                       [
                                          0.1111111111111111,
                                          "#46039f"
                                       ],
                                       [
                                          0.2222222222222222,
                                          "#7201a8"
                                       ],
                                       [
                                          0.3333333333333333,
                                          "#9c179e"
                                       ],
                                       [
                                          0.4444444444444444,
                                          "#bd3786"
                                       ],
                                       [
                                          0.5555555555555556,
                                          "#d8576b"
                                       ],
                                       [
                                          0.6666666666666666,
                                          "#ed7953"
                                       ],
                                       [
                                          0.7777777777777778,
                                          "#fb9f3a"
                                       ],
                                       [
                                          0.8888888888888888,
                                          "#fdca26"
                                       ],
                                       [
                                          1,
                                          "#f0f921"
                                       ]
                                    ],
                                    "type": "histogram2dcontour"
                                 }
                              ],
                              "mesh3d": [
                                 {
                                    "colorbar": {
                                       "outlinewidth": 0,
                                       "ticks": ""
                                    },
                                    "type": "mesh3d"
                                 }
                              ],
                              "parcoords": [
                                 {
                                    "line": {
                                       "colorbar": {
                                          "outlinewidth": 0,
                                          "ticks": ""
                                       }
                                    },
                                    "type": "parcoords"
                                 }
                              ],
                              "pie": [
                                 {
                                    "automargin": true,
                                    "type": "pie"
                                 }
                              ],
                              "scatter": [
                                 {
                                    "marker": {
                                       "line": {
                                          "color": "#283442"
                                       }
                                    },
                                    "type": "scatter"
                                 }
                              ],
                              "scatter3d": [
                                 {
                                    "line": {
                                       "colorbar": {
                                          "outlinewidth": 0,
                                          "ticks": ""
                                       }
                                    },
                                    "marker": {
                                       "colorbar": {
                                          "outlinewidth": 0,
                                          "ticks": ""
                                       }
                                    },
                                    "type": "scatter3d"
                                 }
                              ],
                              "scattercarpet": [
                                 {
                                    "marker": {
                                       "colorbar": {
                                          "outlinewidth": 0,
                                          "ticks": ""
                                       }
                                    },
                                    "type": "scattercarpet"
                                 }
                              ],
                              "scattergeo": [
                                 {
                                    "marker": {
                                       "colorbar": {
                                          "outlinewidth": 0,
                                          "ticks": ""
                                       }
                                    },
                                    "type": "scattergeo"
                                 }
                              ],
                              "scattergl": [
                                 {
                                    "marker": {
                                       "line": {
                                          "color": "#283442"
                                       }
                                    },
                                    "type": "scattergl"
                                 }
                              ],
                              "scattermap": [
                                 {
                                    "marker": {
                                       "colorbar": {
                                          "outlinewidth": 0,
                                          "ticks": ""
                                       }
                                    },
                                    "type": "scattermap"
                                 }
                              ],
                              "scattermapbox": [
                                 {
                                    "marker": {
                                       "colorbar": {
                                          "outlinewidth": 0,
                                          "ticks": ""
                                       }
                                    },
                                    "type": "scattermapbox"
                                 }
                              ],
                              "scatterpolar": [
                                 {
                                    "marker": {
                                       "colorbar": {
                                          "outlinewidth": 0,
                                          "ticks": ""
                                       }
                                    },
                                    "type": "scatterpolar"
                                 }
                              ],
                              "scatterpolargl": [
                                 {
                                    "marker": {
                                       "colorbar": {
                                          "outlinewidth": 0,
                                          "ticks": ""
                                       }
                                    },
                                    "type": "scatterpolargl"
                                 }
                              ],
                              "scatterternary": [
                                 {
                                    "marker": {
                                       "colorbar": {
                                          "outlinewidth": 0,
                                          "ticks": ""
                                       }
                                    },
                                    "type": "scatterternary"
                                 }
                              ],
                              "surface": [
                                 {
                                    "colorbar": {
                                       "outlinewidth": 0,
                                       "ticks": ""
                                    },
                                    "colorscale": [
                                       [
                                          0,
                                          "#0d0887"
                                       ],
                                       [
                                          0.1111111111111111,
                                          "#46039f"
                                       ],
                                       [
                                          0.2222222222222222,
                                          "#7201a8"
                                       ],
                                       [
                                          0.3333333333333333,
                                          "#9c179e"
                                       ],
                                       [
                                          0.4444444444444444,
                                          "#bd3786"
                                       ],
                                       [
                                          0.5555555555555556,
                                          "#d8576b"
                                       ],
                                       [
                                          0.6666666666666666,
                                          "#ed7953"
                                       ],
                                       [
                                          0.7777777777777778,
                                          "#fb9f3a"
                                       ],
                                       [
                                          0.8888888888888888,
                                          "#fdca26"
                                       ],
                                       [
                                          1,
                                          "#f0f921"
                                       ]
                                    ],
                                    "type": "surface"
                                 }
                              ],
                              "table": [
                                 {
                                    "cells": {
                                       "fill": {
                                          "color": "#506784"
                                       },
                                       "line": {
                                          "color": "rgb(17,17,17)"
                                       }
                                    },
                                    "header": {
                                       "fill": {
                                          "color": "#2a3f5f"
                                       },
                                       "line": {
                                          "color": "rgb(17,17,17)"
                                       }
                                    },
                                    "type": "table"
                                 }
                              ]
                           },
                           "layout": {
                              "annotationdefaults": {
                                 "arrowcolor": "#f2f5fa",
                                 "arrowhead": 0,
                                 "arrowwidth": 1
                              },
                              "autotypenumbers": "strict",
                              "coloraxis": {
                                 "colorbar": {
                                    "outlinewidth": 0,
                                    "ticks": ""
                                 }
                              },
                              "colorscale": {
                                 "diverging": [
                                    [
                                       0,
                                       "#8e0152"
                                    ],
                                    [
                                       0.1,
                                       "#c51b7d"
                                    ],
                                    [
                                       0.2,
                                       "#de77ae"
                                    ],
                                    [
                                       0.3,
                                       "#f1b6da"
                                    ],
                                    [
                                       0.4,
                                       "#fde0ef"
                                    ],
                                    [
                                       0.5,
                                       "#f7f7f7"
                                    ],
                                    [
                                       0.6,
                                       "#e6f5d0"
                                    ],
                                    [
                                       0.7,
                                       "#b8e186"
                                    ],
                                    [
                                       0.8,
                                       "#7fbc41"
                                    ],
                                    [
                                       0.9,
                                       "#4d9221"
                                    ],
                                    [
                                       1,
                                       "#276419"
                                    ]
                                 ],
                                 "sequential": [
                                    [
                                       0,
                                       "#0d0887"
                                    ],
                                    [
                                       0.1111111111111111,
                                       "#46039f"
                                    ],
                                    [
                                       0.2222222222222222,
                                       "#7201a8"
                                    ],
                                    [
                                       0.3333333333333333,
                                       "#9c179e"
                                    ],
                                    [
                                       0.4444444444444444,
                                       "#bd3786"
                                    ],
                                    [
                                       0.5555555555555556,
                                       "#d8576b"
                                    ],
                                    [
                                       0.6666666666666666,
                                       "#ed7953"
                                    ],
                                    [
                                       0.7777777777777778,
                                       "#fb9f3a"
                                    ],
                                    [
                                       0.8888888888888888,
                                       "#fdca26"
                                    ],
                                    [
                                       1,
                                       "#f0f921"
                                    ]
                                 ],
                                 "sequentialminus": [
                                    [
                                       0,
                                       "#0d0887"
                                    ],
                                    [
                                       0.1111111111111111,
                                       "#46039f"
                                    ],
                                    [
                                       0.2222222222222222,
                                       "#7201a8"
                                    ],
                                    [
                                       0.3333333333333333,
                                       "#9c179e"
                                    ],
                                    [
                                       0.4444444444444444,
                                       "#bd3786"
                                    ],
                                    [
                                       0.5555555555555556,
                                       "#d8576b"
                                    ],
                                    [
                                       0.6666666666666666,
                                       "#ed7953"
                                    ],
                                    [
                                       0.7777777777777778,
                                       "#fb9f3a"
                                    ],
                                    [
                                       0.8888888888888888,
                                       "#fdca26"
                                    ],
                                    [
                                       1,
                                       "#f0f921"
                                    ]
                                 ]
                              },
                              "colorway": [
                                 "#636efa",
                                 "#EF553B",
                                 "#00cc96",
                                 "#ab63fa",
                                 "#FFA15A",
                                 "#19d3f3",
                                 "#FF6692",
                                 "#B6E880",
                                 "#FF97FF",
                                 "#FECB52"
                              ],
                              "font": {
                                 "color": "#f2f5fa"
                              },
                              "geo": {
                                 "bgcolor": "rgb(17,17,17)",
                                 "lakecolor": "rgb(17,17,17)",
                                 "landcolor": "rgb(17,17,17)",
                                 "showlakes": true,
                                 "showland": true,
                                 "subunitcolor": "#506784"
                              },
                              "hoverlabel": {
                                 "align": "left"
                              },
                              "hovermode": "closest",
                              "mapbox": {
                                 "style": "dark"
                              },
                              "paper_bgcolor": "rgb(17,17,17)",
                              "plot_bgcolor": "rgb(17,17,17)",
                              "polar": {
                                 "angularaxis": {
                                    "gridcolor": "#506784",
                                    "linecolor": "#506784",
                                    "ticks": ""
                                 },
                                 "bgcolor": "rgb(17,17,17)",
                                 "radialaxis": {
                                    "gridcolor": "#506784",
                                    "linecolor": "#506784",
                                    "ticks": ""
                                 }
                              },
                              "scene": {
                                 "xaxis": {
                                    "backgroundcolor": "rgb(17,17,17)",
                                    "gridcolor": "#506784",
                                    "gridwidth": 2,
                                    "linecolor": "#506784",
                                    "showbackground": true,
                                    "ticks": "",
                                    "zerolinecolor": "#C8D4E3"
                                 },
                                 "yaxis": {
                                    "backgroundcolor": "rgb(17,17,17)",
                                    "gridcolor": "#506784",
                                    "gridwidth": 2,
                                    "linecolor": "#506784",
                                    "showbackground": true,
                                    "ticks": "",
                                    "zerolinecolor": "#C8D4E3"
                                 },
                                 "zaxis": {
                                    "backgroundcolor": "rgb(17,17,17)",
                                    "gridcolor": "#506784",
                                    "gridwidth": 2,
                                    "linecolor": "#506784",
                                    "showbackground": true,
                                    "ticks": "",
                                    "zerolinecolor": "#C8D4E3"
                                 }
                              },
                              "shapedefaults": {
                                 "line": {
                                    "color": "#f2f5fa"
                                 }
                              },
                              "sliderdefaults": {
                                 "bgcolor": "#C8D4E3",
                                 "bordercolor": "rgb(17,17,17)",
                                 "borderwidth": 1,
                                 "tickwidth": 0
                              },
                              "ternary": {
                                 "aaxis": {
                                    "gridcolor": "#506784",
                                    "linecolor": "#506784",
                                    "ticks": ""
                                 },
                                 "baxis": {
                                    "gridcolor": "#506784",
                                    "linecolor": "#506784",
                                    "ticks": ""
                                 },
                                 "bgcolor": "rgb(17,17,17)",
                                 "caxis": {
                                    "gridcolor": "#506784",
                                    "linecolor": "#506784",
                                    "ticks": ""
                                 }
                              },
                              "title": {
                                 "x": 0.05
                              },
                              "updatemenudefaults": {
                                 "bgcolor": "#506784",
                                 "borderwidth": 0
                              },
                              "xaxis": {
                                 "automargin": true,
                                 "gridcolor": "#283442",
                                 "linecolor": "#506784",
                                 "ticks": "",
                                 "title": {
                                    "standoff": 15
                                 },
                                 "zerolinecolor": "#283442",
                                 "zerolinewidth": 2
                              },
                              "yaxis": {
                                 "automargin": true,
                                 "gridcolor": "#283442",
                                 "linecolor": "#506784",
                                 "ticks": "",
                                 "title": {
                                    "standoff": 15
                                 },
                                 "zerolinecolor": "#283442",
                                 "zerolinewidth": 2
                              }
                           }
                        },
                        "title": {
                           "text": "Memory Usage Comparison: 100 vs 100,000 Players"
                        },
                        "width": 1200,
                        "xaxis": {
                           "anchor": "y",
                           "domain": [
                              0,
                              0.94
                           ]
                        },
                        "yaxis": {
                           "anchor": "x",
                           "domain": [
                              0,
                              1
                           ],
                           "title": {
                              "text": "Memory (MB) - 100 Players"
                           }
                        },
                        "yaxis2": {
                           "anchor": "x",
                           "overlaying": "y",
                           "side": "right",
                           "title": {
                              "text": "Memory (MB) - 100,000 Players"
                           }
                        }
                     }
                  }
               },
               "metadata": {},
               "output_type": "display_data"
            }
         ],
         "source": [
            "import plotly.graph_objects as go\n",
            "from plotly.subplots import make_subplots\n",
            "\n",
            "# Filter data for the two player counts\n",
            "df_100 = df[df['num_players'] == 100].copy()\n",
            "\n",
            "# Sort both dataframes by the same order (e.g., by function name)\n",
            "df_100 = df_100.sort_values('function')\n",
            "df_max_players = df_max_players.sort_values('function')\n",
            "\n",
            "# Create figure with secondary y-axis\n",
            "fig = make_subplots(specs=[[{\"secondary_y\": True}]])\n",
            "\n",
            "\n",
            "# Create figure with secondary y-axis\n",
            "fig = make_subplots(specs=[[{\"secondary_y\": True}]])\n",
            "\n",
            "# Add traces for 100 players (left y-axis)\n",
            "fig.add_trace(\n",
            "    go.Scatter(\n",
            "        x=df_100['function'],\n",
            "        y=df_100['memory_in_mb'],\n",
            "        name=\"100 Players\",\n",
            "        mode='lines+markers',\n",
            "        marker=dict(size=15),\n",
            "        line=dict(width=2, color='pink')\n",
            "    ),\n",
            "    secondary_y=False,\n",
            ")\n",
            "\n",
            "# Add traces for 100,000 players (right y-axis)\n",
            "fig.add_trace(\n",
            "    go.Scatter(\n",
            "        x=df_max_players['function'],\n",
            "        y=df_max_players['memory_in_mb'],\n",
            "        name=\"100,000 Players\",\n",
            "        mode='lines+markers',\n",
            "        marker=dict(size=15),\n",
            "        line=dict(width=2, color='red')\n",
            "    ),\n",
            "    secondary_y=True,\n",
            ")\n",
            "\n",
            "# Update layout\n",
            "fig.update_layout(\n",
            "    title_text=\"Memory Usage Comparison: 100 vs 100,000 Players\",\n",
            "    template=template,\n",
            "    height=height,\n",
            "    width=width\n",
            ")\n",
            "\n",
            "# Set y-axes titles\n",
            "fig.update_yaxes(title_text=\"Memory (MB) - 100 Players\", secondary_y=False)\n",
            "fig.update_yaxes(title_text=\"Memory (MB) - 100,000 Players\", secondary_y=True)\n",
            "\n",
            "fig.show()\n"
         ]
      },
      {
         "cell_type": "markdown",
         "id": "d5f04dba",
         "metadata": {},
         "source": [
            "## Execution Time \n"
         ]
      },
      {
         "cell_type": "code",
         "execution_count": 15,
         "id": "768fb12c",
         "metadata": {},
         "outputs": [
            {
               "data": {
                  "application/vnd.plotly.v1+json": {
                     "config": {
                        "plotlyServerURL": "https://plot.ly"
                     },
                     "data": [
                        {
                           "hovertemplate": "function=%{y}<br>time_in_s=%{x}<extra></extra>",
                           "legendgroup": "unpack_operator_flatten",
                           "marker": {
                              "color": "#636efa",
                              "pattern": {
                                 "shape": ""
                              }
                           },
                           "name": "unpack_operator_flatten",
                           "orientation": "h",
                           "showlegend": true,
                           "textposition": "auto",
                           "texttemplate": "%{x:.3s}",
                           "type": "bar",
                           "x": {
                              "bdata": "lIWvr3WpIT8kVJVj3j3KPw==",
                              "dtype": "f8"
                           },
                           "xaxis": "x",
                           "y": [
                              "unpack_operator_flatten",
                              "unpack_operator_flatten"
                           ],
                           "yaxis": "y"
                        },
                        {
                           "hovertemplate": "function=%{y}<br>time_in_s=%{x}<extra></extra>",
                           "legendgroup": "generator_flatten",
                           "marker": {
                              "color": "#EF553B",
                              "pattern": {
                                 "shape": ""
                              }
                           },
                           "name": "generator_flatten",
                           "orientation": "h",
                           "showlegend": true,
                           "textposition": "auto",
                           "texttemplate": "%{x:.3s}",
                           "type": "bar",
                           "x": {
                              "bdata": "wfVzDs9nYD9tMLFScd7/Pw==",
                              "dtype": "f8"
                           },
                           "xaxis": "x",
                           "y": [
                              "generator_flatten",
                              "generator_flatten"
                           ],
                           "yaxis": "y"
                        },
                        {
                           "hovertemplate": "function=%{y}<br>time_in_s=%{x}<extra></extra>",
                           "legendgroup": "manual_flatten",
                           "marker": {
                              "color": "#00cc96",
                              "pattern": {
                                 "shape": ""
                              }
                           },
                           "name": "manual_flatten",
                           "orientation": "h",
                           "showlegend": true,
                           "textposition": "auto",
                           "texttemplate": "%{x:.3s}",
                           "type": "bar",
                           "x": {
                              "bdata": "S1Ja/srqYD+2Nl+1yp0AQA==",
                              "dtype": "f8"
                           },
                           "xaxis": "x",
                           "y": [
                              "manual_flatten",
                              "manual_flatten"
                           ],
                           "yaxis": "y"
                        },
                        {
                           "hovertemplate": "function=%{y}<br>time_in_s=%{x}<extra></extra>",
                           "legendgroup": "polars_flatten",
                           "marker": {
                              "color": "#ab63fa",
                              "pattern": {
                                 "shape": ""
                              }
                           },
                           "name": "polars_flatten",
                           "orientation": "h",
                           "showlegend": true,
                           "textposition": "auto",
                           "texttemplate": "%{x:.3s}",
                           "type": "bar",
                           "x": {
                              "bdata": "7tEb7iO3Zj/07NTFdtgFQA==",
                              "dtype": "f8"
                           },
                           "xaxis": "x",
                           "y": [
                              "polars_flatten",
                              "polars_flatten"
                           ],
                           "yaxis": "y"
                        },
                        {
                           "hovertemplate": "function=%{y}<br>time_in_s=%{x}<extra></extra>",
                           "legendgroup": "pandas_flatten",
                           "marker": {
                              "color": "#FFA15A",
                              "pattern": {
                                 "shape": ""
                              }
                           },
                           "name": "pandas_flatten",
                           "orientation": "h",
                           "showlegend": true,
                           "textposition": "auto",
                           "texttemplate": "%{x:.3s}",
                           "type": "bar",
                           "x": {
                              "bdata": "DsETqDU1hz/U8gNXedIpQA==",
                              "dtype": "f8"
                           },
                           "xaxis": "x",
                           "y": [
                              "pandas_flatten",
                              "pandas_flatten"
                           ],
                           "yaxis": "y"
                        },
                        {
                           "hovertemplate": "function=%{y}<br>time_in_s=%{x}<extra></extra>",
                           "legendgroup": "flatdict_flatten",
                           "marker": {
                              "color": "#19d3f3",
                              "pattern": {
                                 "shape": ""
                              }
                           },
                           "name": "flatdict_flatten",
                           "orientation": "h",
                           "showlegend": true,
                           "textposition": "auto",
                           "texttemplate": "%{x:.3s}",
                           "type": "bar",
                           "x": {
                              "bdata": "mIbhI2JKmD/CHr8pP+U4QA==",
                              "dtype": "f8"
                           },
                           "xaxis": "x",
                           "y": [
                              "flatdict_flatten",
                              "flatdict_flatten"
                           ],
                           "yaxis": "y"
                        },
                        {
                           "hovertemplate": "function=%{y}<br>time_in_s=%{x}<extra></extra>",
                           "legendgroup": "dlt_flatten",
                           "marker": {
                              "color": "#FF6692",
                              "pattern": {
                                 "shape": ""
                              }
                           },
                           "name": "dlt_flatten",
                           "orientation": "h",
                           "showlegend": true,
                           "textposition": "auto",
                           "texttemplate": "%{x:.3s}",
                           "type": "bar",
                           "x": {
                              "bdata": "JGOfgi9MoT9RAgZ9NZEsQA==",
                              "dtype": "f8"
                           },
                           "xaxis": "x",
                           "y": [
                              "dlt_flatten",
                              "dlt_flatten"
                           ],
                           "yaxis": "y"
                        }
                     ],
                     "layout": {
                        "barmode": "relative",
                        "height": 800,
                        "legend": {
                           "title": {
                              "text": "function"
                           },
                           "tracegroupgap": 0
                        },
                        "margin": {
                           "t": 60
                        },
                        "template": {
                           "data": {
                              "bar": [
                                 {
                                    "error_x": {
                                       "color": "#f2f5fa"
                                    },
                                    "error_y": {
                                       "color": "#f2f5fa"
                                    },
                                    "marker": {
                                       "line": {
                                          "color": "rgb(17,17,17)",
                                          "width": 0.5
                                       },
                                       "pattern": {
                                          "fillmode": "overlay",
                                          "size": 10,
                                          "solidity": 0.2
                                       }
                                    },
                                    "type": "bar"
                                 }
                              ],
                              "barpolar": [
                                 {
                                    "marker": {
                                       "line": {
                                          "color": "rgb(17,17,17)",
                                          "width": 0.5
                                       },
                                       "pattern": {
                                          "fillmode": "overlay",
                                          "size": 10,
                                          "solidity": 0.2
                                       }
                                    },
                                    "type": "barpolar"
                                 }
                              ],
                              "carpet": [
                                 {
                                    "aaxis": {
                                       "endlinecolor": "#A2B1C6",
                                       "gridcolor": "#506784",
                                       "linecolor": "#506784",
                                       "minorgridcolor": "#506784",
                                       "startlinecolor": "#A2B1C6"
                                    },
                                    "baxis": {
                                       "endlinecolor": "#A2B1C6",
                                       "gridcolor": "#506784",
                                       "linecolor": "#506784",
                                       "minorgridcolor": "#506784",
                                       "startlinecolor": "#A2B1C6"
                                    },
                                    "type": "carpet"
                                 }
                              ],
                              "choropleth": [
                                 {
                                    "colorbar": {
                                       "outlinewidth": 0,
                                       "ticks": ""
                                    },
                                    "type": "choropleth"
                                 }
                              ],
                              "contour": [
                                 {
                                    "colorbar": {
                                       "outlinewidth": 0,
                                       "ticks": ""
                                    },
                                    "colorscale": [
                                       [
                                          0,
                                          "#0d0887"
                                       ],
                                       [
                                          0.1111111111111111,
                                          "#46039f"
                                       ],
                                       [
                                          0.2222222222222222,
                                          "#7201a8"
                                       ],
                                       [
                                          0.3333333333333333,
                                          "#9c179e"
                                       ],
                                       [
                                          0.4444444444444444,
                                          "#bd3786"
                                       ],
                                       [
                                          0.5555555555555556,
                                          "#d8576b"
                                       ],
                                       [
                                          0.6666666666666666,
                                          "#ed7953"
                                       ],
                                       [
                                          0.7777777777777778,
                                          "#fb9f3a"
                                       ],
                                       [
                                          0.8888888888888888,
                                          "#fdca26"
                                       ],
                                       [
                                          1,
                                          "#f0f921"
                                       ]
                                    ],
                                    "type": "contour"
                                 }
                              ],
                              "contourcarpet": [
                                 {
                                    "colorbar": {
                                       "outlinewidth": 0,
                                       "ticks": ""
                                    },
                                    "type": "contourcarpet"
                                 }
                              ],
                              "heatmap": [
                                 {
                                    "colorbar": {
                                       "outlinewidth": 0,
                                       "ticks": ""
                                    },
                                    "colorscale": [
                                       [
                                          0,
                                          "#0d0887"
                                       ],
                                       [
                                          0.1111111111111111,
                                          "#46039f"
                                       ],
                                       [
                                          0.2222222222222222,
                                          "#7201a8"
                                       ],
                                       [
                                          0.3333333333333333,
                                          "#9c179e"
                                       ],
                                       [
                                          0.4444444444444444,
                                          "#bd3786"
                                       ],
                                       [
                                          0.5555555555555556,
                                          "#d8576b"
                                       ],
                                       [
                                          0.6666666666666666,
                                          "#ed7953"
                                       ],
                                       [
                                          0.7777777777777778,
                                          "#fb9f3a"
                                       ],
                                       [
                                          0.8888888888888888,
                                          "#fdca26"
                                       ],
                                       [
                                          1,
                                          "#f0f921"
                                       ]
                                    ],
                                    "type": "heatmap"
                                 }
                              ],
                              "histogram": [
                                 {
                                    "marker": {
                                       "pattern": {
                                          "fillmode": "overlay",
                                          "size": 10,
                                          "solidity": 0.2
                                       }
                                    },
                                    "type": "histogram"
                                 }
                              ],
                              "histogram2d": [
                                 {
                                    "colorbar": {
                                       "outlinewidth": 0,
                                       "ticks": ""
                                    },
                                    "colorscale": [
                                       [
                                          0,
                                          "#0d0887"
                                       ],
                                       [
                                          0.1111111111111111,
                                          "#46039f"
                                       ],
                                       [
                                          0.2222222222222222,
                                          "#7201a8"
                                       ],
                                       [
                                          0.3333333333333333,
                                          "#9c179e"
                                       ],
                                       [
                                          0.4444444444444444,
                                          "#bd3786"
                                       ],
                                       [
                                          0.5555555555555556,
                                          "#d8576b"
                                       ],
                                       [
                                          0.6666666666666666,
                                          "#ed7953"
                                       ],
                                       [
                                          0.7777777777777778,
                                          "#fb9f3a"
                                       ],
                                       [
                                          0.8888888888888888,
                                          "#fdca26"
                                       ],
                                       [
                                          1,
                                          "#f0f921"
                                       ]
                                    ],
                                    "type": "histogram2d"
                                 }
                              ],
                              "histogram2dcontour": [
                                 {
                                    "colorbar": {
                                       "outlinewidth": 0,
                                       "ticks": ""
                                    },
                                    "colorscale": [
                                       [
                                          0,
                                          "#0d0887"
                                       ],
                                       [
                                          0.1111111111111111,
                                          "#46039f"
                                       ],
                                       [
                                          0.2222222222222222,
                                          "#7201a8"
                                       ],
                                       [
                                          0.3333333333333333,
                                          "#9c179e"
                                       ],
                                       [
                                          0.4444444444444444,
                                          "#bd3786"
                                       ],
                                       [
                                          0.5555555555555556,
                                          "#d8576b"
                                       ],
                                       [
                                          0.6666666666666666,
                                          "#ed7953"
                                       ],
                                       [
                                          0.7777777777777778,
                                          "#fb9f3a"
                                       ],
                                       [
                                          0.8888888888888888,
                                          "#fdca26"
                                       ],
                                       [
                                          1,
                                          "#f0f921"
                                       ]
                                    ],
                                    "type": "histogram2dcontour"
                                 }
                              ],
                              "mesh3d": [
                                 {
                                    "colorbar": {
                                       "outlinewidth": 0,
                                       "ticks": ""
                                    },
                                    "type": "mesh3d"
                                 }
                              ],
                              "parcoords": [
                                 {
                                    "line": {
                                       "colorbar": {
                                          "outlinewidth": 0,
                                          "ticks": ""
                                       }
                                    },
                                    "type": "parcoords"
                                 }
                              ],
                              "pie": [
                                 {
                                    "automargin": true,
                                    "type": "pie"
                                 }
                              ],
                              "scatter": [
                                 {
                                    "marker": {
                                       "line": {
                                          "color": "#283442"
                                       }
                                    },
                                    "type": "scatter"
                                 }
                              ],
                              "scatter3d": [
                                 {
                                    "line": {
                                       "colorbar": {
                                          "outlinewidth": 0,
                                          "ticks": ""
                                       }
                                    },
                                    "marker": {
                                       "colorbar": {
                                          "outlinewidth": 0,
                                          "ticks": ""
                                       }
                                    },
                                    "type": "scatter3d"
                                 }
                              ],
                              "scattercarpet": [
                                 {
                                    "marker": {
                                       "colorbar": {
                                          "outlinewidth": 0,
                                          "ticks": ""
                                       }
                                    },
                                    "type": "scattercarpet"
                                 }
                              ],
                              "scattergeo": [
                                 {
                                    "marker": {
                                       "colorbar": {
                                          "outlinewidth": 0,
                                          "ticks": ""
                                       }
                                    },
                                    "type": "scattergeo"
                                 }
                              ],
                              "scattergl": [
                                 {
                                    "marker": {
                                       "line": {
                                          "color": "#283442"
                                       }
                                    },
                                    "type": "scattergl"
                                 }
                              ],
                              "scattermap": [
                                 {
                                    "marker": {
                                       "colorbar": {
                                          "outlinewidth": 0,
                                          "ticks": ""
                                       }
                                    },
                                    "type": "scattermap"
                                 }
                              ],
                              "scattermapbox": [
                                 {
                                    "marker": {
                                       "colorbar": {
                                          "outlinewidth": 0,
                                          "ticks": ""
                                       }
                                    },
                                    "type": "scattermapbox"
                                 }
                              ],
                              "scatterpolar": [
                                 {
                                    "marker": {
                                       "colorbar": {
                                          "outlinewidth": 0,
                                          "ticks": ""
                                       }
                                    },
                                    "type": "scatterpolar"
                                 }
                              ],
                              "scatterpolargl": [
                                 {
                                    "marker": {
                                       "colorbar": {
                                          "outlinewidth": 0,
                                          "ticks": ""
                                       }
                                    },
                                    "type": "scatterpolargl"
                                 }
                              ],
                              "scatterternary": [
                                 {
                                    "marker": {
                                       "colorbar": {
                                          "outlinewidth": 0,
                                          "ticks": ""
                                       }
                                    },
                                    "type": "scatterternary"
                                 }
                              ],
                              "surface": [
                                 {
                                    "colorbar": {
                                       "outlinewidth": 0,
                                       "ticks": ""
                                    },
                                    "colorscale": [
                                       [
                                          0,
                                          "#0d0887"
                                       ],
                                       [
                                          0.1111111111111111,
                                          "#46039f"
                                       ],
                                       [
                                          0.2222222222222222,
                                          "#7201a8"
                                       ],
                                       [
                                          0.3333333333333333,
                                          "#9c179e"
                                       ],
                                       [
                                          0.4444444444444444,
                                          "#bd3786"
                                       ],
                                       [
                                          0.5555555555555556,
                                          "#d8576b"
                                       ],
                                       [
                                          0.6666666666666666,
                                          "#ed7953"
                                       ],
                                       [
                                          0.7777777777777778,
                                          "#fb9f3a"
                                       ],
                                       [
                                          0.8888888888888888,
                                          "#fdca26"
                                       ],
                                       [
                                          1,
                                          "#f0f921"
                                       ]
                                    ],
                                    "type": "surface"
                                 }
                              ],
                              "table": [
                                 {
                                    "cells": {
                                       "fill": {
                                          "color": "#506784"
                                       },
                                       "line": {
                                          "color": "rgb(17,17,17)"
                                       }
                                    },
                                    "header": {
                                       "fill": {
                                          "color": "#2a3f5f"
                                       },
                                       "line": {
                                          "color": "rgb(17,17,17)"
                                       }
                                    },
                                    "type": "table"
                                 }
                              ]
                           },
                           "layout": {
                              "annotationdefaults": {
                                 "arrowcolor": "#f2f5fa",
                                 "arrowhead": 0,
                                 "arrowwidth": 1
                              },
                              "autotypenumbers": "strict",
                              "coloraxis": {
                                 "colorbar": {
                                    "outlinewidth": 0,
                                    "ticks": ""
                                 }
                              },
                              "colorscale": {
                                 "diverging": [
                                    [
                                       0,
                                       "#8e0152"
                                    ],
                                    [
                                       0.1,
                                       "#c51b7d"
                                    ],
                                    [
                                       0.2,
                                       "#de77ae"
                                    ],
                                    [
                                       0.3,
                                       "#f1b6da"
                                    ],
                                    [
                                       0.4,
                                       "#fde0ef"
                                    ],
                                    [
                                       0.5,
                                       "#f7f7f7"
                                    ],
                                    [
                                       0.6,
                                       "#e6f5d0"
                                    ],
                                    [
                                       0.7,
                                       "#b8e186"
                                    ],
                                    [
                                       0.8,
                                       "#7fbc41"
                                    ],
                                    [
                                       0.9,
                                       "#4d9221"
                                    ],
                                    [
                                       1,
                                       "#276419"
                                    ]
                                 ],
                                 "sequential": [
                                    [
                                       0,
                                       "#0d0887"
                                    ],
                                    [
                                       0.1111111111111111,
                                       "#46039f"
                                    ],
                                    [
                                       0.2222222222222222,
                                       "#7201a8"
                                    ],
                                    [
                                       0.3333333333333333,
                                       "#9c179e"
                                    ],
                                    [
                                       0.4444444444444444,
                                       "#bd3786"
                                    ],
                                    [
                                       0.5555555555555556,
                                       "#d8576b"
                                    ],
                                    [
                                       0.6666666666666666,
                                       "#ed7953"
                                    ],
                                    [
                                       0.7777777777777778,
                                       "#fb9f3a"
                                    ],
                                    [
                                       0.8888888888888888,
                                       "#fdca26"
                                    ],
                                    [
                                       1,
                                       "#f0f921"
                                    ]
                                 ],
                                 "sequentialminus": [
                                    [
                                       0,
                                       "#0d0887"
                                    ],
                                    [
                                       0.1111111111111111,
                                       "#46039f"
                                    ],
                                    [
                                       0.2222222222222222,
                                       "#7201a8"
                                    ],
                                    [
                                       0.3333333333333333,
                                       "#9c179e"
                                    ],
                                    [
                                       0.4444444444444444,
                                       "#bd3786"
                                    ],
                                    [
                                       0.5555555555555556,
                                       "#d8576b"
                                    ],
                                    [
                                       0.6666666666666666,
                                       "#ed7953"
                                    ],
                                    [
                                       0.7777777777777778,
                                       "#fb9f3a"
                                    ],
                                    [
                                       0.8888888888888888,
                                       "#fdca26"
                                    ],
                                    [
                                       1,
                                       "#f0f921"
                                    ]
                                 ]
                              },
                              "colorway": [
                                 "#636efa",
                                 "#EF553B",
                                 "#00cc96",
                                 "#ab63fa",
                                 "#FFA15A",
                                 "#19d3f3",
                                 "#FF6692",
                                 "#B6E880",
                                 "#FF97FF",
                                 "#FECB52"
                              ],
                              "font": {
                                 "color": "#f2f5fa"
                              },
                              "geo": {
                                 "bgcolor": "rgb(17,17,17)",
                                 "lakecolor": "rgb(17,17,17)",
                                 "landcolor": "rgb(17,17,17)",
                                 "showlakes": true,
                                 "showland": true,
                                 "subunitcolor": "#506784"
                              },
                              "hoverlabel": {
                                 "align": "left"
                              },
                              "hovermode": "closest",
                              "mapbox": {
                                 "style": "dark"
                              },
                              "paper_bgcolor": "rgb(17,17,17)",
                              "plot_bgcolor": "rgb(17,17,17)",
                              "polar": {
                                 "angularaxis": {
                                    "gridcolor": "#506784",
                                    "linecolor": "#506784",
                                    "ticks": ""
                                 },
                                 "bgcolor": "rgb(17,17,17)",
                                 "radialaxis": {
                                    "gridcolor": "#506784",
                                    "linecolor": "#506784",
                                    "ticks": ""
                                 }
                              },
                              "scene": {
                                 "xaxis": {
                                    "backgroundcolor": "rgb(17,17,17)",
                                    "gridcolor": "#506784",
                                    "gridwidth": 2,
                                    "linecolor": "#506784",
                                    "showbackground": true,
                                    "ticks": "",
                                    "zerolinecolor": "#C8D4E3"
                                 },
                                 "yaxis": {
                                    "backgroundcolor": "rgb(17,17,17)",
                                    "gridcolor": "#506784",
                                    "gridwidth": 2,
                                    "linecolor": "#506784",
                                    "showbackground": true,
                                    "ticks": "",
                                    "zerolinecolor": "#C8D4E3"
                                 },
                                 "zaxis": {
                                    "backgroundcolor": "rgb(17,17,17)",
                                    "gridcolor": "#506784",
                                    "gridwidth": 2,
                                    "linecolor": "#506784",
                                    "showbackground": true,
                                    "ticks": "",
                                    "zerolinecolor": "#C8D4E3"
                                 }
                              },
                              "shapedefaults": {
                                 "line": {
                                    "color": "#f2f5fa"
                                 }
                              },
                              "sliderdefaults": {
                                 "bgcolor": "#C8D4E3",
                                 "bordercolor": "rgb(17,17,17)",
                                 "borderwidth": 1,
                                 "tickwidth": 0
                              },
                              "ternary": {
                                 "aaxis": {
                                    "gridcolor": "#506784",
                                    "linecolor": "#506784",
                                    "ticks": ""
                                 },
                                 "baxis": {
                                    "gridcolor": "#506784",
                                    "linecolor": "#506784",
                                    "ticks": ""
                                 },
                                 "bgcolor": "rgb(17,17,17)",
                                 "caxis": {
                                    "gridcolor": "#506784",
                                    "linecolor": "#506784",
                                    "ticks": ""
                                 }
                              },
                              "title": {
                                 "x": 0.05
                              },
                              "updatemenudefaults": {
                                 "bgcolor": "#506784",
                                 "borderwidth": 0
                              },
                              "xaxis": {
                                 "automargin": true,
                                 "gridcolor": "#283442",
                                 "linecolor": "#506784",
                                 "ticks": "",
                                 "title": {
                                    "standoff": 15
                                 },
                                 "zerolinecolor": "#283442",
                                 "zerolinewidth": 2
                              },
                              "yaxis": {
                                 "automargin": true,
                                 "gridcolor": "#283442",
                                 "linecolor": "#506784",
                                 "ticks": "",
                                 "title": {
                                    "standoff": 15
                                 },
                                 "zerolinecolor": "#283442",
                                 "zerolinewidth": 2
                              }
                           }
                        },
                        "width": 1200,
                        "xaxis": {
                           "anchor": "y",
                           "domain": [
                              0,
                              1
                           ],
                           "title": {
                              "text": "time_in_s"
                           }
                        },
                        "yaxis": {
                           "anchor": "x",
                           "categoryarray": [
                              "dlt_flatten",
                              "flatdict_flatten",
                              "pandas_flatten",
                              "polars_flatten",
                              "manual_flatten",
                              "generator_flatten",
                              "unpack_operator_flatten"
                           ],
                           "categoryorder": "array",
                           "domain": [
                              0,
                              1
                           ],
                           "title": {
                              "text": "function"
                           }
                        }
                     }
                  }
               },
               "metadata": {},
               "output_type": "display_data"
            }
         ],
         "source": [
            "bar_time = px.bar(\n",
            "    df_hundred.sort_values(by='time_in_s'),\n",
            "    x='time_in_s',\n",
            "    y='function',\n",
            "    color='function',\n",
            "    #barmode='group',\n",
            "    text_auto='.3s',\n",
            "    orientation='h',\n",
            "    template=template,\n",
            "    height=height,\n",
            "    width=width\n",
            ")\n",
            "\n",
            "bar_time.show()"
         ]
      },
      {
         "cell_type": "code",
         "execution_count": 16,
         "id": "0687cc05",
         "metadata": {},
         "outputs": [
            {
               "data": {
                  "application/vnd.plotly.v1+json": {
                     "config": {
                        "plotlyServerURL": "https://plot.ly"
                     },
                     "data": [
                        {
                           "marker": {
                              "color": "pink"
                           },
                           "name": "100 Players",
                           "opacity": 0.7,
                           "type": "bar",
                           "x": [
                              "dlt_flatten",
                              "flatdict_flatten",
                              "generator_flatten",
                              "manual_flatten",
                              "pandas_flatten",
                              "polars_flatten",
                              "unpack_operator_flatten"
                           ],
                           "y": {
                              "bdata": "n51l2hMkNj/28wHchxcvP10HLlrB//Q+N+RUO2qn9T79cXWPv7QdPxxzxzBhE/0+nxse63ebtj4=",
                              "dtype": "f8"
                           }
                        },
                        {
                           "marker": {
                              "color": "red"
                           },
                           "name": "100,000 Players",
                           "opacity": 0.7,
                           "type": "bar",
                           "x": [
                              "dlt_flatten",
                              "flatdict_flatten",
                              "generator_flatten",
                              "manual_flatten",
                              "pandas_flatten",
                              "polars_flatten",
                              "unpack_operator_flatten"
                           ],
                           "y": {
                              "bdata": "OJDkqJK3Ij8O9FDbhlEwP0GsSJbd3fQ+a065HXXP9T7+sEqO4OsgP+w2A7dJoPw+B9OLNbedwT4=",
                              "dtype": "f8"
                           }
                        }
                     ],
                     "layout": {
                        "barmode": "group",
                        "height": 800,
                        "legend": {
                           "orientation": "h",
                           "x": 1,
                           "xanchor": "right",
                           "y": 1.02,
                           "yanchor": "bottom"
                        },
                        "template": {
                           "data": {
                              "bar": [
                                 {
                                    "error_x": {
                                       "color": "#f2f5fa"
                                    },
                                    "error_y": {
                                       "color": "#f2f5fa"
                                    },
                                    "marker": {
                                       "line": {
                                          "color": "rgb(17,17,17)",
                                          "width": 0.5
                                       },
                                       "pattern": {
                                          "fillmode": "overlay",
                                          "size": 10,
                                          "solidity": 0.2
                                       }
                                    },
                                    "type": "bar"
                                 }
                              ],
                              "barpolar": [
                                 {
                                    "marker": {
                                       "line": {
                                          "color": "rgb(17,17,17)",
                                          "width": 0.5
                                       },
                                       "pattern": {
                                          "fillmode": "overlay",
                                          "size": 10,
                                          "solidity": 0.2
                                       }
                                    },
                                    "type": "barpolar"
                                 }
                              ],
                              "carpet": [
                                 {
                                    "aaxis": {
                                       "endlinecolor": "#A2B1C6",
                                       "gridcolor": "#506784",
                                       "linecolor": "#506784",
                                       "minorgridcolor": "#506784",
                                       "startlinecolor": "#A2B1C6"
                                    },
                                    "baxis": {
                                       "endlinecolor": "#A2B1C6",
                                       "gridcolor": "#506784",
                                       "linecolor": "#506784",
                                       "minorgridcolor": "#506784",
                                       "startlinecolor": "#A2B1C6"
                                    },
                                    "type": "carpet"
                                 }
                              ],
                              "choropleth": [
                                 {
                                    "colorbar": {
                                       "outlinewidth": 0,
                                       "ticks": ""
                                    },
                                    "type": "choropleth"
                                 }
                              ],
                              "contour": [
                                 {
                                    "colorbar": {
                                       "outlinewidth": 0,
                                       "ticks": ""
                                    },
                                    "colorscale": [
                                       [
                                          0,
                                          "#0d0887"
                                       ],
                                       [
                                          0.1111111111111111,
                                          "#46039f"
                                       ],
                                       [
                                          0.2222222222222222,
                                          "#7201a8"
                                       ],
                                       [
                                          0.3333333333333333,
                                          "#9c179e"
                                       ],
                                       [
                                          0.4444444444444444,
                                          "#bd3786"
                                       ],
                                       [
                                          0.5555555555555556,
                                          "#d8576b"
                                       ],
                                       [
                                          0.6666666666666666,
                                          "#ed7953"
                                       ],
                                       [
                                          0.7777777777777778,
                                          "#fb9f3a"
                                       ],
                                       [
                                          0.8888888888888888,
                                          "#fdca26"
                                       ],
                                       [
                                          1,
                                          "#f0f921"
                                       ]
                                    ],
                                    "type": "contour"
                                 }
                              ],
                              "contourcarpet": [
                                 {
                                    "colorbar": {
                                       "outlinewidth": 0,
                                       "ticks": ""
                                    },
                                    "type": "contourcarpet"
                                 }
                              ],
                              "heatmap": [
                                 {
                                    "colorbar": {
                                       "outlinewidth": 0,
                                       "ticks": ""
                                    },
                                    "colorscale": [
                                       [
                                          0,
                                          "#0d0887"
                                       ],
                                       [
                                          0.1111111111111111,
                                          "#46039f"
                                       ],
                                       [
                                          0.2222222222222222,
                                          "#7201a8"
                                       ],
                                       [
                                          0.3333333333333333,
                                          "#9c179e"
                                       ],
                                       [
                                          0.4444444444444444,
                                          "#bd3786"
                                       ],
                                       [
                                          0.5555555555555556,
                                          "#d8576b"
                                       ],
                                       [
                                          0.6666666666666666,
                                          "#ed7953"
                                       ],
                                       [
                                          0.7777777777777778,
                                          "#fb9f3a"
                                       ],
                                       [
                                          0.8888888888888888,
                                          "#fdca26"
                                       ],
                                       [
                                          1,
                                          "#f0f921"
                                       ]
                                    ],
                                    "type": "heatmap"
                                 }
                              ],
                              "histogram": [
                                 {
                                    "marker": {
                                       "pattern": {
                                          "fillmode": "overlay",
                                          "size": 10,
                                          "solidity": 0.2
                                       }
                                    },
                                    "type": "histogram"
                                 }
                              ],
                              "histogram2d": [
                                 {
                                    "colorbar": {
                                       "outlinewidth": 0,
                                       "ticks": ""
                                    },
                                    "colorscale": [
                                       [
                                          0,
                                          "#0d0887"
                                       ],
                                       [
                                          0.1111111111111111,
                                          "#46039f"
                                       ],
                                       [
                                          0.2222222222222222,
                                          "#7201a8"
                                       ],
                                       [
                                          0.3333333333333333,
                                          "#9c179e"
                                       ],
                                       [
                                          0.4444444444444444,
                                          "#bd3786"
                                       ],
                                       [
                                          0.5555555555555556,
                                          "#d8576b"
                                       ],
                                       [
                                          0.6666666666666666,
                                          "#ed7953"
                                       ],
                                       [
                                          0.7777777777777778,
                                          "#fb9f3a"
                                       ],
                                       [
                                          0.8888888888888888,
                                          "#fdca26"
                                       ],
                                       [
                                          1,
                                          "#f0f921"
                                       ]
                                    ],
                                    "type": "histogram2d"
                                 }
                              ],
                              "histogram2dcontour": [
                                 {
                                    "colorbar": {
                                       "outlinewidth": 0,
                                       "ticks": ""
                                    },
                                    "colorscale": [
                                       [
                                          0,
                                          "#0d0887"
                                       ],
                                       [
                                          0.1111111111111111,
                                          "#46039f"
                                       ],
                                       [
                                          0.2222222222222222,
                                          "#7201a8"
                                       ],
                                       [
                                          0.3333333333333333,
                                          "#9c179e"
                                       ],
                                       [
                                          0.4444444444444444,
                                          "#bd3786"
                                       ],
                                       [
                                          0.5555555555555556,
                                          "#d8576b"
                                       ],
                                       [
                                          0.6666666666666666,
                                          "#ed7953"
                                       ],
                                       [
                                          0.7777777777777778,
                                          "#fb9f3a"
                                       ],
                                       [
                                          0.8888888888888888,
                                          "#fdca26"
                                       ],
                                       [
                                          1,
                                          "#f0f921"
                                       ]
                                    ],
                                    "type": "histogram2dcontour"
                                 }
                              ],
                              "mesh3d": [
                                 {
                                    "colorbar": {
                                       "outlinewidth": 0,
                                       "ticks": ""
                                    },
                                    "type": "mesh3d"
                                 }
                              ],
                              "parcoords": [
                                 {
                                    "line": {
                                       "colorbar": {
                                          "outlinewidth": 0,
                                          "ticks": ""
                                       }
                                    },
                                    "type": "parcoords"
                                 }
                              ],
                              "pie": [
                                 {
                                    "automargin": true,
                                    "type": "pie"
                                 }
                              ],
                              "scatter": [
                                 {
                                    "marker": {
                                       "line": {
                                          "color": "#283442"
                                       }
                                    },
                                    "type": "scatter"
                                 }
                              ],
                              "scatter3d": [
                                 {
                                    "line": {
                                       "colorbar": {
                                          "outlinewidth": 0,
                                          "ticks": ""
                                       }
                                    },
                                    "marker": {
                                       "colorbar": {
                                          "outlinewidth": 0,
                                          "ticks": ""
                                       }
                                    },
                                    "type": "scatter3d"
                                 }
                              ],
                              "scattercarpet": [
                                 {
                                    "marker": {
                                       "colorbar": {
                                          "outlinewidth": 0,
                                          "ticks": ""
                                       }
                                    },
                                    "type": "scattercarpet"
                                 }
                              ],
                              "scattergeo": [
                                 {
                                    "marker": {
                                       "colorbar": {
                                          "outlinewidth": 0,
                                          "ticks": ""
                                       }
                                    },
                                    "type": "scattergeo"
                                 }
                              ],
                              "scattergl": [
                                 {
                                    "marker": {
                                       "line": {
                                          "color": "#283442"
                                       }
                                    },
                                    "type": "scattergl"
                                 }
                              ],
                              "scattermap": [
                                 {
                                    "marker": {
                                       "colorbar": {
                                          "outlinewidth": 0,
                                          "ticks": ""
                                       }
                                    },
                                    "type": "scattermap"
                                 }
                              ],
                              "scattermapbox": [
                                 {
                                    "marker": {
                                       "colorbar": {
                                          "outlinewidth": 0,
                                          "ticks": ""
                                       }
                                    },
                                    "type": "scattermapbox"
                                 }
                              ],
                              "scatterpolar": [
                                 {
                                    "marker": {
                                       "colorbar": {
                                          "outlinewidth": 0,
                                          "ticks": ""
                                       }
                                    },
                                    "type": "scatterpolar"
                                 }
                              ],
                              "scatterpolargl": [
                                 {
                                    "marker": {
                                       "colorbar": {
                                          "outlinewidth": 0,
                                          "ticks": ""
                                       }
                                    },
                                    "type": "scatterpolargl"
                                 }
                              ],
                              "scatterternary": [
                                 {
                                    "marker": {
                                       "colorbar": {
                                          "outlinewidth": 0,
                                          "ticks": ""
                                       }
                                    },
                                    "type": "scatterternary"
                                 }
                              ],
                              "surface": [
                                 {
                                    "colorbar": {
                                       "outlinewidth": 0,
                                       "ticks": ""
                                    },
                                    "colorscale": [
                                       [
                                          0,
                                          "#0d0887"
                                       ],
                                       [
                                          0.1111111111111111,
                                          "#46039f"
                                       ],
                                       [
                                          0.2222222222222222,
                                          "#7201a8"
                                       ],
                                       [
                                          0.3333333333333333,
                                          "#9c179e"
                                       ],
                                       [
                                          0.4444444444444444,
                                          "#bd3786"
                                       ],
                                       [
                                          0.5555555555555556,
                                          "#d8576b"
                                       ],
                                       [
                                          0.6666666666666666,
                                          "#ed7953"
                                       ],
                                       [
                                          0.7777777777777778,
                                          "#fb9f3a"
                                       ],
                                       [
                                          0.8888888888888888,
                                          "#fdca26"
                                       ],
                                       [
                                          1,
                                          "#f0f921"
                                       ]
                                    ],
                                    "type": "surface"
                                 }
                              ],
                              "table": [
                                 {
                                    "cells": {
                                       "fill": {
                                          "color": "#506784"
                                       },
                                       "line": {
                                          "color": "rgb(17,17,17)"
                                       }
                                    },
                                    "header": {
                                       "fill": {
                                          "color": "#2a3f5f"
                                       },
                                       "line": {
                                          "color": "rgb(17,17,17)"
                                       }
                                    },
                                    "type": "table"
                                 }
                              ]
                           },
                           "layout": {
                              "annotationdefaults": {
                                 "arrowcolor": "#f2f5fa",
                                 "arrowhead": 0,
                                 "arrowwidth": 1
                              },
                              "autotypenumbers": "strict",
                              "coloraxis": {
                                 "colorbar": {
                                    "outlinewidth": 0,
                                    "ticks": ""
                                 }
                              },
                              "colorscale": {
                                 "diverging": [
                                    [
                                       0,
                                       "#8e0152"
                                    ],
                                    [
                                       0.1,
                                       "#c51b7d"
                                    ],
                                    [
                                       0.2,
                                       "#de77ae"
                                    ],
                                    [
                                       0.3,
                                       "#f1b6da"
                                    ],
                                    [
                                       0.4,
                                       "#fde0ef"
                                    ],
                                    [
                                       0.5,
                                       "#f7f7f7"
                                    ],
                                    [
                                       0.6,
                                       "#e6f5d0"
                                    ],
                                    [
                                       0.7,
                                       "#b8e186"
                                    ],
                                    [
                                       0.8,
                                       "#7fbc41"
                                    ],
                                    [
                                       0.9,
                                       "#4d9221"
                                    ],
                                    [
                                       1,
                                       "#276419"
                                    ]
                                 ],
                                 "sequential": [
                                    [
                                       0,
                                       "#0d0887"
                                    ],
                                    [
                                       0.1111111111111111,
                                       "#46039f"
                                    ],
                                    [
                                       0.2222222222222222,
                                       "#7201a8"
                                    ],
                                    [
                                       0.3333333333333333,
                                       "#9c179e"
                                    ],
                                    [
                                       0.4444444444444444,
                                       "#bd3786"
                                    ],
                                    [
                                       0.5555555555555556,
                                       "#d8576b"
                                    ],
                                    [
                                       0.6666666666666666,
                                       "#ed7953"
                                    ],
                                    [
                                       0.7777777777777778,
                                       "#fb9f3a"
                                    ],
                                    [
                                       0.8888888888888888,
                                       "#fdca26"
                                    ],
                                    [
                                       1,
                                       "#f0f921"
                                    ]
                                 ],
                                 "sequentialminus": [
                                    [
                                       0,
                                       "#0d0887"
                                    ],
                                    [
                                       0.1111111111111111,
                                       "#46039f"
                                    ],
                                    [
                                       0.2222222222222222,
                                       "#7201a8"
                                    ],
                                    [
                                       0.3333333333333333,
                                       "#9c179e"
                                    ],
                                    [
                                       0.4444444444444444,
                                       "#bd3786"
                                    ],
                                    [
                                       0.5555555555555556,
                                       "#d8576b"
                                    ],
                                    [
                                       0.6666666666666666,
                                       "#ed7953"
                                    ],
                                    [
                                       0.7777777777777778,
                                       "#fb9f3a"
                                    ],
                                    [
                                       0.8888888888888888,
                                       "#fdca26"
                                    ],
                                    [
                                       1,
                                       "#f0f921"
                                    ]
                                 ]
                              },
                              "colorway": [
                                 "#636efa",
                                 "#EF553B",
                                 "#00cc96",
                                 "#ab63fa",
                                 "#FFA15A",
                                 "#19d3f3",
                                 "#FF6692",
                                 "#B6E880",
                                 "#FF97FF",
                                 "#FECB52"
                              ],
                              "font": {
                                 "color": "#f2f5fa"
                              },
                              "geo": {
                                 "bgcolor": "rgb(17,17,17)",
                                 "lakecolor": "rgb(17,17,17)",
                                 "landcolor": "rgb(17,17,17)",
                                 "showlakes": true,
                                 "showland": true,
                                 "subunitcolor": "#506784"
                              },
                              "hoverlabel": {
                                 "align": "left"
                              },
                              "hovermode": "closest",
                              "mapbox": {
                                 "style": "dark"
                              },
                              "paper_bgcolor": "rgb(17,17,17)",
                              "plot_bgcolor": "rgb(17,17,17)",
                              "polar": {
                                 "angularaxis": {
                                    "gridcolor": "#506784",
                                    "linecolor": "#506784",
                                    "ticks": ""
                                 },
                                 "bgcolor": "rgb(17,17,17)",
                                 "radialaxis": {
                                    "gridcolor": "#506784",
                                    "linecolor": "#506784",
                                    "ticks": ""
                                 }
                              },
                              "scene": {
                                 "xaxis": {
                                    "backgroundcolor": "rgb(17,17,17)",
                                    "gridcolor": "#506784",
                                    "gridwidth": 2,
                                    "linecolor": "#506784",
                                    "showbackground": true,
                                    "ticks": "",
                                    "zerolinecolor": "#C8D4E3"
                                 },
                                 "yaxis": {
                                    "backgroundcolor": "rgb(17,17,17)",
                                    "gridcolor": "#506784",
                                    "gridwidth": 2,
                                    "linecolor": "#506784",
                                    "showbackground": true,
                                    "ticks": "",
                                    "zerolinecolor": "#C8D4E3"
                                 },
                                 "zaxis": {
                                    "backgroundcolor": "rgb(17,17,17)",
                                    "gridcolor": "#506784",
                                    "gridwidth": 2,
                                    "linecolor": "#506784",
                                    "showbackground": true,
                                    "ticks": "",
                                    "zerolinecolor": "#C8D4E3"
                                 }
                              },
                              "shapedefaults": {
                                 "line": {
                                    "color": "#f2f5fa"
                                 }
                              },
                              "sliderdefaults": {
                                 "bgcolor": "#C8D4E3",
                                 "bordercolor": "rgb(17,17,17)",
                                 "borderwidth": 1,
                                 "tickwidth": 0
                              },
                              "ternary": {
                                 "aaxis": {
                                    "gridcolor": "#506784",
                                    "linecolor": "#506784",
                                    "ticks": ""
                                 },
                                 "baxis": {
                                    "gridcolor": "#506784",
                                    "linecolor": "#506784",
                                    "ticks": ""
                                 },
                                 "bgcolor": "rgb(17,17,17)",
                                 "caxis": {
                                    "gridcolor": "#506784",
                                    "linecolor": "#506784",
                                    "ticks": ""
                                 }
                              },
                              "title": {
                                 "x": 0.05
                              },
                              "updatemenudefaults": {
                                 "bgcolor": "#506784",
                                 "borderwidth": 0
                              },
                              "xaxis": {
                                 "automargin": true,
                                 "gridcolor": "#283442",
                                 "linecolor": "#506784",
                                 "ticks": "",
                                 "title": {
                                    "standoff": 15
                                 },
                                 "zerolinecolor": "#283442",
                                 "zerolinewidth": 2
                              },
                              "yaxis": {
                                 "automargin": true,
                                 "gridcolor": "#283442",
                                 "linecolor": "#506784",
                                 "ticks": "",
                                 "title": {
                                    "standoff": 15
                                 },
                                 "zerolinecolor": "#283442",
                                 "zerolinewidth": 2
                              }
                           }
                        },
                        "title": {
                           "text": "Time Efficiency (Seconds per Player)"
                        },
                        "width": 1200,
                        "xaxis": {
                           "title": {
                              "text": "Function"
                           }
                        },
                        "yaxis": {
                           "title": {
                              "text": "Time per Player (s)"
                           }
                        }
                     }
                  }
               },
               "metadata": {},
               "output_type": "display_data"
            }
         ],
         "source": [
            "# Calculate time per player\n",
            "df_100['time_per_player'] = df_100['time_in_s'] / 100\n",
            "df_max_players['time_per_player'] = df_max_players['time_in_s'] / 100_000\n",
            "\n",
            "# Create figure\n",
            "fig = go.Figure()\n",
            "\n",
            "# Add traces for time per player\n",
            "fig.add_trace(\n",
            "    go.Bar(\n",
            "        x=df_100['function'],\n",
            "        y=df_100['time_per_player'],\n",
            "        name=\"100 Players\",\n",
            "        marker_color='pink',\n",
            "        opacity=0.7\n",
            "    )\n",
            ")\n",
            "\n",
            "fig.add_trace(\n",
            "    go.Bar(\n",
            "        x=df_max_players['function'],\n",
            "        y=df_max_players['time_per_player'],\n",
            "        name=\"100,000 Players\",\n",
            "        marker_color='red',\n",
            "        opacity=0.7\n",
            "    )\n",
            ")\n",
            "\n",
            "# Update layout\n",
            "fig.update_layout(\n",
            "    title_text=\"Time Efficiency (Seconds per Player)\",\n",
            "    template='plotly_dark',\n",
            "    height=height,\n",
            "    width=width,\n",
            "    barmode='group',\n",
            "    yaxis=dict(title=\"Time per Player (s)\"),\n",
            "    xaxis=dict(title=\"Function\"),\n",
            "    legend=dict(\n",
            "        orientation=\"h\",\n",
            "        yanchor=\"bottom\",\n",
            "        y=1.02,\n",
            "        xanchor=\"right\",\n",
            "        x=1\n",
            "    )\n",
            ")\n",
            "\n",
            "fig.show()\n"
         ]
      },
      {
         "cell_type": "markdown",
         "id": "e366088c",
         "metadata": {},
         "source": [
            "---"
         ]
      },
      {
         "cell_type": "markdown",
         "id": "ec7270dd",
         "metadata": {},
         "source": [
            "# Bonus: Analyse the loop style"
         ]
      },
      {
         "cell_type": "code",
         "execution_count": 17,
         "id": "57d21ada",
         "metadata": {},
         "outputs": [
            {
               "data": {
                  "text/plain": [
                     "┌─────────────────────────────────────┬───────────────┬──────────────────┬──────────────────┬───────────────┐\n",
                     "│              function               │ avg_time_in_s │ median_time_in_s │ avg_memory_in_mb │ median_memory │\n",
                     "│               varchar               │    double     │      double      │      double      │    double     │\n",
                     "├─────────────────────────────────────┼───────────────┼──────────────────┼──────────────────┼───────────────┤\n",
                     "│ flatdict_flatten_gen_comprehension  │         0.121 │           0.0057 │          18.6758 │         0.847 │\n",
                     "│ flatdict_flatten_list_comprehension │        0.1298 │           0.0056 │          18.6754 │        0.8465 │\n",
                     "│ flatdict_flatten                    │        5.1377 │           0.2339 │          42.1424 │        1.9194 │\n",
                     "└─────────────────────────────────────┴───────────────┴──────────────────┴──────────────────┴───────────────┘"
                  ]
               },
               "execution_count": 17,
               "metadata": {},
               "output_type": "execute_result"
            }
         ],
         "source": [
            "duckdb.sql(\"\"\"\n",
            "SELECT \n",
            "    function,\n",
            "    round(avg(time_in_s),4) as avg_time_in_s,\n",
            "    round(median(time_in_s),4) as median_time_in_s,\n",
            "    round(avg(memory_in_mb), 4) as avg_memory_in_mb,\n",
            "    round(median(memory_in_mb), 4) as median_memory\n",
            "\n",
            "FROM read_json('data/compare_loops_results.json')\n",
            "GROUP BY 1\n",
            "ORDER BY avg_time_in_s \n",
            "\"\"\")"
         ]
      }
   ],
   "metadata": {
      "kernelspec": {
         "display_name": ".venv",
         "language": "python",
         "name": "python3"
      },
      "language_info": {
         "codemirror_mode": {
            "name": "ipython",
            "version": 3
         },
         "file_extension": ".py",
         "mimetype": "text/x-python",
         "name": "python",
         "nbconvert_exporter": "python",
         "pygments_lexer": "ipython3",
         "version": "3.13.5"
      }
   },
   "nbformat": 4,
   "nbformat_minor": 5
}
