{
 "cells": [
  {
   "cell_type": "markdown",
   "id": "994c4cc1",
   "metadata": {},
   "source": [
    "# Analyse results of benchmark\n",
    "\n",
    "And because i love it, we will do it using SQL & duckdb, yeah!"
   ]
  },
  {
   "cell_type": "code",
   "execution_count": 2,
   "id": "b8ded69f",
   "metadata": {},
   "outputs": [],
   "source": [
    "import duckdb"
   ]
  },
  {
   "cell_type": "code",
   "execution_count": 8,
   "id": "1c9edde1",
   "metadata": {},
   "outputs": [
    {
     "data": {
      "text/plain": [
       "┌─────────────────────────┬───────────────┬──────────────────┬──────────────────┐\n",
       "│        function         │ avg_time_in_s │ avg_memory_in_mb │ max_memory_in_mb │\n",
       "│         varchar         │    double     │      double      │      double      │\n",
       "├─────────────────────────┼───────────────┼──────────────────┼──────────────────┤\n",
       "│ dlt_flatten             │        5.0815 │          18.0576 │          77.6918 │\n",
       "│ unpack_operator_flatten │        0.0294 │          18.6702 │          84.0011 │\n",
       "│ manual_flatten          │        0.4781 │           18.671 │          84.0019 │\n",
       "│ generator_flatten       │        0.4128 │          18.6827 │           84.012 │\n",
       "│ flatdict_flatten        │        5.5198 │          42.1399 │         189.5238 │\n",
       "│ pandas_flatten          │         2.864 │          81.4875 │         366.5389 │\n",
       "└─────────────────────────┴───────────────┴──────────────────┴──────────────────┘"
      ]
     },
     "execution_count": 8,
     "metadata": {},
     "output_type": "execute_result"
    }
   ],
   "source": [
    "duckdb.sql(\"\"\"\n",
    "SELECT \n",
    "    function,\n",
    "    round(avg(time_in_s),4) as avg_time_in_s,\n",
    "    round(avg(memory_in_mb), 4) as avg_memory_in_mb,\n",
    "    round(max(memory_in_mb), 4) as max_memory_in_mb\n",
    "FROM read_json('data/benchmark_results.json')\n",
    "GROUP BY 1\n",
    "ORDER BY max_memory_in_mb \n",
    "\"\"\")"
   ]
  },
  {
   "cell_type": "code",
   "execution_count": 4,
   "id": "c8fdaa32",
   "metadata": {},
   "outputs": [
    {
     "data": {
      "text/plain": [
       "┌─────────────────────────┬───────────────┬──────────────────┬─────────────────────┐\n",
       "│        function         │ avg_time_in_s │ avg_memory_in_mb │ median_memory_in_mb │\n",
       "│         varchar         │    double     │      double      │       double        │\n",
       "├─────────────────────────┼───────────────┼──────────────────┼─────────────────────┤\n",
       "│ unpack_operator_flatten │        0.0294 │          18.6702 │              0.8409 │\n",
       "│ manual_flatten          │        0.4781 │           18.671 │              0.8417 │\n",
       "│ generator_flatten       │        0.4128 │          18.6827 │              0.8519 │\n",
       "│ flatdict_flatten        │        5.5198 │          42.1399 │              1.9187 │\n",
       "│ pandas_flatten          │         2.864 │          81.4875 │              3.6984 │\n",
       "│ dlt_flatten             │        5.0815 │          18.0576 │               3.735 │\n",
       "└─────────────────────────┴───────────────┴──────────────────┴─────────────────────┘"
      ]
     },
     "execution_count": 4,
     "metadata": {},
     "output_type": "execute_result"
    }
   ],
   "source": [
    "duckdb.sql(\"\"\"\n",
    "SELECT \n",
    "    function,\n",
    "    round(avg(time_in_s),4) as avg_time_in_s,\n",
    "    round(avg(memory_in_mb), 4) as avg_memory_in_mb,\n",
    "    round(median(memory_in_mb), 4) as median_memory_in_mb\n",
    "FROM read_json('data/benchmark_results.json')\n",
    "GROUP BY 1\n",
    "ORDER BY median_memory_in_mb \n",
    "\"\"\")"
   ]
  },
  {
   "cell_type": "code",
   "execution_count": 6,
   "id": "461877d4",
   "metadata": {},
   "outputs": [
    {
     "data": {
      "text/plain": [
       "┌─────────────┬─────────────────────────┬─────────────┬──────────────┬───────────────────────┐\n",
       "│ num_players │        function         │  min_time   │   max_time   │     avg_time_in_s     │\n",
       "│    int64    │         varchar         │   double    │    double    │        double         │\n",
       "├─────────────┼─────────────────────────┼─────────────┼──────────────┼───────────────────────┤\n",
       "│      100000 │ flatdict_flatten        │ 0.132087625 │  24.74514025 │    10.761152715166666 │\n",
       "│      100000 │ dlt_flatten             │ 0.132087625 │ 22.509564916 │          7.9643552082 │\n",
       "│      100000 │ pandas_flatten          │ 0.132087625 │ 13.189360875 │         4.32805278125 │\n",
       "│       10000 │ flatdict_flatten        │ 0.013400916 │  2.568076459 │    1.0571317568333332 │\n",
       "│       10000 │ dlt_flatten             │ 0.013400916 │  2.316876333 │          0.7549428164 │\n",
       "│      100000 │ manual_flatten          │ 0.132087625 │  2.142865917 │    1.3742834166666666 │\n",
       "│      100000 │ generator_flatten       │ 0.132087625 │  1.847896708 │          0.9899921665 │\n",
       "│       10000 │ pandas_flatten          │ 0.013400916 │  1.024874583 │   0.36445943724999996 │\n",
       "│          23 │ dlt_flatten             │  4.3834e-05 │  0.263962958 │          0.0463945485 │\n",
       "│        1000 │ dlt_flatten             │ 0.001360708 │  0.261856833 │   0.10796769416666667 │\n",
       "│          ·  │      ·                  │       ·     │        ·     │            ·          │\n",
       "│          ·  │      ·                  │       ·     │        ·     │            ·          │\n",
       "│          ·  │      ·                  │       ·     │        ·     │            ·          │\n",
       "│         100 │ pandas_flatten          │  0.00015475 │    0.0078425 │ 0.0030160315000000004 │\n",
       "│          23 │ pandas_flatten          │  4.3834e-05 │  0.006875333 │          0.0028808666 │\n",
       "│          23 │ flatdict_flatten        │  4.3834e-05 │  0.006306291 │            0.00188225 │\n",
       "│         100 │ manual_flatten          │  0.00015475 │  0.002225917 │ 0.0014072086666666666 │\n",
       "│         100 │ generator_flatten       │  0.00015475 │  0.001840959 │          0.0009978545 │\n",
       "│        1000 │ unpack_operator_flatten │ 0.001360708 │  0.001360708 │           0.001360708 │\n",
       "│          23 │ generator_flatten       │  4.3834e-05 │  0.000646125 │ 0.0004075696666666667 │\n",
       "│          23 │ manual_flatten          │  4.3834e-05 │   0.00053275 │           0.000288292 │\n",
       "│         100 │ unpack_operator_flatten │  0.00015475 │   0.00015475 │            0.00015475 │\n",
       "│          23 │ unpack_operator_flatten │  4.3834e-05 │   4.3834e-05 │            4.3834e-05 │\n",
       "├─────────────┴─────────────────────────┴─────────────┴──────────────┴───────────────────────┤\n",
       "│ 30 rows (20 shown)                                                               5 columns │\n",
       "└────────────────────────────────────────────────────────────────────────────────────────────┘"
      ]
     },
     "execution_count": 6,
     "metadata": {},
     "output_type": "execute_result"
    }
   ],
   "source": [
    "duckdb.sql(\"\"\"\n",
    "SELECT \n",
    "    num_players,\n",
    "    function,\n",
    "    min(time_in_s) OVER(PARTITION BY num_players ORDER BY time_in_s ) as min_time,\n",
    "    max(time_in_s) OVER(PARTITION BY num_players ORDER BY time_in_s ) as max_time,\n",
    "    avg(time_in_s) OVER(PARTITION BY num_players ORDER BY time_in_s ) as avg_time_in_s,\n",
    "FROM read_json('data/benchmark_results.json')\n",
    "ORDER BY max_time DESC;\n",
    "\"\"\")"
   ]
  },
  {
   "cell_type": "markdown",
   "id": "e366088c",
   "metadata": {},
   "source": [
    "---"
   ]
  },
  {
   "cell_type": "markdown",
   "id": "ec7270dd",
   "metadata": {},
   "source": [
    "# Analyse the loop style"
   ]
  },
  {
   "cell_type": "code",
   "execution_count": 15,
   "id": "57d21ada",
   "metadata": {},
   "outputs": [
    {
     "data": {
      "text/plain": [
       "┌─────────────────────────────────────┬───────────────┬──────────────────┬──────────────────┬───────────────┐\n",
       "│              function               │ avg_time_in_s │ median_time_in_s │ avg_memory_in_mb │ median_memory │\n",
       "│               varchar               │    double     │      double      │      double      │    double     │\n",
       "├─────────────────────────────────────┼───────────────┼──────────────────┼──────────────────┼───────────────┤\n",
       "│ flatdict_flatten_gen_comprehension  │         0.119 │           0.0047 │          18.6758 │         0.847 │\n",
       "│ flatdict_flatten_list_comprehension │        0.1341 │           0.0055 │          18.6754 │        0.8465 │\n",
       "│ flatdict_flatten                    │        5.1494 │           0.2287 │          42.1424 │        1.9194 │\n",
       "└─────────────────────────────────────┴───────────────┴──────────────────┴──────────────────┴───────────────┘"
      ]
     },
     "execution_count": 15,
     "metadata": {},
     "output_type": "execute_result"
    }
   ],
   "source": [
    "duckdb.sql(\"\"\"\n",
    "SELECT \n",
    "    function,\n",
    "    round(avg(time_in_s),4) as avg_time_in_s,\n",
    "    round(median(time_in_s),4) as median_time_in_s,\n",
    "    round(avg(memory_in_mb), 4) as avg_memory_in_mb,\n",
    "    round(median(memory_in_mb), 4) as median_memory\n",
    "\n",
    "FROM read_json('data/compare_loops_results.json')\n",
    "GROUP BY 1\n",
    "ORDER BY avg_time_in_s \n",
    "\"\"\")"
   ]
  },
  {
   "cell_type": "code",
   "execution_count": null,
   "id": "86573027",
   "metadata": {},
   "outputs": [],
   "source": []
  }
 ],
 "metadata": {
  "kernelspec": {
   "display_name": ".venv",
   "language": "python",
   "name": "python3"
  },
  "language_info": {
   "codemirror_mode": {
    "name": "ipython",
    "version": 3
   },
   "file_extension": ".py",
   "mimetype": "text/x-python",
   "name": "python",
   "nbconvert_exporter": "python",
   "pygments_lexer": "ipython3",
   "version": "3.13.5"
  }
 },
 "nbformat": 4,
 "nbformat_minor": 5
}
