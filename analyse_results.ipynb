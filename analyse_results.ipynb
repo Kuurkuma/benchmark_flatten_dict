{
 "cells": [
  {
   "cell_type": "markdown",
   "id": "994c4cc1",
   "metadata": {},
   "source": [
    "# Analyse results of benchmark\n",
    "\n",
    "And because i love it, we will do it using SQL & duckdb, yeah!"
   ]
  },
  {
   "cell_type": "code",
   "execution_count": 2,
   "id": "b8ded69f",
   "metadata": {},
   "outputs": [],
   "source": [
    "import duckdb"
   ]
  },
  {
   "cell_type": "code",
   "execution_count": 3,
   "id": "1c9edde1",
   "metadata": {},
   "outputs": [
    {
     "data": {
      "text/plain": [
       "┌───────────────────┬───────────────┬──────────────────┐\n",
       "│     function      │ avg_time_in_s │ avg_memory_in_mb │\n",
       "│      varchar      │    double     │      double      │\n",
       "├───────────────────┼───────────────┼──────────────────┤\n",
       "│ manual_flatten    │         0.042 │          18.6702 │\n",
       "│ generator_flatten │        0.3768 │          17.2552 │\n",
       "│ pandas_flatten    │        2.8282 │          81.4875 │\n",
       "│ dlt_flatten       │        5.0465 │          18.0576 │\n",
       "│ flatdict_flatten  │         5.568 │          42.1465 │\n",
       "└───────────────────┴───────────────┴──────────────────┘"
      ]
     },
     "execution_count": 3,
     "metadata": {},
     "output_type": "execute_result"
    }
   ],
   "source": [
    "duckdb.sql(\"\"\"\n",
    "SELECT \n",
    "    function,\n",
    "    round(avg(time_in_s),4) as avg_time_in_s,\n",
    "    round(avg(memory_in_mb), 4) as avg_memory_in_mb\n",
    "FROM read_json('data/benchmark_results.json')\n",
    "GROUP BY 1\n",
    "ORDER BY avg_time_in_s \n",
    "\"\"\")"
   ]
  },
  {
   "cell_type": "code",
   "execution_count": 5,
   "id": "c8fdaa32",
   "metadata": {},
   "outputs": [
    {
     "data": {
      "text/plain": [
       "┌───────────────────┬───────────────┬──────────────────┬─────────────────────┐\n",
       "│     function      │ avg_time_in_s │ avg_memory_in_mb │ median_memory_in_mb │\n",
       "│      varchar      │    double     │      double      │       double        │\n",
       "├───────────────────┼───────────────┼──────────────────┼─────────────────────┤\n",
       "│ generator_flatten │        0.3768 │          17.2552 │              0.7817 │\n",
       "│ manual_flatten    │         0.042 │          18.6702 │              0.8409 │\n",
       "│ flatdict_flatten  │         5.568 │          42.1465 │              1.9252 │\n",
       "│ pandas_flatten    │        2.8282 │          81.4875 │              3.6983 │\n",
       "│ dlt_flatten       │        5.0465 │          18.0576 │              3.7351 │\n",
       "└───────────────────┴───────────────┴──────────────────┴─────────────────────┘"
      ]
     },
     "execution_count": 5,
     "metadata": {},
     "output_type": "execute_result"
    }
   ],
   "source": [
    "duckdb.sql(\"\"\"\n",
    "SELECT \n",
    "    function,\n",
    "    round(avg(time_in_s),4) as avg_time_in_s,\n",
    "    round(avg(memory_in_mb), 4) as avg_memory_in_mb,\n",
    "    round(median(memory_in_mb), 4) as median_memory_in_mb\n",
    "FROM read_json('data/benchmark_results.json')\n",
    "GROUP BY 1\n",
    "ORDER BY median_memory_in_mb \n",
    "\"\"\")"
   ]
  },
  {
   "cell_type": "code",
   "execution_count": 10,
   "id": "461877d4",
   "metadata": {},
   "outputs": [
    {
     "data": {
      "text/plain": [
       "┌─────────────┬───────────────────┬─────────────┬──────────────┬────────────────────────┐\n",
       "│ num_players │     function      │  min_time   │   max_time   │     avg_time_in_s      │\n",
       "│    int64    │      varchar      │   double    │    double    │         double         │\n",
       "├─────────────┼───────────────────┼─────────────┼──────────────┼────────────────────────┤\n",
       "│          23 │ manual_flatten    │  2.1334e-05 │   2.1334e-05 │             2.1334e-05 │\n",
       "│          23 │ flatdict_flatten  │  2.1334e-05 │   0.00010425 │             6.2792e-05 │\n",
       "│         100 │ manual_flatten    │  9.3084e-05 │   9.3084e-05 │             9.3084e-05 │\n",
       "│          23 │ generator_flatten │  2.1334e-05 │  0.000502708 │ 0.00020943066666666667 │\n",
       "│         100 │ flatdict_flatten  │  9.3084e-05 │  0.000417708 │ 0.00025539599999999997 │\n",
       "│         100 │ generator_flatten │  9.3084e-05 │   0.00169725 │            0.000736014 │\n",
       "│        1000 │ manual_flatten    │ 0.001213833 │  0.001213833 │            0.001213833 │\n",
       "│          23 │ pandas_flatten    │  2.1334e-05 │  0.005495208 │            0.001530875 │\n",
       "│        1000 │ flatdict_flatten  │ 0.001213833 │  0.004040375 │            0.002627104 │\n",
       "│         100 │ pandas_flatten    │  9.3084e-05 │    0.0086115 │           0.0027048855 │\n",
       "│           · │      ·            │       ·     │        ·     │                 ·      │\n",
       "│           · │      ·            │       ·     │        ·     │                 ·      │\n",
       "│           · │      ·            │       ·     │        ·     │                 ·      │\n",
       "│          23 │ dlt_flatten       │  2.1334e-05 │  0.215407375 │            0.044306175 │\n",
       "│       10000 │ generator_flatten │ 0.011277417 │  0.161067959 │            0.070787431 │\n",
       "│        1000 │ dlt_flatten       │ 0.001213833 │  0.243003042 │            0.071820475 │\n",
       "│      100000 │ manual_flatten    │ 0.117726667 │  0.117726667 │            0.117726667 │\n",
       "│      100000 │ flatdict_flatten  │ 0.117726667 │  0.413267833 │    0.26549724999999996 │\n",
       "│       10000 │ pandas_flatten    │ 0.011277417 │  0.999539708 │    0.30297550025000003 │\n",
       "│       10000 │ dlt_flatten       │ 0.011277417 │  2.088164667 │           0.6600133336 │\n",
       "│      100000 │ generator_flatten │ 0.117726667 │  1.676774625 │     0.7359230416666667 │\n",
       "│      100000 │ pandas_flatten    │ 0.117726667 │ 12.942764541 │     3.7876334165000003 │\n",
       "│      100000 │ dlt_flatten       │ 0.117726667 │ 21.370072458 │      7.304121224799999 │\n",
       "├─────────────┴───────────────────┴─────────────┴──────────────┴────────────────────────┤\n",
       "│ 25 rows (20 shown)                                                          5 columns │\n",
       "└───────────────────────────────────────────────────────────────────────────────────────┘"
      ]
     },
     "execution_count": 10,
     "metadata": {},
     "output_type": "execute_result"
    }
   ],
   "source": [
    "duckdb.sql(\"\"\"\n",
    "SELECT \n",
    "    num_players,\n",
    "    function,\n",
    "    min(time_in_s) OVER(PARTITION BY num_players ORDER BY time_in_s ) as min_time,\n",
    "    max(time_in_s) OVER(PARTITION BY num_players ORDER BY time_in_s ) as max_time,\n",
    "    avg(time_in_s) OVER(PARTITION BY num_players ORDER BY time_in_s ) as avg_time_in_s,\n",
    "FROM read_json('data/benchmark_results.json')\n",
    "ORDER BY avg_time_in_s;\n",
    "\"\"\")"
   ]
  },
  {
   "cell_type": "markdown",
   "id": "e366088c",
   "metadata": {},
   "source": [
    "---"
   ]
  },
  {
   "cell_type": "markdown",
   "id": "ec7270dd",
   "metadata": {},
   "source": [
    "# Analyse the loop style"
   ]
  },
  {
   "cell_type": "code",
   "execution_count": 15,
   "id": "57d21ada",
   "metadata": {},
   "outputs": [
    {
     "data": {
      "text/plain": [
       "┌─────────────────────────────────────┬───────────────┬──────────────────┬──────────────────┬───────────────┐\n",
       "│              function               │ avg_time_in_s │ median_time_in_s │ avg_memory_in_mb │ median_memory │\n",
       "│               varchar               │    double     │      double      │      double      │    double     │\n",
       "├─────────────────────────────────────┼───────────────┼──────────────────┼──────────────────┼───────────────┤\n",
       "│ flatdict_flatten_gen_comprehension  │         0.119 │           0.0047 │          18.6758 │         0.847 │\n",
       "│ flatdict_flatten_list_comprehension │        0.1341 │           0.0055 │          18.6754 │        0.8465 │\n",
       "│ flatdict_flatten                    │        5.1494 │           0.2287 │          42.1424 │        1.9194 │\n",
       "└─────────────────────────────────────┴───────────────┴──────────────────┴──────────────────┴───────────────┘"
      ]
     },
     "execution_count": 15,
     "metadata": {},
     "output_type": "execute_result"
    }
   ],
   "source": [
    "duckdb.sql(\"\"\"\n",
    "SELECT \n",
    "    function,\n",
    "    round(avg(time_in_s),4) as avg_time_in_s,\n",
    "    round(median(time_in_s),4) as median_time_in_s,\n",
    "    round(avg(memory_in_mb), 4) as avg_memory_in_mb,\n",
    "    round(median(memory_in_mb), 4) as median_memory\n",
    "\n",
    "FROM read_json('data/compare_loops_results.json')\n",
    "GROUP BY 1\n",
    "ORDER BY avg_time_in_s \n",
    "\"\"\")"
   ]
  },
  {
   "cell_type": "code",
   "execution_count": null,
   "id": "86573027",
   "metadata": {},
   "outputs": [],
   "source": []
  }
 ],
 "metadata": {
  "kernelspec": {
   "display_name": ".venv",
   "language": "python",
   "name": "python3"
  },
  "language_info": {
   "codemirror_mode": {
    "name": "ipython",
    "version": 3
   },
   "file_extension": ".py",
   "mimetype": "text/x-python",
   "name": "python",
   "nbconvert_exporter": "python",
   "pygments_lexer": "ipython3",
   "version": "3.13.5"
  }
 },
 "nbformat": 4,
 "nbformat_minor": 5
}
