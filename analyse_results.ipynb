{
 "cells": [
  {
   "cell_type": "markdown",
   "id": "994c4cc1",
   "metadata": {},
   "source": [
    "# Analyse results of benchmark\n",
    "\n",
    "And because i love it, we will do it using SQL & duckdb, yeah!"
   ]
  },
  {
   "cell_type": "code",
   "execution_count": 2,
   "id": "b8ded69f",
   "metadata": {},
   "outputs": [],
   "source": [
    "import duckdb"
   ]
  },
  {
   "cell_type": "code",
   "execution_count": 3,
   "id": "1c9edde1",
   "metadata": {},
   "outputs": [
    {
     "data": {
      "text/plain": [
       "┌───────────────────┬────────────────────┬────────────────────┐\n",
       "│     function      │   avg_time_in_s    │  avg_memory_in_mb  │\n",
       "│      varchar      │       double       │       double       │\n",
       "├───────────────────┼────────────────────┼────────────────────┤\n",
       "│ manual_flatten    │        0.026066467 │         18.6657568 │\n",
       "│ flatdict_flatten  │       0.0915694166 │          0.1801168 │\n",
       "│ generator_flatten │       0.3713328834 │ 17.252613399999998 │\n",
       "│ pandas_flatten    │ 2.8101268414000002 │         81.4832046 │\n",
       "│ dlt_flatten       │        4.793875925 │           0.974562 │\n",
       "└───────────────────┴────────────────────┴────────────────────┘"
      ]
     },
     "execution_count": 3,
     "metadata": {},
     "output_type": "execute_result"
    }
   ],
   "source": [
    "duckdb.sql(\"\"\"\n",
    "SELECT \n",
    "    function,\n",
    "    avg(time_in_s)  as avg_time_in_s,\n",
    "    avg(memory_in_mb) as avg_memory_in_mb\n",
    "FROM read_json('data/benchmark_results.json')\n",
    "GROUP BY 1\n",
    "ORDER BY avg_time_in_s \n",
    "\"\"\")"
   ]
  },
  {
   "cell_type": "code",
   "execution_count": 4,
   "id": "c8fdaa32",
   "metadata": {},
   "outputs": [
    {
     "data": {
      "text/plain": [
       "┌───────────────────┬────────────────────┬────────────────────┐\n",
       "│     function      │   avg_time_in_s    │  avg_memory_in_mb  │\n",
       "│      varchar      │       double       │       double       │\n",
       "├───────────────────┼────────────────────┼────────────────────┤\n",
       "│ flatdict_flatten  │       0.0915694166 │          0.1801168 │\n",
       "│ dlt_flatten       │        4.793875925 │           0.974562 │\n",
       "│ generator_flatten │       0.3713328834 │ 17.252613399999998 │\n",
       "│ manual_flatten    │        0.026066467 │         18.6657568 │\n",
       "│ pandas_flatten    │ 2.8101268414000002 │         81.4832046 │\n",
       "└───────────────────┴────────────────────┴────────────────────┘"
      ]
     },
     "execution_count": 4,
     "metadata": {},
     "output_type": "execute_result"
    }
   ],
   "source": [
    "duckdb.sql(\"\"\"\n",
    "SELECT \n",
    "    function,\n",
    "    avg(time_in_s)  as avg_time_in_s,\n",
    "    avg(memory_in_mb) as avg_memory_in_mb\n",
    "FROM read_json('data/benchmark_results.json')\n",
    "GROUP BY 1\n",
    "ORDER BY avg_memory_in_mb \n",
    "\"\"\")"
   ]
  },
  {
   "cell_type": "code",
   "execution_count": 10,
   "id": "461877d4",
   "metadata": {},
   "outputs": [
    {
     "data": {
      "text/plain": [
       "┌─────────────┬───────────────────┬─────────────┬──────────────┬────────────────────────┐\n",
       "│ num_players │     function      │  min_time   │   max_time   │     avg_time_in_s      │\n",
       "│    int64    │      varchar      │   double    │    double    │         double         │\n",
       "├─────────────┼───────────────────┼─────────────┼──────────────┼────────────────────────┤\n",
       "│          23 │ manual_flatten    │  2.1334e-05 │   2.1334e-05 │             2.1334e-05 │\n",
       "│          23 │ flatdict_flatten  │  2.1334e-05 │   0.00010425 │             6.2792e-05 │\n",
       "│         100 │ manual_flatten    │  9.3084e-05 │   9.3084e-05 │             9.3084e-05 │\n",
       "│          23 │ generator_flatten │  2.1334e-05 │  0.000502708 │ 0.00020943066666666667 │\n",
       "│         100 │ flatdict_flatten  │  9.3084e-05 │  0.000417708 │ 0.00025539599999999997 │\n",
       "│         100 │ generator_flatten │  9.3084e-05 │   0.00169725 │            0.000736014 │\n",
       "│        1000 │ manual_flatten    │ 0.001213833 │  0.001213833 │            0.001213833 │\n",
       "│          23 │ pandas_flatten    │  2.1334e-05 │  0.005495208 │            0.001530875 │\n",
       "│        1000 │ flatdict_flatten  │ 0.001213833 │  0.004040375 │            0.002627104 │\n",
       "│         100 │ pandas_flatten    │  9.3084e-05 │    0.0086115 │           0.0027048855 │\n",
       "│           · │      ·            │       ·     │        ·     │                 ·      │\n",
       "│           · │      ·            │       ·     │        ·     │                 ·      │\n",
       "│           · │      ·            │       ·     │        ·     │                 ·      │\n",
       "│          23 │ dlt_flatten       │  2.1334e-05 │  0.215407375 │            0.044306175 │\n",
       "│       10000 │ generator_flatten │ 0.011277417 │  0.161067959 │            0.070787431 │\n",
       "│        1000 │ dlt_flatten       │ 0.001213833 │  0.243003042 │            0.071820475 │\n",
       "│      100000 │ manual_flatten    │ 0.117726667 │  0.117726667 │            0.117726667 │\n",
       "│      100000 │ flatdict_flatten  │ 0.117726667 │  0.413267833 │    0.26549724999999996 │\n",
       "│       10000 │ pandas_flatten    │ 0.011277417 │  0.999539708 │    0.30297550025000003 │\n",
       "│       10000 │ dlt_flatten       │ 0.011277417 │  2.088164667 │           0.6600133336 │\n",
       "│      100000 │ generator_flatten │ 0.117726667 │  1.676774625 │     0.7359230416666667 │\n",
       "│      100000 │ pandas_flatten    │ 0.117726667 │ 12.942764541 │     3.7876334165000003 │\n",
       "│      100000 │ dlt_flatten       │ 0.117726667 │ 21.370072458 │      7.304121224799999 │\n",
       "├─────────────┴───────────────────┴─────────────┴──────────────┴────────────────────────┤\n",
       "│ 25 rows (20 shown)                                                          5 columns │\n",
       "└───────────────────────────────────────────────────────────────────────────────────────┘"
      ]
     },
     "execution_count": 10,
     "metadata": {},
     "output_type": "execute_result"
    }
   ],
   "source": [
    "duckdb.sql(\"\"\"\n",
    "SELECT \n",
    "    num_players,\n",
    "    function,\n",
    "    min(time_in_s) OVER(PARTITION BY num_players ORDER BY time_in_s ) as min_time,\n",
    "    max(time_in_s) OVER(PARTITION BY num_players ORDER BY time_in_s ) as max_time,\n",
    "    avg(time_in_s) OVER(PARTITION BY num_players ORDER BY time_in_s ) as avg_time_in_s,\n",
    "FROM read_json('data/benchmark_results.json')\n",
    "ORDER BY avg_time_in_s;\n",
    "\"\"\")"
   ]
  },
  {
   "cell_type": "code",
   "execution_count": null,
   "id": "e366088c",
   "metadata": {},
   "outputs": [],
   "source": []
  }
 ],
 "metadata": {
  "kernelspec": {
   "display_name": ".venv",
   "language": "python",
   "name": "python3"
  },
  "language_info": {
   "codemirror_mode": {
    "name": "ipython",
    "version": 3
   },
   "file_extension": ".py",
   "mimetype": "text/x-python",
   "name": "python",
   "nbconvert_exporter": "python",
   "pygments_lexer": "ipython3",
   "version": "3.13.5"
  }
 },
 "nbformat": 4,
 "nbformat_minor": 5
}
